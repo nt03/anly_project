{
 "cells": [
  {
   "cell_type": "code",
   "execution_count": null,
   "metadata": {},
   "outputs": [],
   "source": [
    "import numpy as np\n",
    "import pandas as pd\n",
    "from sklearn import linear_model\n",
    "from sklearn.preprocessing import LabelEncoder\n",
    "from sklearn.neighbors import KNeighborsClassifier\n",
    "from sklearn.neighbors import KNeighborsRegressor\n",
    "from sklearn.metrics import accuracy_score\n",
    "from sklearn.model_selection import train_test_split\n",
    "from sklearn.model_selection import cross_val_score"
   ]
  },
  {
   "cell_type": "code",
   "execution_count": null,
   "metadata": {},
   "outputs": [],
   "source": [
    "# load iris dataset\n",
    "data = pd.read_csv('~/Google/19Spring/ANLY501ASL/GroupProject/cleaned_merged_data5.csv')\n",
    "data.head()"
   ]
  },
  {
   "cell_type": "code",
   "execution_count": null,
   "metadata": {},
   "outputs": [],
   "source": [
    "# create feature matrix and target array\n",
    "X = data.drop([\"elapsed_workdays\",\"GroupName\",\"TaskName\",\"ssl\"], axis = 1)\n",
    "y = data[\"elapsed_workdays\"]"
   ]
  },
  {
   "cell_type": "code",
   "execution_count": null,
   "metadata": {},
   "outputs": [],
   "source": [
    "# Recode EYB because the vif is too high(around 86)\n",
    "X.EYB[X.EYB == 1908] = 1900\n",
    "X.EYB[X.EYB == 1917] = 1910\n",
    "X.EYB[X.EYB == 1921|1922|1927|1928] = 1920\n",
    "X.EYB[X.EYB == 1932|1934|1935|1936|1937|1939] = 1930\n",
    "X.EYB[X.EYB == 1942|1944|1945|1946|1947|1948|1949] = 1940\n",
    "X.EYB[X.EYB == 1951|1952|1953|1954|1955|1956|1957|1958|1959] = 1950\n",
    "X.EYB[X.EYB == 1961|1962|1963|1964|1965|1966|1967|1968|1969] = 1960\n",
    "X.EYB[X.EYB == 1971|1972|1973|1974|1975|1976|1977|1978|1979] = 1970\n",
    "X.EYB[X.EYB == 1981|1982|1983|1984|1985|1986|1987|1988|1989] = 1980\n",
    "X.EYB[X.EYB == 1991|1992|1993|1994|1995|1996|1997|1998|1999] = 1990\n",
    "X.EYB[X.EYB == 2001|2002|2003|2004|2005|2006|2007|2008|2009] = 2000\n",
    "X.EYB[X.EYB == 2011|2012|2013|2014|2015|2016|2017|2018] = 2010"
   ]
  },
  {
   "cell_type": "code",
   "execution_count": null,
   "metadata": {},
   "outputs": [],
   "source": [
    "# Encode categorical variables\n",
    "D = ['alias', 'permit_cap_status', 'Project_Status', 'RC_ReviewStatus','RC_HowAssigned',\n",
    "      'job_class', 'AGENCY','review_group', 'use_type', 'permit_type', 'building_construction_type',\n",
    "      'QUALIFIED','use_change', 'num_units_change', 'gfa_change']\n",
    "\n",
    "lb = LabelEncoder()\n",
    "\n",
    "for i in D:\n",
    "    X[i] = lb.fit_transform(X[i])\n",
    "    \n",
    "X.head()"
   ]
  },
  {
   "cell_type": "markdown",
   "metadata": {},
   "source": [
    "### OLS"
   ]
  },
  {
   "cell_type": "code",
   "execution_count": null,
   "metadata": {},
   "outputs": [],
   "source": [
    "OLS = linear_model.LinearRegression()\n",
    "OLS.fit(X, y)\n",
    "print(\"sklearn.linear_model\")\n",
    "print(OLS.intercept_)\n",
    "print(OLS.coef_)\n",
    "cross_val_score(OLS, X, y, cv = 10).mean()"
   ]
  },
  {
   "cell_type": "markdown",
   "metadata": {},
   "source": [
    "### KNN Regressor"
   ]
  },
  {
   "cell_type": "code",
   "execution_count": null,
   "metadata": {},
   "outputs": [],
   "source": [
    "# Try k = 5\n",
    "k5 = KNeighborsRegressor(n_neighbors = 5)\n",
    "k5.fit(X, y)\n",
    "cross_val_score(k5, X, y, cv = 10).mean()"
   ]
  },
  {
   "cell_type": "code",
   "execution_count": null,
   "metadata": {},
   "outputs": [],
   "source": [
    "# Try k = 6\n",
    "k6 = KNeighborsClassifier(n_neighbors = 6)\n",
    "k6.fit(X, y)\n",
    "cross_val_score(k6, X, y, cv = 10).mean()"
   ]
  },
  {
   "cell_type": "code",
   "execution_count": null,
   "metadata": {},
   "outputs": [],
   "source": [
    "# Try k = 7\n",
    "k7 = KNeighborsClassifier(n_neighbors = 7)\n",
    "k7.fit(X, y)\n",
    "cross_val_score(k7, X, y, cv = 10).mean()"
   ]
  },
  {
   "cell_type": "code",
   "execution_count": null,
   "metadata": {},
   "outputs": [],
   "source": [
    "# Try k = 8\n",
    "k8 = KNeighborsClassifier(n_neighbors = 8)\n",
    "k8.fit(X, y)\n",
    "cross_val_score(k8, X, y, cv = 10).mean()"
   ]
  },
  {
   "cell_type": "code",
   "execution_count": null,
   "metadata": {},
   "outputs": [],
   "source": [
    "# Try k = 9\n",
    "k9 = KNeighborsClassifier(n_neighbors = 9)\n",
    "k9.fit(X, y)\n",
    "cross_val_score(k9, X, y, cv = 10).mean()"
   ]
  },
  {
   "cell_type": "code",
   "execution_count": null,
   "metadata": {},
   "outputs": [],
   "source": [
    "# Try k = 10\n",
    "k10 = KNeighborsClassifier(n_neighbors = 10)\n",
    "k10.fit(X, y)\n",
    "cross_val_score(k10, X, y, cv = 10).mean()"
   ]
  },
  {
   "cell_type": "code",
   "execution_count": null,
   "metadata": {},
   "outputs": [],
   "source": [
    "# Try k = 1\n",
    "k1 = KNeighborsClassifier(n_neighbors = 1)\n",
    "k1.fit(X, y)\n",
    "cross_val_score(k1, X, y, cv = 10).mean()"
   ]
  },
  {
   "cell_type": "code",
   "execution_count": null,
   "metadata": {},
   "outputs": [],
   "source": []
  }
 ],
 "metadata": {
  "kernelspec": {
   "display_name": "Python 3",
   "language": "python",
   "name": "python3"
  },
  "language_info": {
   "codemirror_mode": {
    "name": "ipython",
    "version": 3
   },
   "file_extension": ".py",
   "mimetype": "text/x-python",
   "name": "python",
   "nbconvert_exporter": "python",
   "pygments_lexer": "ipython3",
   "version": "3.6.8"
  }
 },
 "nbformat": 4,
 "nbformat_minor": 2
}
