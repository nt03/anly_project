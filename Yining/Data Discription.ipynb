{
 "cells": [
  {
   "cell_type": "code",
   "execution_count": 50,
   "metadata": {},
   "outputs": [],
   "source": [
    "import pandas as pd\n",
    "import numpy as np\n",
    "import matplotlib.pyplot as plt"
   ]
  },
  {
   "cell_type": "code",
   "execution_count": 4,
   "metadata": {},
   "outputs": [
    {
     "data": {
      "text/html": [
       "<div>\n",
       "<style scoped>\n",
       "    .dataframe tbody tr th:only-of-type {\n",
       "        vertical-align: middle;\n",
       "    }\n",
       "\n",
       "    .dataframe tbody tr th {\n",
       "        vertical-align: top;\n",
       "    }\n",
       "\n",
       "    .dataframe thead th {\n",
       "        text-align: right;\n",
       "    }\n",
       "</style>\n",
       "<table border=\"1\" class=\"dataframe\">\n",
       "  <thead>\n",
       "    <tr style=\"text-align: right;\">\n",
       "      <th></th>\n",
       "      <th>alias</th>\n",
       "      <th>permit_cap_status</th>\n",
       "      <th>Project_Status</th>\n",
       "      <th>ReviewCycle</th>\n",
       "      <th>TaskName</th>\n",
       "      <th>GroupName</th>\n",
       "      <th>elapsed_workdays</th>\n",
       "      <th>RC_ReviewStatus</th>\n",
       "      <th>RC_HowAssigned</th>\n",
       "      <th>job_class</th>\n",
       "      <th>...</th>\n",
       "      <th>Energy Review</th>\n",
       "      <th>Fire Review</th>\n",
       "      <th>Green Review</th>\n",
       "      <th>Mechanical Review</th>\n",
       "      <th>Plumbing Review</th>\n",
       "      <th>Structural Review</th>\n",
       "      <th>Zoning Review</th>\n",
       "      <th>use_change</th>\n",
       "      <th>num_units_change</th>\n",
       "      <th>gfa_change</th>\n",
       "    </tr>\n",
       "  </thead>\n",
       "  <tbody>\n",
       "    <tr>\n",
       "      <th>0</th>\n",
       "      <td>Alteration and Repair Permit</td>\n",
       "      <td>Permit Issued</td>\n",
       "      <td>Approved</td>\n",
       "      <td>1.0</td>\n",
       "      <td>DepartmentReview</td>\n",
       "      <td>DOEE</td>\n",
       "      <td>7.0</td>\n",
       "      <td>Assign Only</td>\n",
       "      <td>FirstInGroup</td>\n",
       "      <td>E</td>\n",
       "      <td>...</td>\n",
       "      <td>0</td>\n",
       "      <td>0</td>\n",
       "      <td>0</td>\n",
       "      <td>0</td>\n",
       "      <td>0</td>\n",
       "      <td>0</td>\n",
       "      <td>0</td>\n",
       "      <td>True</td>\n",
       "      <td>True</td>\n",
       "      <td>False</td>\n",
       "    </tr>\n",
       "    <tr>\n",
       "      <th>1</th>\n",
       "      <td>Alteration and Repair Permit</td>\n",
       "      <td>Permit Issued</td>\n",
       "      <td>Approved</td>\n",
       "      <td>1.0</td>\n",
       "      <td>DepartmentReview</td>\n",
       "      <td>Electrical Review</td>\n",
       "      <td>3.0</td>\n",
       "      <td>Assign Only</td>\n",
       "      <td>FirstInGroup</td>\n",
       "      <td>E</td>\n",
       "      <td>...</td>\n",
       "      <td>0</td>\n",
       "      <td>0</td>\n",
       "      <td>0</td>\n",
       "      <td>0</td>\n",
       "      <td>0</td>\n",
       "      <td>0</td>\n",
       "      <td>0</td>\n",
       "      <td>True</td>\n",
       "      <td>True</td>\n",
       "      <td>False</td>\n",
       "    </tr>\n",
       "    <tr>\n",
       "      <th>2</th>\n",
       "      <td>Alteration and Repair Permit</td>\n",
       "      <td>Permit Issued</td>\n",
       "      <td>Approved</td>\n",
       "      <td>1.0</td>\n",
       "      <td>DepartmentReview</td>\n",
       "      <td>Energy Review</td>\n",
       "      <td>2.0</td>\n",
       "      <td>Assign Only</td>\n",
       "      <td>FirstInGroup</td>\n",
       "      <td>E</td>\n",
       "      <td>...</td>\n",
       "      <td>1</td>\n",
       "      <td>0</td>\n",
       "      <td>0</td>\n",
       "      <td>0</td>\n",
       "      <td>0</td>\n",
       "      <td>0</td>\n",
       "      <td>0</td>\n",
       "      <td>True</td>\n",
       "      <td>True</td>\n",
       "      <td>False</td>\n",
       "    </tr>\n",
       "    <tr>\n",
       "      <th>3</th>\n",
       "      <td>Alteration and Repair Permit</td>\n",
       "      <td>Permit Issued</td>\n",
       "      <td>Approved</td>\n",
       "      <td>3.0</td>\n",
       "      <td>DepartmentReview</td>\n",
       "      <td>Energy Review</td>\n",
       "      <td>19.0</td>\n",
       "      <td>Approved</td>\n",
       "      <td>Individual</td>\n",
       "      <td>E</td>\n",
       "      <td>...</td>\n",
       "      <td>1</td>\n",
       "      <td>0</td>\n",
       "      <td>0</td>\n",
       "      <td>0</td>\n",
       "      <td>0</td>\n",
       "      <td>0</td>\n",
       "      <td>0</td>\n",
       "      <td>True</td>\n",
       "      <td>True</td>\n",
       "      <td>False</td>\n",
       "    </tr>\n",
       "    <tr>\n",
       "      <th>4</th>\n",
       "      <td>Alteration and Repair Permit</td>\n",
       "      <td>Permit Issued</td>\n",
       "      <td>Approved</td>\n",
       "      <td>3.0</td>\n",
       "      <td>DepartmentReview</td>\n",
       "      <td>Electrical Review</td>\n",
       "      <td>6.0</td>\n",
       "      <td>Approved</td>\n",
       "      <td>Individual</td>\n",
       "      <td>E</td>\n",
       "      <td>...</td>\n",
       "      <td>0</td>\n",
       "      <td>0</td>\n",
       "      <td>0</td>\n",
       "      <td>0</td>\n",
       "      <td>0</td>\n",
       "      <td>0</td>\n",
       "      <td>0</td>\n",
       "      <td>True</td>\n",
       "      <td>True</td>\n",
       "      <td>False</td>\n",
       "    </tr>\n",
       "  </tbody>\n",
       "</table>\n",
       "<p>5 rows × 38 columns</p>\n",
       "</div>"
      ],
      "text/plain": [
       "                          alias permit_cap_status Project_Status  ReviewCycle  \\\n",
       "0  Alteration and Repair Permit     Permit Issued       Approved          1.0   \n",
       "1  Alteration and Repair Permit     Permit Issued       Approved          1.0   \n",
       "2  Alteration and Repair Permit     Permit Issued       Approved          1.0   \n",
       "3  Alteration and Repair Permit     Permit Issued       Approved          3.0   \n",
       "4  Alteration and Repair Permit     Permit Issued       Approved          3.0   \n",
       "\n",
       "           TaskName          GroupName  elapsed_workdays RC_ReviewStatus  \\\n",
       "0  DepartmentReview               DOEE               7.0     Assign Only   \n",
       "1  DepartmentReview  Electrical Review               3.0     Assign Only   \n",
       "2  DepartmentReview      Energy Review               2.0     Assign Only   \n",
       "3  DepartmentReview      Energy Review              19.0        Approved   \n",
       "4  DepartmentReview  Electrical Review               6.0        Approved   \n",
       "\n",
       "  RC_HowAssigned job_class  ... Energy Review  Fire Review  Green Review  \\\n",
       "0   FirstInGroup         E  ...             0            0             0   \n",
       "1   FirstInGroup         E  ...             0            0             0   \n",
       "2   FirstInGroup         E  ...             1            0             0   \n",
       "3     Individual         E  ...             1            0             0   \n",
       "4     Individual         E  ...             0            0             0   \n",
       "\n",
       "  Mechanical Review Plumbing Review Structural Review Zoning Review  \\\n",
       "0                 0               0                 0             0   \n",
       "1                 0               0                 0             0   \n",
       "2                 0               0                 0             0   \n",
       "3                 0               0                 0             0   \n",
       "4                 0               0                 0             0   \n",
       "\n",
       "  use_change  num_units_change gfa_change  \n",
       "0       True              True      False  \n",
       "1       True              True      False  \n",
       "2       True              True      False  \n",
       "3       True              True      False  \n",
       "4       True              True      False  \n",
       "\n",
       "[5 rows x 38 columns]"
      ]
     },
     "execution_count": 4,
     "metadata": {},
     "output_type": "execute_result"
    }
   ],
   "source": [
    "clean = pd.read_csv('~/Google/19Spring/ANLY501ASL/GroupProject/cleaned_merged_data5.csv')\n",
    "clean.head()"
   ]
  },
  {
   "cell_type": "code",
   "execution_count": 3,
   "metadata": {},
   "outputs": [
    {
     "name": "stderr",
     "output_type": "stream",
     "text": [
      "/anaconda3/lib/python3.6/site-packages/IPython/core/interactiveshell.py:3049: DtypeWarning: Columns (37,39,40,41,42) have mixed types. Specify dtype option on import or set low_memory=False.\n",
      "  interactivity=interactivity, compiler=compiler, result=result)\n"
     ]
    },
    {
     "data": {
      "text/html": [
       "<div>\n",
       "<style scoped>\n",
       "    .dataframe tbody tr th:only-of-type {\n",
       "        vertical-align: middle;\n",
       "    }\n",
       "\n",
       "    .dataframe tbody tr th {\n",
       "        vertical-align: top;\n",
       "    }\n",
       "\n",
       "    .dataframe thead th {\n",
       "        text-align: right;\n",
       "    }\n",
       "</style>\n",
       "<table border=\"1\" class=\"dataframe\">\n",
       "  <thead>\n",
       "    <tr style=\"text-align: right;\">\n",
       "      <th></th>\n",
       "      <th>As_Of_Date</th>\n",
       "      <th>alias</th>\n",
       "      <th>permit_cap_status</th>\n",
       "      <th>pdox_b1_id</th>\n",
       "      <th>Project_Status</th>\n",
       "      <th>Project_Description</th>\n",
       "      <th>Project_CreateDate</th>\n",
       "      <th>ReviewCycle</th>\n",
       "      <th>TaskName</th>\n",
       "      <th>TaskStatus</th>\n",
       "      <th>...</th>\n",
       "      <th>existing_number_units</th>\n",
       "      <th>present_gfa</th>\n",
       "      <th>create_review</th>\n",
       "      <th>ssl</th>\n",
       "      <th>perm_id</th>\n",
       "      <th>RC_assignedBy_anon</th>\n",
       "      <th>UpdatedByEmail_anon</th>\n",
       "      <th>applicant_anon</th>\n",
       "      <th>owner_name_anon</th>\n",
       "      <th>NAME_anon</th>\n",
       "    </tr>\n",
       "  </thead>\n",
       "  <tbody>\n",
       "    <tr>\n",
       "      <th>0</th>\n",
       "      <td>35:12.1</td>\n",
       "      <td>Addition Alteration Repair Permit</td>\n",
       "      <td>Review In Process</td>\n",
       "      <td>B1502871</td>\n",
       "      <td>Approved</td>\n",
       "      <td>Addition Alteration Repair Permit - 1110 6TH S...</td>\n",
       "      <td>00:00.0</td>\n",
       "      <td>1.0</td>\n",
       "      <td>ReviewQA</td>\n",
       "      <td>Complete</td>\n",
       "      <td>...</td>\n",
       "      <td>1.0</td>\n",
       "      <td>0.0</td>\n",
       "      <td>1346</td>\n",
       "      <td>0449    0049</td>\n",
       "      <td>6000001</td>\n",
       "      <td>NaN</td>\n",
       "      <td>EMID 2</td>\n",
       "      <td>PP 6034</td>\n",
       "      <td>PP 1</td>\n",
       "      <td>PP 4610</td>\n",
       "    </tr>\n",
       "    <tr>\n",
       "      <th>1</th>\n",
       "      <td>35:12.1</td>\n",
       "      <td>Addition Alteration Repair Permit</td>\n",
       "      <td>Review In Process</td>\n",
       "      <td>B1502871</td>\n",
       "      <td>Approved</td>\n",
       "      <td>Addition Alteration Repair Permit - 1110 6TH S...</td>\n",
       "      <td>00:00.0</td>\n",
       "      <td>0.0</td>\n",
       "      <td>ApplicantUpload</td>\n",
       "      <td>Complete</td>\n",
       "      <td>...</td>\n",
       "      <td>1.0</td>\n",
       "      <td>0.0</td>\n",
       "      <td>1346</td>\n",
       "      <td>0449    0049</td>\n",
       "      <td>6000002</td>\n",
       "      <td>NaN</td>\n",
       "      <td>EMID 2</td>\n",
       "      <td>PP 6034</td>\n",
       "      <td>PP 1</td>\n",
       "      <td>PP 4610</td>\n",
       "    </tr>\n",
       "    <tr>\n",
       "      <th>2</th>\n",
       "      <td>35:12.1</td>\n",
       "      <td>Addition Alteration Repair Permit</td>\n",
       "      <td>Review In Process</td>\n",
       "      <td>B1502871</td>\n",
       "      <td>Approved</td>\n",
       "      <td>Addition Alteration Repair Permit - 1110 6TH S...</td>\n",
       "      <td>00:00.0</td>\n",
       "      <td>0.0</td>\n",
       "      <td>PreScreenReview</td>\n",
       "      <td>Complete</td>\n",
       "      <td>...</td>\n",
       "      <td>1.0</td>\n",
       "      <td>0.0</td>\n",
       "      <td>1346</td>\n",
       "      <td>0449    0049</td>\n",
       "      <td>6000003</td>\n",
       "      <td>NaN</td>\n",
       "      <td>EMID 2</td>\n",
       "      <td>PP 6034</td>\n",
       "      <td>PP 1</td>\n",
       "      <td>PP 4610</td>\n",
       "    </tr>\n",
       "    <tr>\n",
       "      <th>3</th>\n",
       "      <td>35:12.1</td>\n",
       "      <td>Addition Alteration Repair Permit</td>\n",
       "      <td>Review In Process</td>\n",
       "      <td>B1502871</td>\n",
       "      <td>Approved</td>\n",
       "      <td>Addition Alteration Repair Permit - 1110 6TH S...</td>\n",
       "      <td>00:00.0</td>\n",
       "      <td>0.0</td>\n",
       "      <td>BeginReview</td>\n",
       "      <td>Complete</td>\n",
       "      <td>...</td>\n",
       "      <td>1.0</td>\n",
       "      <td>0.0</td>\n",
       "      <td>1346</td>\n",
       "      <td>0449    0049</td>\n",
       "      <td>6000004</td>\n",
       "      <td>NaN</td>\n",
       "      <td>EMID 2</td>\n",
       "      <td>PP 6034</td>\n",
       "      <td>PP 1</td>\n",
       "      <td>PP 4610</td>\n",
       "    </tr>\n",
       "    <tr>\n",
       "      <th>4</th>\n",
       "      <td>35:12.1</td>\n",
       "      <td>Addition Alteration Repair Permit</td>\n",
       "      <td>Review In Process</td>\n",
       "      <td>B1502871</td>\n",
       "      <td>Approved</td>\n",
       "      <td>Addition Alteration Repair Permit - 1110 6TH S...</td>\n",
       "      <td>00:00.0</td>\n",
       "      <td>1.0</td>\n",
       "      <td>DepartmentReview</td>\n",
       "      <td>Complete</td>\n",
       "      <td>...</td>\n",
       "      <td>1.0</td>\n",
       "      <td>0.0</td>\n",
       "      <td>1346</td>\n",
       "      <td>0449    0049</td>\n",
       "      <td>6000005</td>\n",
       "      <td>EMID 2</td>\n",
       "      <td>EMID 3</td>\n",
       "      <td>PP 6034</td>\n",
       "      <td>PP 1</td>\n",
       "      <td>PP 4611</td>\n",
       "    </tr>\n",
       "  </tbody>\n",
       "</table>\n",
       "<p>5 rows × 54 columns</p>\n",
       "</div>"
      ],
      "text/plain": [
       "  As_Of_Date                              alias  permit_cap_status pdox_b1_id  \\\n",
       "0    35:12.1  Addition Alteration Repair Permit  Review In Process   B1502871   \n",
       "1    35:12.1  Addition Alteration Repair Permit  Review In Process   B1502871   \n",
       "2    35:12.1  Addition Alteration Repair Permit  Review In Process   B1502871   \n",
       "3    35:12.1  Addition Alteration Repair Permit  Review In Process   B1502871   \n",
       "4    35:12.1  Addition Alteration Repair Permit  Review In Process   B1502871   \n",
       "\n",
       "  Project_Status                                Project_Description  \\\n",
       "0       Approved  Addition Alteration Repair Permit - 1110 6TH S...   \n",
       "1       Approved  Addition Alteration Repair Permit - 1110 6TH S...   \n",
       "2       Approved  Addition Alteration Repair Permit - 1110 6TH S...   \n",
       "3       Approved  Addition Alteration Repair Permit - 1110 6TH S...   \n",
       "4       Approved  Addition Alteration Repair Permit - 1110 6TH S...   \n",
       "\n",
       "  Project_CreateDate  ReviewCycle          TaskName TaskStatus  ...  \\\n",
       "0            00:00.0          1.0          ReviewQA   Complete  ...   \n",
       "1            00:00.0          0.0   ApplicantUpload   Complete  ...   \n",
       "2            00:00.0          0.0   PreScreenReview   Complete  ...   \n",
       "3            00:00.0          0.0       BeginReview   Complete  ...   \n",
       "4            00:00.0          1.0  DepartmentReview   Complete  ...   \n",
       "\n",
       "  existing_number_units  present_gfa create_review           ssl  perm_id  \\\n",
       "0                   1.0          0.0          1346  0449    0049  6000001   \n",
       "1                   1.0          0.0          1346  0449    0049  6000002   \n",
       "2                   1.0          0.0          1346  0449    0049  6000003   \n",
       "3                   1.0          0.0          1346  0449    0049  6000004   \n",
       "4                   1.0          0.0          1346  0449    0049  6000005   \n",
       "\n",
       "  RC_assignedBy_anon UpdatedByEmail_anon applicant_anon  owner_name_anon  \\\n",
       "0                NaN              EMID 2        PP 6034             PP 1   \n",
       "1                NaN              EMID 2        PP 6034             PP 1   \n",
       "2                NaN              EMID 2        PP 6034             PP 1   \n",
       "3                NaN              EMID 2        PP 6034             PP 1   \n",
       "4             EMID 2              EMID 3        PP 6034             PP 1   \n",
       "\n",
       "  NAME_anon  \n",
       "0   PP 4610  \n",
       "1   PP 4610  \n",
       "2   PP 4610  \n",
       "3   PP 4610  \n",
       "4   PP 4611  \n",
       "\n",
       "[5 rows x 54 columns]"
      ]
     },
     "execution_count": 3,
     "metadata": {},
     "output_type": "execute_result"
    }
   ],
   "source": [
    "dcra = pd.read_csv('~/Google/19Spring/ANLY501ASL/GroupProject/permit_reviews_an.csv')\n",
    "dcra.head()"
   ]
  },
  {
   "cell_type": "code",
   "execution_count": 38,
   "metadata": {},
   "outputs": [],
   "source": [
    "dcra['elapsed_workdays_30'] = dcra['elapsed_workdays'].apply(lambda x: 1 if x > 30 else 0)\n",
    "dcra['DCRA'] = dcra['AGENCY'].apply(lambda x: 1 if x == 'DCRA' else 0)\n",
    "dcra['Commercial'] = dcra['use_type'].apply(lambda x: 1 if x == 'C' else 0)"
   ]
  },
  {
   "cell_type": "code",
   "execution_count": 39,
   "metadata": {},
   "outputs": [],
   "source": [
    "dcra = dcra.dropna()"
   ]
  },
  {
   "cell_type": "code",
   "execution_count": 41,
   "metadata": {},
   "outputs": [
    {
     "data": {
      "text/plain": [
       "elapsed_workdays       7.701923\n",
       "elapsed_workdays_30    0.018370\n",
       "DCRA                   0.778703\n",
       "Commercial             0.563002\n",
       "ReviewCycle            2.444173\n",
       "Ward                   3.707664\n",
       "dtype: float64"
      ]
     },
     "execution_count": 41,
     "metadata": {},
     "output_type": "execute_result"
    }
   ],
   "source": [
    "dcra[['elapsed_workdays','elapsed_workdays_30','DCRA','Commercial','ReviewCycle','Ward']].mean()"
   ]
  },
  {
   "cell_type": "code",
   "execution_count": 42,
   "metadata": {},
   "outputs": [
    {
     "data": {
      "text/plain": [
       "elapsed_workdays       8.599387\n",
       "elapsed_workdays_30    0.134294\n",
       "DCRA                   0.415150\n",
       "Commercial             0.496050\n",
       "ReviewCycle            0.787104\n",
       "Ward                   1.927773\n",
       "dtype: float64"
      ]
     },
     "execution_count": 42,
     "metadata": {},
     "output_type": "execute_result"
    }
   ],
   "source": [
    "dcra[['elapsed_workdays','elapsed_workdays_30','DCRA','Commercial','ReviewCycle','Ward']].std()"
   ]
  },
  {
   "cell_type": "code",
   "execution_count": 43,
   "metadata": {},
   "outputs": [
    {
     "data": {
      "text/plain": [
       "elapsed_workdays       95.0\n",
       "elapsed_workdays_30     1.0\n",
       "DCRA                    1.0\n",
       "Commercial              1.0\n",
       "ReviewCycle             9.0\n",
       "Ward                    8.0\n",
       "dtype: float64"
      ]
     },
     "execution_count": 43,
     "metadata": {},
     "output_type": "execute_result"
    }
   ],
   "source": [
    "dcra[['elapsed_workdays','elapsed_workdays_30','DCRA','Commercial','ReviewCycle','Ward']].max()"
   ]
  },
  {
   "cell_type": "code",
   "execution_count": 45,
   "metadata": {},
   "outputs": [
    {
     "data": {
      "text/plain": [
       "elapsed_workdays       0.0\n",
       "elapsed_workdays_30    0.0\n",
       "DCRA                   0.0\n",
       "Commercial             0.0\n",
       "ReviewCycle            2.0\n",
       "Ward                   1.0\n",
       "dtype: float64"
      ]
     },
     "execution_count": 45,
     "metadata": {},
     "output_type": "execute_result"
    }
   ],
   "source": [
    "dcra[['elapsed_workdays','elapsed_workdays_30','DCRA','Commercial','ReviewCycle','Ward']].min()"
   ]
  },
  {
   "cell_type": "code",
   "execution_count": 46,
   "metadata": {},
   "outputs": [
    {
     "name": "stderr",
     "output_type": "stream",
     "text": [
      "/anaconda3/lib/python3.6/site-packages/ipykernel_launcher.py:2: SettingWithCopyWarning: \n",
      "A value is trying to be set on a copy of a slice from a DataFrame\n",
      "\n",
      "See the caveats in the documentation: http://pandas.pydata.org/pandas-docs/stable/indexing.html#indexing-view-versus-copy\n",
      "  \n",
      "/anaconda3/lib/python3.6/site-packages/ipykernel_launcher.py:3: SettingWithCopyWarning: \n",
      "A value is trying to be set on a copy of a slice from a DataFrame\n",
      "\n",
      "See the caveats in the documentation: http://pandas.pydata.org/pandas-docs/stable/indexing.html#indexing-view-versus-copy\n",
      "  This is separate from the ipykernel package so we can avoid doing imports until\n",
      "/anaconda3/lib/python3.6/site-packages/ipykernel_launcher.py:4: SettingWithCopyWarning: \n",
      "A value is trying to be set on a copy of a slice from a DataFrame\n",
      "\n",
      "See the caveats in the documentation: http://pandas.pydata.org/pandas-docs/stable/indexing.html#indexing-view-versus-copy\n",
      "  after removing the cwd from sys.path.\n",
      "/anaconda3/lib/python3.6/site-packages/ipykernel_launcher.py:5: SettingWithCopyWarning: \n",
      "A value is trying to be set on a copy of a slice from a DataFrame\n",
      "\n",
      "See the caveats in the documentation: http://pandas.pydata.org/pandas-docs/stable/indexing.html#indexing-view-versus-copy\n",
      "  \"\"\"\n",
      "/anaconda3/lib/python3.6/site-packages/ipykernel_launcher.py:6: SettingWithCopyWarning: \n",
      "A value is trying to be set on a copy of a slice from a DataFrame\n",
      "\n",
      "See the caveats in the documentation: http://pandas.pydata.org/pandas-docs/stable/indexing.html#indexing-view-versus-copy\n",
      "  \n",
      "/anaconda3/lib/python3.6/site-packages/ipykernel_launcher.py:7: SettingWithCopyWarning: \n",
      "A value is trying to be set on a copy of a slice from a DataFrame\n",
      "\n",
      "See the caveats in the documentation: http://pandas.pydata.org/pandas-docs/stable/indexing.html#indexing-view-versus-copy\n",
      "  import sys\n",
      "/anaconda3/lib/python3.6/site-packages/ipykernel_launcher.py:8: SettingWithCopyWarning: \n",
      "A value is trying to be set on a copy of a slice from a DataFrame\n",
      "\n",
      "See the caveats in the documentation: http://pandas.pydata.org/pandas-docs/stable/indexing.html#indexing-view-versus-copy\n",
      "  \n",
      "/anaconda3/lib/python3.6/site-packages/ipykernel_launcher.py:9: SettingWithCopyWarning: \n",
      "A value is trying to be set on a copy of a slice from a DataFrame\n",
      "\n",
      "See the caveats in the documentation: http://pandas.pydata.org/pandas-docs/stable/indexing.html#indexing-view-versus-copy\n",
      "  if __name__ == '__main__':\n",
      "/anaconda3/lib/python3.6/site-packages/ipykernel_launcher.py:10: SettingWithCopyWarning: \n",
      "A value is trying to be set on a copy of a slice from a DataFrame\n",
      "\n",
      "See the caveats in the documentation: http://pandas.pydata.org/pandas-docs/stable/indexing.html#indexing-view-versus-copy\n",
      "  # Remove the CWD from sys.path while we load stuff.\n",
      "/anaconda3/lib/python3.6/site-packages/ipykernel_launcher.py:11: SettingWithCopyWarning: \n",
      "A value is trying to be set on a copy of a slice from a DataFrame\n",
      "\n",
      "See the caveats in the documentation: http://pandas.pydata.org/pandas-docs/stable/indexing.html#indexing-view-versus-copy\n",
      "  # This is added back by InteractiveShellApp.init_path()\n",
      "/anaconda3/lib/python3.6/site-packages/ipykernel_launcher.py:12: SettingWithCopyWarning: \n",
      "A value is trying to be set on a copy of a slice from a DataFrame\n",
      "\n",
      "See the caveats in the documentation: http://pandas.pydata.org/pandas-docs/stable/indexing.html#indexing-view-versus-copy\n",
      "  if sys.path[0] == '':\n",
      "/anaconda3/lib/python3.6/site-packages/ipykernel_launcher.py:13: SettingWithCopyWarning: \n",
      "A value is trying to be set on a copy of a slice from a DataFrame\n",
      "\n",
      "See the caveats in the documentation: http://pandas.pydata.org/pandas-docs/stable/indexing.html#indexing-view-versus-copy\n",
      "  del sys.path[0]\n",
      "/anaconda3/lib/python3.6/site-packages/ipykernel_launcher.py:14: SettingWithCopyWarning: \n",
      "A value is trying to be set on a copy of a slice from a DataFrame\n",
      "\n",
      "See the caveats in the documentation: http://pandas.pydata.org/pandas-docs/stable/indexing.html#indexing-view-versus-copy\n",
      "  \n"
     ]
    }
   ],
   "source": [
    "#renaming some column values to aggregate across agency departments for 'GroupName' variable\n",
    "dcra.GroupName[dcra.GroupName == 'DC Water Review Supervisor'] = \"DC Water Review\"\n",
    "dcra.GroupName[dcra.GroupName == 'DDOT Review Supervisor'] = \"DDOT Review\"\n",
    "dcra.GroupName[dcra.GroupName == 'DOH Review Supervisor'] = \"DOH Review\"\n",
    "dcra.GroupName[dcra.GroupName == 'Electrical Review Supervisor'] = \"Electrical Review\"\n",
    "dcra.GroupName[dcra.GroupName == 'Elevator Review Supervisor'] = \"Elevator Review\"\n",
    "dcra.GroupName[dcra.GroupName == 'Energy Review Supervisor'] = \"Energy Review\"\n",
    "dcra.GroupName[dcra.GroupName == 'Fire Review Supervisor'] = \"Fire Review\"\n",
    "dcra.GroupName[dcra.GroupName == 'Green Review Supervisor'] = \"Green Review\"\n",
    "dcra.GroupName[dcra.GroupName == 'Mechanical Review Supervisor'] = \"Mechanical Review\"\n",
    "dcra.GroupName[dcra.GroupName == 'Plumbing Review Supervisor'] = \"Plumbing Review\"\n",
    "dcra.GroupName[dcra.GroupName == 'Structural Review Supervisor'] = \"Structural Review\"\n",
    "dcra.GroupName[dcra.GroupName == 'WASA Review Supervisor'] = \"WASA Review\"\n",
    "dcra.GroupName[dcra.GroupName == 'Zoning Review Supervisor'] = \"Zoning Review\""
   ]
  },
  {
   "cell_type": "code",
   "execution_count": 47,
   "metadata": {},
   "outputs": [
    {
     "name": "stderr",
     "output_type": "stream",
     "text": [
      "/anaconda3/lib/python3.6/site-packages/ipykernel_launcher.py:1: SettingWithCopyWarning: \n",
      "A value is trying to be set on a copy of a slice from a DataFrame\n",
      "\n",
      "See the caveats in the documentation: http://pandas.pydata.org/pandas-docs/stable/indexing.html#indexing-view-versus-copy\n",
      "  \"\"\"Entry point for launching an IPython kernel.\n",
      "/anaconda3/lib/python3.6/site-packages/ipykernel_launcher.py:2: SettingWithCopyWarning: \n",
      "A value is trying to be set on a copy of a slice from a DataFrame\n",
      "\n",
      "See the caveats in the documentation: http://pandas.pydata.org/pandas-docs/stable/indexing.html#indexing-view-versus-copy\n",
      "  \n",
      "/anaconda3/lib/python3.6/site-packages/ipykernel_launcher.py:3: SettingWithCopyWarning: \n",
      "A value is trying to be set on a copy of a slice from a DataFrame\n",
      "\n",
      "See the caveats in the documentation: http://pandas.pydata.org/pandas-docs/stable/indexing.html#indexing-view-versus-copy\n",
      "  This is separate from the ipykernel package so we can avoid doing imports until\n"
     ]
    }
   ],
   "source": [
    "dcra.GroupName[dcra.GroupName == 'DDOE Review Supervisor'] = \"DDOE Review\"\n",
    "dcra.GroupName[dcra.GroupName == 'DDOE SE-SW Review'] = \"DDOE Review\"\n",
    "dcra.GroupName[dcra.GroupName == 'DDOE WSP Review'] = \"DDOE Review\""
   ]
  },
  {
   "cell_type": "code",
   "execution_count": 48,
   "metadata": {},
   "outputs": [
    {
     "name": "stderr",
     "output_type": "stream",
     "text": [
      "/anaconda3/lib/python3.6/site-packages/ipykernel_launcher.py:1: SettingWithCopyWarning: \n",
      "A value is trying to be set on a copy of a slice from a DataFrame\n",
      "\n",
      "See the caveats in the documentation: http://pandas.pydata.org/pandas-docs/stable/indexing.html#indexing-view-versus-copy\n",
      "  \"\"\"Entry point for launching an IPython kernel.\n",
      "/anaconda3/lib/python3.6/site-packages/ipykernel_launcher.py:2: SettingWithCopyWarning: \n",
      "A value is trying to be set on a copy of a slice from a DataFrame\n",
      "\n",
      "See the caveats in the documentation: http://pandas.pydata.org/pandas-docs/stable/indexing.html#indexing-view-versus-copy\n",
      "  \n",
      "/anaconda3/lib/python3.6/site-packages/ipykernel_launcher.py:3: SettingWithCopyWarning: \n",
      "A value is trying to be set on a copy of a slice from a DataFrame\n",
      "\n",
      "See the caveats in the documentation: http://pandas.pydata.org/pandas-docs/stable/indexing.html#indexing-view-versus-copy\n",
      "  This is separate from the ipykernel package so we can avoid doing imports until\n",
      "/anaconda3/lib/python3.6/site-packages/ipykernel_launcher.py:4: SettingWithCopyWarning: \n",
      "A value is trying to be set on a copy of a slice from a DataFrame\n",
      "\n",
      "See the caveats in the documentation: http://pandas.pydata.org/pandas-docs/stable/indexing.html#indexing-view-versus-copy\n",
      "  after removing the cwd from sys.path.\n"
     ]
    }
   ],
   "source": [
    "dcra.GroupName[dcra.GroupName == 'DOEE FP Review'] = \"DOEE Review\"\n",
    "dcra.GroupName[dcra.GroupName == 'DOEE GAR Review'] = \"DOEE Review\"\n",
    "dcra.GroupName[dcra.GroupName == 'DOEE Review Supervisor'] = \"DOEE Review\"\n",
    "dcra.GroupName[dcra.GroupName == 'DOEE SE-SW Review'] = \"DOEE Review\""
   ]
  },
  {
   "cell_type": "code",
   "execution_count": 67,
   "metadata": {},
   "outputs": [
    {
     "data": {
      "text/plain": [
       "40909    Structural Review\n",
       "41150        Energy Review\n",
       "41151    Electrical Review\n",
       "41152      DC Water Review\n",
       "41153        Zoning Review\n",
       "Name: GroupName, dtype: object"
      ]
     },
     "execution_count": 67,
     "metadata": {},
     "output_type": "execute_result"
    }
   ],
   "source": [
    "x = dcra['GroupName']\n",
    "x.head()"
   ]
  },
  {
   "cell_type": "code",
   "execution_count": 93,
   "metadata": {},
   "outputs": [
    {
     "data": {
      "text/plain": [
       "GroupName\n",
       "CFA Review             1.410256\n",
       "DOH Review             2.221106\n",
       "HPRB Review            4.895238\n",
       "Fire Review            4.900200\n",
       "Plumbing Review        5.057377\n",
       "Mechanical Review      5.133588\n",
       "Elevator Review        5.837500\n",
       "Electrical Review      6.622699\n",
       "Structural Review      7.081340\n",
       "DOEE Review            7.120108\n",
       "NCPC Review            7.333333\n",
       "Energy Review          7.355319\n",
       "WMATA Review           8.758621\n",
       "Zoning Review          9.727461\n",
       "Green Review          12.783550\n",
       "DC Water Review       18.042071\n",
       "DDOT Review           20.920354\n",
       "White House Review    24.666667\n",
       "EISF Review           39.000000\n",
       "Name: elapsed_workdays, dtype: float64"
      ]
     },
     "execution_count": 93,
     "metadata": {},
     "output_type": "execute_result"
    }
   ],
   "source": [
    "x = dcra.groupby('GroupName')['elapsed_workdays'].mean()\n",
    "x = x.sort_values()\n",
    "x"
   ]
  },
  {
   "cell_type": "code",
   "execution_count": 118,
   "metadata": {},
   "outputs": [
    {
     "data": {
      "image/png": "[encoded data removed]",
      "text/plain": [
       "<Figure size 1080x576 with 1 Axes>"
      ]
     },
     "metadata": {
      "needs_background": "light"
     },
     "output_type": "display_data"
    }
   ],
   "source": [
    "# plot\n",
    "plt.figure(figsize=(15, 8))\n",
    "ax = plt.subplot()\n",
    "ax.barh(range(len(x)), x, color = 'darkblue')\n",
    "for spine in ['right', 'top']:\n",
    "    ax.spines[spine].set_visible(False)\n",
    "plt.yticks(range(len(x)),['CFA Review','DOH Review','HPRB Review','Fire Review','Plumbing Review','Mechanical Review','Elevator Review','Electrical Review','Structural Review','DOEE Review','NCPC Review','Energy Review','WMATA Review','Zoning Review','Green Review','DC Water Review','DDOT Review','White House Review','EISF Review'])\n",
    "plt.ylabel('Group Name')\n",
    "plt.xlabel('Elapsed Workdays')\n",
    "for a, b in enumerate(x):\n",
    "    plt.text(b + 0.5, a - 0.1, '%.2f' % b, ha='left', va='center')\n",
    "plt.title('Mean Elapsed Workdays by Group')\n",
    "plt.savefig('Mean Elapsed Workdays by Group.png')\n",
    "plt.show()"
   ]
  },
  {
   "cell_type": "code",
   "execution_count": 121,
   "metadata": {},
   "outputs": [
    {
     "data": {
      "text/plain": [
       "Ward\n",
       "1.0    7.461634\n",
       "2.0    7.245893\n",
       "3.0    7.310513\n",
       "4.0    8.286558\n",
       "5.0    8.542781\n",
       "6.0    8.073846\n",
       "7.0    8.077844\n",
       "8.0    5.000000\n",
       "Name: elapsed_workdays, dtype: float64"
      ]
     },
     "execution_count": 121,
     "metadata": {},
     "output_type": "execute_result"
    }
   ],
   "source": [
    "y = dcra.groupby('Ward')['elapsed_workdays'].mean()\n",
    "y"
   ]
  },
  {
   "cell_type": "code",
   "execution_count": 130,
   "metadata": {},
   "outputs": [
    {
     "data": {
      "image/png": "[encoded data removed]",
      "text/plain": [
       "<Figure size 432x288 with 1 Axes>"
      ]
     },
     "metadata": {
      "needs_background": "light"
     },
     "output_type": "display_data"
    }
   ],
   "source": [
    "# plot\n",
    "ax = plt.subplot()\n",
    "ax.bar(range(len(y)), y, color = 'darkblue')\n",
    "for spine in ['right', 'top']:\n",
    "    ax.spines[spine].set_visible(False)\n",
    "plt.xticks(range(len(y)),[1,2,3,4,5,6,7,8])\n",
    "plt.xlabel('Ward')\n",
    "plt.ylabel('Elapsed Workdays')\n",
    "\n",
    "plt.title('Mean Elapsed Workdays by Ward')\n",
    "plt.savefig('Mean Elapsed Workdays by Ward.png')\n",
    "plt.show()"
   ]
  },
  {
   "cell_type": "code",
   "execution_count": null,
   "metadata": {},
   "outputs": [],
   "source": []
  }
 ],
 "metadata": {
  "kernelspec": {
   "display_name": "Python 3",
   "language": "python",
   "name": "python3"
  },
  "language_info": {
   "codemirror_mode": {
    "name": "ipython",
    "version": 3
   },
   "file_extension": ".py",
   "mimetype": "text/x-python",
   "name": "python",
   "nbconvert_exporter": "python",
   "pygments_lexer": "ipython3",
   "version": "3.6.8"
  }
 },
 "nbformat": 4,
 "nbformat_minor": 2
}
