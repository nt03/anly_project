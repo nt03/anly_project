{
 "cells": [
  {
   "cell_type": "code",
   "execution_count": null,
   "metadata": {},
   "outputs": [],
   "source": [
    "import numpy as np\n",
    "import pandas as pd\n",
    "from sklearn import linear_model\n",
    "from sklearn.naive_bayes import GaussianNB\n",
    "from sklearn.preprocessing import LabelEncoder\n",
    "from sklearn.linear_model import LogisticRegression\n",
    "from sklearn.neighbors import KNeighborsClassifier\n",
    "from sklearn.neighbors import KNeighborsRegressor\n",
    "from sklearn.metrics import accuracy_score\n",
    "from sklearn.model_selection import train_test_split\n",
    "from sklearn.model_selection import cross_val_score\n",
    "import matplotlib.pyplot as plt"
   ]
  },
  {
   "cell_type": "code",
   "execution_count": null,
   "metadata": {},
   "outputs": [],
   "source": [
    "# load iris dataset\n",
    "data = pd.read_csv('~/Google/19Spring/ANLY501ASL/GroupProject/data/cleaned_encode.csv')\n",
    "data.head()"
   ]
  },
  {
   "cell_type": "code",
   "execution_count": null,
   "metadata": {},
   "outputs": [],
   "source": [
    "# create feature matrix and target array\n",
    "X = data.drop([\"elapsed_workdays\",\"pdox_b1_id\",\"perm_id\",\"elapsed_workdays_20\"], axis = 1)\n",
    "y = data[\"elapsed_workdays\"]"
   ]
  },
  {
   "cell_type": "markdown",
   "metadata": {},
   "source": [
    "## Run regression model"
   ]
  },
  {
   "cell_type": "markdown",
   "metadata": {},
   "source": [
    "### OLS"
   ]
  },
  {
   "cell_type": "code",
   "execution_count": null,
   "metadata": {},
   "outputs": [],
   "source": [
    "OLS = linear_model.LinearRegression()\n",
    "OLS.fit(X, y)\n",
    "print(\"sklearn.linear_model\")\n",
    "print(OLS.intercept_)\n",
    "print(OLS.coef_)\n",
    "cross_val_score(OLS, X, y, cv = 10).mean()"
   ]
  },
  {
   "cell_type": "markdown",
   "metadata": {},
   "source": [
    "### KNN Regressor"
   ]
  },
  {
   "cell_type": "code",
   "execution_count": null,
   "metadata": {},
   "outputs": [],
   "source": [
    "# Test which k performs the best\n",
    "# the biggest k can be sqtr(observation)\n",
    "k_range = range(1,194,1)\n",
    "k_scores = []\n",
    "for k in k_range:\n",
    "    knn = KNeighborsRegressor(n_neighbors = k)\n",
    "    scores = cross_val_score(knn, X, y, cv=10)\n",
    "    k_scores.append(scores.mean())"
   ]
  },
  {
   "cell_type": "code",
   "execution_count": null,
   "metadata": {},
   "outputs": [],
   "source": [
    "plt.plot(k_range, k_scores)\n",
    "plt.xlabel('Value of K for KNN')\n",
    "plt.ylabel('Cross-Validation Accuracy')\n",
    "plt.savefig('Choosing K for KNN Regressor.png')\n",
    "plt.show()"
   ]
  },
  {
   "cell_type": "code",
   "execution_count": null,
   "metadata": {},
   "outputs": [],
   "source": [
    "# Test which k performs the best for a smaller range\n",
    "k_range = range(5,15)\n",
    "k_scores = []89\n",
    "for k in k_range:\n",
    "    knn = KNeighborsRegressor(n_neighbors = k)\n",
    "    scores = cross_val_score(knn, X, y, cv=10)\n",
    "    k_scores.append(scores.mean())"
   ]
  },
  {
   "cell_type": "code",
   "execution_count": null,
   "metadata": {},
   "outputs": [],
   "source": [
    "plt.plot(k_range, k_scores)\n",
    "plt.xlabel('Value of K for KNN')\n",
    "plt.ylabel('Cross-Validation Accuracy')\n",
    "plt.show()"
   ]
  },
  {
   "cell_type": "code",
   "execution_count": null,
   "metadata": {},
   "outputs": [],
   "source": [
    "# Choose k = 11\n",
    "k11 = KNeighborsRegressor(n_neighbors = 11)\n",
    "k11.fit(X, y)\n",
    "cross_val_score(k11, X, y, cv = 10).mean()"
   ]
  },
  {
   "cell_type": "markdown",
   "metadata": {},
   "source": [
    "## Run classification model (over 30)"
   ]
  },
  {
   "cell_type": "code",
   "execution_count": null,
   "metadata": {},
   "outputs": [],
   "source": [
    "# Create a binary y\n",
    "data['elapsed_workdays_30'] = data['elapsed_workdays'].apply(lambda x: 1 if x > 30 else 0)\n",
    "print(data['elapsed_workdays_30'].head(10))\n",
    "y = data[\"elapsed_workdays_30\"]"
   ]
  },
  {
   "cell_type": "markdown",
   "metadata": {},
   "source": [
    "### Logit"
   ]
  },
  {
   "cell_type": "code",
   "execution_count": null,
   "metadata": {},
   "outputs": [],
   "source": [
    "# Predict the model using logistic regression\n",
    "logit = LogisticRegression(solver='liblinear')\n",
    "logit.fit(X, y)\n",
    "y_predict = logit.predict(X)\n",
    "accuracy_score(y,y_predict)"
   ]
  },
  {
   "cell_type": "code",
   "execution_count": null,
   "metadata": {},
   "outputs": [],
   "source": [
    "logit.coef_"
   ]
  },
  {
   "cell_type": "code",
   "execution_count": null,
   "metadata": {},
   "outputs": [],
   "source": [
    "# Perform ten-fold cross-validation on logistic regression model\n",
    "logit = LogisticRegression(solver='liblinear')\n",
    "score_logit = cross_val_score(logit, X, y, cv = 10)\n",
    "print(score_logit)\n",
    "np.mean(score_logit)"
   ]
  },
  {
   "cell_type": "markdown",
   "metadata": {},
   "source": [
    "### KNN Classifier"
   ]
  },
  {
   "cell_type": "code",
   "execution_count": null,
   "metadata": {},
   "outputs": [],
   "source": [
    "# Test which k performs the best\n",
    "# the biggest k can be sqtr(observation)\n",
    "k_range = range(1,194)\n",
    "k_scores = []\n",
    "for k in k_range:\n",
    "    knn = KNeighborsClassifier(n_neighbors = k)\n",
    "    scores = cross_val_score(knn, X, y, cv=10, scoring = 'accuracy')\n",
    "    k_scores.append(scores.mean())"
   ]
  },
  {
   "cell_type": "code",
   "execution_count": null,
   "metadata": {},
   "outputs": [],
   "source": [
    "plt.plot(k_range, k_scores)\n",
    "plt.xlabel('Value of K for KNN')\n",
    "plt.ylabel('Cross-Validation Accuracy')\n",
    "plt.savefig('Choosing K for KNN Classifier (over 30).png')\n",
    "plt.show()"
   ]
  },
  {
   "cell_type": "code",
   "execution_count": null,
   "metadata": {},
   "outputs": [],
   "source": [
    "# Test which k performs the best for a smaller range\n",
    "k_range = range(30,40)\n",
    "k_scores = []\n",
    "for k in k_range:\n",
    "    knn = KNeighborsClassifier(n_neighbors = k)\n",
    "    scores = cross_val_score(knn, X, y, cv=10, scoring = 'accuracy')\n",
    "    k_scores.append(scores.mean())"
   ]
  },
  {
   "cell_type": "code",
   "execution_count": null,
   "metadata": {},
   "outputs": [],
   "source": [
    "plt.plot(k_range, k_scores)\n",
    "plt.xlabel('Value of K for KNN')\n",
    "plt.ylabel('Cross-Validation Accuracy')\n",
    "plt.show()"
   ]
  },
  {
   "cell_type": "code",
   "execution_count": null,
   "metadata": {},
   "outputs": [],
   "source": [
    "# Choose k = 40\n",
    "k40 = KNeighborsClassifier(n_neighbors = 40)\n",
    "k40.fit(X, y)\n",
    "y_k40_predict = k40.predict(X)\n",
    "accuracy_score(y,y_k40_predict)"
   ]
  },
  {
   "cell_type": "code",
   "execution_count": null,
   "metadata": {},
   "outputs": [],
   "source": [
    "# Perform ten-fold cross-validation on KNN model(k=40)\n",
    "k40 = KNeighborsClassifier(n_neighbors = 40)\n",
    "score_k40 = cross_val_score(k40, X, y, cv = 10)\n",
    "print(score_k40)\n",
    "np.mean(score_k40)"
   ]
  },
  {
   "cell_type": "markdown",
   "metadata": {},
   "source": [
    "### Naive Bayes"
   ]
  },
  {
   "cell_type": "code",
   "execution_count": null,
   "metadata": {},
   "outputs": [],
   "source": [
    "nb = GaussianNB()\n",
    "nb.fit(X,y)\n",
    "cross_val_score(nb, X, y, cv = 10).mean()"
   ]
  },
  {
   "cell_type": "markdown",
   "metadata": {},
   "source": [
    "## Run classification model (over 20)"
   ]
  },
  {
   "cell_type": "code",
   "execution_count": null,
   "metadata": {},
   "outputs": [],
   "source": [
    "# create feature matrix and target array\n",
    "X = data.drop([\"elapsed_workdays\",\"pdox_b1_id\",\"perm_id\",\"elapsed_workdays_30\",\"elapsed_workdays_20\"], axis = 1)\n",
    "y = data[\"elapsed_workdays_20\"]"
   ]
  },
  {
   "cell_type": "code",
   "execution_count": null,
   "metadata": {},
   "outputs": [],
   "source": [
    "X.columns"
   ]
  },
  {
   "cell_type": "markdown",
   "metadata": {},
   "source": [
    "### Logit"
   ]
  },
  {
   "cell_type": "code",
   "execution_count": null,
   "metadata": {},
   "outputs": [],
   "source": [
    "# Predict the model using logistic regression\n",
    "logit = LogisticRegression(solver='liblinear')\n",
    "logit.fit(X, y)\n",
    "y_predict = logit.predict(X)\n",
    "accuracy_score(y,y_predict)"
   ]
  },
  {
   "cell_type": "code",
   "execution_count": null,
   "metadata": {},
   "outputs": [],
   "source": [
    "# Perform ten-fold cross-validation on logistic regression model\n",
    "logit = LogisticRegression(solver='liblinear')\n",
    "score_logit = cross_val_score(logit, X, y, cv = 10)\n",
    "print(score_logit)\n",
    "np.mean(score_logit)"
   ]
  },
  {
   "cell_type": "markdown",
   "metadata": {},
   "source": [
    "### KNN Classifier"
   ]
  },
  {
   "cell_type": "code",
   "execution_count": null,
   "metadata": {},
   "outputs": [],
   "source": [
    "# Test which k performs the best\n",
    "# the biggest k can be sqtr(observation)\n",
    "k_range = range(1,194)\n",
    "k_scores = []\n",
    "for k in k_range:\n",
    "    knn = KNeighborsClassifier(n_neighbors = k)\n",
    "    scores = cross_val_score(knn, X, y, cv=10, scoring = 'accuracy')\n",
    "    k_scores.append(scores.mean())"
   ]
  },
  {
   "cell_type": "code",
   "execution_count": null,
   "metadata": {},
   "outputs": [],
   "source": [
    "plt.plot(k_range, k_scores)\n",
    "plt.xlabel('Value of K for KNN')\n",
    "plt.ylabel('Cross-Validation Accuracy')\n",
    "plt.savefig('Choosing K for KNN Classifier (over 20).png')\n",
    "plt.show()"
   ]
  },
  {
   "cell_type": "code",
   "execution_count": null,
   "metadata": {},
   "outputs": [],
   "source": [
    "# Test which k performs the best for a smaller range\n",
    "# the biggest k can be sqtr(observation)\n",
    "k_range = range(70,81,1)\n",
    "k_scores = []\n",
    "for k in k_range:\n",
    "    knn = KNeighborsClassifier(n_neighbors = k)\n",
    "    scores = cross_val_score(knn, X, y, cv=10, scoring = 'accuracy')\n",
    "    k_scores.append(scores.mean())"
   ]
  },
  {
   "cell_type": "code",
   "execution_count": null,
   "metadata": {},
   "outputs": [],
   "source": [
    "plt.plot(k_range, k_scores)\n",
    "plt.xlabel('Value of K for KNN')\n",
    "plt.ylabel('Cross-Validation Accuracy')\n",
    "plt.show()"
   ]
  },
  {
   "cell_type": "code",
   "execution_count": null,
   "metadata": {},
   "outputs": [],
   "source": [
    "# Choose k = 80\n",
    "k80 = KNeighborsClassifier(n_neighbors = 80)\n",
    "k80.fit(X, y)\n",
    "y_k80_predict = k80.predict(X)\n",
    "accuracy_score(y,y_k80_predict)"
   ]
  },
  {
   "cell_type": "code",
   "execution_count": null,
   "metadata": {},
   "outputs": [],
   "source": [
    "# Perform ten-fold cross-validation on KNN model(k=80)\n",
    "k80 = KNeighborsClassifier(n_neighbors = 80)\n",
    "score_k80 = cross_val_score(k80, X, y, cv = 10)\n",
    "print(score_k80)\n",
    "np.mean(score_k80)"
   ]
  },
  {
   "cell_type": "markdown",
   "metadata": {},
   "source": [
    "### Naive Bayes¶"
   ]
  },
  {
   "cell_type": "code",
   "execution_count": null,
   "metadata": {},
   "outputs": [],
   "source": [
    "nb = GaussianNB()\n",
    "nb.fit(X,y)\n",
    "cross_val_score(nb, X, y, cv = 10).mean()"
   ]
  },
  {
   "cell_type": "code",
   "execution_count": null,
   "metadata": {},
   "outputs": [],
   "source": []
  }
 ],
 "metadata": {
  "kernelspec": {
   "display_name": "Python 3",
   "language": "python",
   "name": "python3"
  },
  "language_info": {
   "codemirror_mode": {
    "name": "ipython",
    "version": 3
   },
   "file_extension": ".py",
   "mimetype": "text/x-python",
   "name": "python",
   "nbconvert_exporter": "python",
   "pygments_lexer": "ipython3",
   "version": "3.6.8"
  }
 },
 "nbformat": 4,
 "nbformat_minor": 2
}
