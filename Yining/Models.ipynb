{
 "cells": [
  {
   "cell_type": "code",
   "execution_count": null,
   "metadata": {},
   "outputs": [],
   "source": [
    "import numpy as np\n",
    "import pandas as pd\n",
    "from sklearn import linear_model\n",
    "from sklearn.naive_bayes import GaussianNB\n",
    "from sklearn.preprocessing import LabelEncoder\n",
    "from sklearn.linear_model import LogisticRegression\n",
    "from sklearn.neighbors import KNeighborsClassifier\n",
    "from sklearn.neighbors import KNeighborsRegressor\n",
    "from sklearn.metrics import accuracy_score\n",
    "from sklearn.model_selection import train_test_split\n",
    "from sklearn.model_selection import cross_val_score\n",
    "import matplotlib.pyplot as plt"
   ]
  },
  {
   "cell_type": "code",
   "execution_count": null,
   "metadata": {},
   "outputs": [],
   "source": [
    "# load iris dataset\n",
    "data = pd.read_csv('~/Google/19Spring/ANLY501ASL/GroupProject/cleaned_merged_data5.csv')\n",
    "data.head()"
   ]
  },
  {
   "cell_type": "code",
   "execution_count": null,
   "metadata": {},
   "outputs": [],
   "source": [
    "# create feature matrix and target array\n",
    "X = data.drop([\"elapsed_workdays\",\"GroupName\",\"TaskName\",\"ssl\"], axis = 1)\n",
    "y = data[\"elapsed_workdays\"]"
   ]
  },
  {
   "cell_type": "code",
   "execution_count": null,
   "metadata": {},
   "outputs": [],
   "source": [
    "# Encode categorical variables\n",
    "D = ['alias', 'permit_cap_status', 'Project_Status', 'RC_ReviewStatus','RC_HowAssigned',\n",
    "      'job_class', 'AGENCY','review_group', 'use_type', 'permit_type', 'building_construction_type',\n",
    "      'QUALIFIED','use_change', 'num_units_change', 'gfa_change']\n",
    "\n",
    "lb = LabelEncoder()\n",
    "\n",
    "for i in D:\n",
    "    X[i] = lb.fit_transform(X[i])\n",
    "    \n",
    "X.head()"
   ]
  },
  {
   "cell_type": "markdown",
   "metadata": {},
   "source": [
    "### OLS"
   ]
  },
  {
   "cell_type": "code",
   "execution_count": null,
   "metadata": {},
   "outputs": [],
   "source": [
    "OLS = linear_model.LinearRegression()\n",
    "OLS.fit(X, y)\n",
    "print(\"sklearn.linear_model\")\n",
    "print(OLS.intercept_)\n",
    "print(OLS.coef_)\n",
    "cross_val_score(OLS, X, y, cv = 10).mean()"
   ]
  },
  {
   "cell_type": "markdown",
   "metadata": {},
   "source": [
    "### KNN Regressor"
   ]
  },
  {
   "cell_type": "code",
   "execution_count": null,
   "metadata": {},
   "outputs": [],
   "source": [
    "# Try k = 5\n",
    "k5 = KNeighborsRegressor(n_neighbors = 5)\n",
    "k5.fit(X, y)\n",
    "cross_val_score(k5, X, y, cv = 10).mean()"
   ]
  },
  {
   "cell_type": "code",
   "execution_count": null,
   "metadata": {},
   "outputs": [],
   "source": [
    "# Try k = 6\n",
    "k6 = KNeighborsRegressor(n_neighbors = 6)\n",
    "k6.fit(X, y)\n",
    "cross_val_score(k6, X, y, cv = 10).mean()"
   ]
  },
  {
   "cell_type": "code",
   "execution_count": null,
   "metadata": {},
   "outputs": [],
   "source": [
    "# Try k = 7\n",
    "k7 = KNeighborsRegressor(n_neighbors = 7)\n",
    "k7.fit(X, y)\n",
    "cross_val_score(k7, X, y, cv = 10).mean()"
   ]
  },
  {
   "cell_type": "code",
   "execution_count": null,
   "metadata": {},
   "outputs": [],
   "source": [
    "# Try k = 8\n",
    "k8 = KNeighborsRegressor(n_neighbors = 8)\n",
    "k8.fit(X, y)\n",
    "cross_val_score(k8, X, y, cv = 10).mean()"
   ]
  },
  {
   "cell_type": "code",
   "execution_count": null,
   "metadata": {},
   "outputs": [],
   "source": [
    "# Try k = 9\n",
    "k9 = KNeighborsRegressor(n_neighbors = 9)\n",
    "k9.fit(X, y)\n",
    "cross_val_score(k9, X, y, cv = 10).mean()"
   ]
  },
  {
   "cell_type": "code",
   "execution_count": null,
   "metadata": {},
   "outputs": [],
   "source": [
    "# Try k = 10\n",
    "k10 = KNeighborsRegressor(n_neighbors = 10)\n",
    "k10.fit(X, y)\n",
    "cross_val_score(k10, X, y, cv = 10).mean()"
   ]
  },
  {
   "cell_type": "code",
   "execution_count": null,
   "metadata": {},
   "outputs": [],
   "source": [
    "# Try k = 1\n",
    "k1 = KNeighborsRegressor(n_neighbors = 1)\n",
    "k1.fit(X, y)\n",
    "cross_val_score(k1, X, y, cv = 10).mean()"
   ]
  },
  {
   "cell_type": "code",
   "execution_count": null,
   "metadata": {},
   "outputs": [],
   "source": []
  },
  {
   "cell_type": "code",
   "execution_count": null,
   "metadata": {},
   "outputs": [],
   "source": [
    "# Create a binary y\n",
    "data['elapsed_workdays_30'] = data['elapsed_workdays'].apply(lambda x: 1 if x > 30 else 0)\n",
    "print(data['elapsed_workdays_30'].head(10))\n",
    "y = data[\"elapsed_workdays_30\"]"
   ]
  },
  {
   "cell_type": "markdown",
   "metadata": {},
   "source": [
    "### Logit"
   ]
  },
  {
   "cell_type": "code",
   "execution_count": null,
   "metadata": {},
   "outputs": [],
   "source": [
    "# Predict the model using logistic regression\n",
    "logit = LogisticRegression(solver='lbfgs')\n",
    "logit.fit(X, y)\n",
    "y_predict = logit.predict(X)\n",
    "accuracy_score(y,y_predict)"
   ]
  },
  {
   "cell_type": "code",
   "execution_count": null,
   "metadata": {},
   "outputs": [],
   "source": [
    "logit.coef_"
   ]
  },
  {
   "cell_type": "code",
   "execution_count": null,
   "metadata": {},
   "outputs": [],
   "source": [
    "# Perform ten-fold cross-validation on logistic regression model\n",
    "logit = LogisticRegression(solver='lbfgs')\n",
    "score_logit = cross_val_score(logit, X, y, cv = 10)\n",
    "print(score_logit)\n",
    "np.mean(score_logit)"
   ]
  },
  {
   "cell_type": "markdown",
   "metadata": {},
   "source": [
    "### KNN Classifier"
   ]
  },
  {
   "cell_type": "code",
   "execution_count": null,
   "metadata": {},
   "outputs": [],
   "source": [
    "# Test which k performs the best\n",
    "# the biggest k can be sqtr(observation)\n",
    "k_range = range(1,190)\n",
    "k_scores = []\n",
    "for k in k_range:\n",
    "    knn = KNeighborsClassifier(n_neighbors = k)\n",
    "    scores = cross_val_score(knn, X, y, cv=10, scoring = 'accuracy')\n",
    "    k_scores.append(scores.mean())"
   ]
  },
  {
   "cell_type": "code",
   "execution_count": null,
   "metadata": {},
   "outputs": [],
   "source": [
    "plt.plot(k_range, k_scores)\n",
    "plt.xlabel('Value of K for KNN')\n",
    "plt.ylabel('Cross-Validation Accuracy')\n",
    "plt.savefig('Choosing K for KNN Classifier.png')\n",
    "plt.show()"
   ]
  },
  {
   "cell_type": "code",
   "execution_count": null,
   "metadata": {},
   "outputs": [],
   "source": [
    "# Choose k = 25\n",
    "k25 = KNeighborsClassifier(n_neighbors = 25)\n",
    "k25.fit(X, y)\n",
    "y_k25_predict = k25.predict(X)\n",
    "accuracy_score(y,y_k25_predict)"
   ]
  },
  {
   "cell_type": "code",
   "execution_count": null,
   "metadata": {},
   "outputs": [],
   "source": [
    "# Perform ten-fold cross-validation on KNN model(k=25)\n",
    "k25 = KNeighborsClassifier(n_neighbors = 25)\n",
    "score_k25 = cross_val_score(k25, X, y, cv = 10)\n",
    "print(score_k25)\n",
    "np.mean(score_k25)"
   ]
  },
  {
   "cell_type": "markdown",
   "metadata": {},
   "source": [
    "### Naive Bayes"
   ]
  },
  {
   "cell_type": "code",
   "execution_count": null,
   "metadata": {},
   "outputs": [],
   "source": [
    "nb = GaussianNB()\n",
    "nb.fit(X,y)\n",
    "cross_val_score(nb, X, y, cv = 10).mean()"
   ]
  },
  {
   "cell_type": "code",
   "execution_count": null,
   "metadata": {},
   "outputs": [],
   "source": []
  }
 ],
 "metadata": {
  "kernelspec": {
   "display_name": "Python 3",
   "language": "python",
   "name": "python3"
  },
  "language_info": {
   "codemirror_mode": {
    "name": "ipython",
    "version": 3
   },
   "file_extension": ".py",
   "mimetype": "text/x-python",
   "name": "python",
   "nbconvert_exporter": "python",
   "pygments_lexer": "ipython3",
   "version": "3.6.8"
  }
 },
 "nbformat": 4,
 "nbformat_minor": 2
}
