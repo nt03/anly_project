{
 "cells": [
  {
   "cell_type": "code",
   "execution_count": 1,
   "metadata": {},
   "outputs": [],
   "source": [
    "import pandas as pd\n",
    "import numpy as np\n",
    "from sklearn.preprocessing import LabelEncoder"
   ]
  },
  {
   "cell_type": "code",
   "execution_count": 54,
   "metadata": {},
   "outputs": [],
   "source": [
    "# Run Ziqi's code on \"merged_dcra_cama.csv\" first then import it\n",
    "df = pd.read_csv(\"data/merged.csv\", encoding='iso-8859-1', low_memory=False)"
   ]
  },
  {
   "cell_type": "code",
   "execution_count": 55,
   "metadata": {},
   "outputs": [
    {
     "data": {
      "text/plain": [
       "Index(['X1', 'As_Of_Date', 'alias', 'permit_cap_status', 'pdox_b1_id',\n",
       "       'Project_Status', 'Project_Description', 'Project_CreateDate',\n",
       "       'ReviewCycle', 'TaskName', 'TaskStatus', 'GroupName',\n",
       "       'elapsed_workdays', 'RC_ReviewStatus', 'FlowTask_CreatedDate',\n",
       "       'FlowTask_DateUpdated', 'FlowTask_DateAccepted', 'RC_HowAssigned',\n",
       "       'RC_ReviewComments_confidential', 'Fee_Assessed', 'job_class',\n",
       "       'over_30', 'AGENCY', 'pdox', 'est_worktime', 'QA_Date', 'QA_Date_rc1',\n",
       "       'Ward', 'DESC_OF_WORK', 'proposed_gross_floor_area', 'green_floor_area',\n",
       "       'issued', 'Begin_review_dd', 'Resubmit_rec_dd', 'rc_1_time', 'rc_time',\n",
       "       'FlowInstanceID', 'review_group', 'use_type', 'permit_type',\n",
       "       'building_construction_type', 'existing_use_of_building',\n",
       "       'proposed_use_of_building', 'proposed_number_stories',\n",
       "       'proposed_number_units', 'existing_number_units', 'present_gfa',\n",
       "       'create_review', 'ssl', 'perm_id', 'RC_assignedBy_anon',\n",
       "       'UpdatedByEmail_anon', 'applicant_anon', 'owner_name_anon', 'NAME_anon',\n",
       "       'OBJECTID', 'SALEDATE', 'PRICE', 'QUALIFIED', 'AYB', 'EYB', 'SALE_NUM',\n",
       "       'LIVING_GBA', 'USECODE', 'LANDAREA', 'GIS_LAST_MOD_DTTM'],\n",
       "      dtype='object')"
      ]
     },
     "execution_count": 55,
     "metadata": {},
     "output_type": "execute_result"
    }
   ],
   "source": [
    "df.columns"
   ]
  },
  {
   "cell_type": "code",
   "execution_count": 56,
   "metadata": {},
   "outputs": [],
   "source": [
    "# Drop variables\n",
    "X = df.drop(['X1', 'As_Of_Date', 'permit_cap_status','Project_Description','Project_CreateDate', 'TaskStatus',\n",
    "             'FlowTask_CreatedDate','FlowTask_DateUpdated', 'FlowTask_DateAccepted', 'RC_ReviewStatus', \n",
    "             'RC_ReviewComments_confidential', 'Fee_Assessed','over_30','pdox','est_worktime', 'QA_Date',\n",
    "             'QA_Date_rc1', 'DESC_OF_WORK', 'issued', 'Begin_review_dd', 'Resubmit_rec_dd', 'rc_1_time', 'rc_time',\n",
    "             'FlowInstanceID', 'create_review', 'ssl', 'RC_assignedBy_anon', 'UpdatedByEmail_anon', 'applicant_anon',\n",
    "             'owner_name_anon', 'NAME_anon', 'OBJECTID', 'SALEDATE', 'AYB', 'SALE_NUM', 'GIS_LAST_MOD_DTTM'], axis=1)"
   ]
  },
  {
   "cell_type": "code",
   "execution_count": 57,
   "metadata": {},
   "outputs": [
    {
     "data": {
      "text/plain": [
       "Index(['alias', 'pdox_b1_id', 'Project_Status', 'ReviewCycle', 'TaskName',\n",
       "       'GroupName', 'elapsed_workdays', 'RC_HowAssigned', 'job_class',\n",
       "       'AGENCY', 'Ward', 'proposed_gross_floor_area', 'green_floor_area',\n",
       "       'review_group', 'use_type', 'permit_type', 'building_construction_type',\n",
       "       'existing_use_of_building', 'proposed_use_of_building',\n",
       "       'proposed_number_stories', 'proposed_number_units',\n",
       "       'existing_number_units', 'present_gfa', 'perm_id', 'PRICE', 'QUALIFIED',\n",
       "       'EYB', 'LIVING_GBA', 'USECODE', 'LANDAREA'],\n",
       "      dtype='object')"
      ]
     },
     "execution_count": 57,
     "metadata": {},
     "output_type": "execute_result"
    }
   ],
   "source": [
    "X.columns"
   ]
  },
  {
   "cell_type": "code",
   "execution_count": 58,
   "metadata": {},
   "outputs": [],
   "source": [
    "# Clean GroupName variable\n",
    "# Suppress chaining warning\n",
    "pd.options.mode.chained_assignment = None  # default='warn'"
   ]
  },
  {
   "cell_type": "code",
   "execution_count": 59,
   "metadata": {},
   "outputs": [],
   "source": [
    "X.GroupName[X.GroupName == 'DC Water Review Supervisor'] = \"DC Water Review\"\n",
    "X.GroupName[X.GroupName == 'DDOT Review Supervisor'] = \"DDOT Review\"\n",
    "X.GroupName[X.GroupName == 'DOH Review Supervisor'] = \"DOH Review\"\n",
    "X.GroupName[X.GroupName == 'Electrical Review Supervisor'] = \"Electrical Review\"\n",
    "X.GroupName[X.GroupName == 'Elevator Review Supervisor'] = \"Elevator Review\"\n",
    "X.GroupName[X.GroupName == 'Energy Review Supervisor'] = \"Energy Review\"\n",
    "X.GroupName[X.GroupName == 'Fire Review Supervisor'] = \"Fire Review\"\n",
    "X.GroupName[X.GroupName == 'Green Review Supervisor'] = \"Green Review\"\n",
    "X.GroupName[X.GroupName == 'Mechanical Review Supervisor'] = \"Mechanical Review\"\n",
    "X.GroupName[X.GroupName == 'Plumbing Review Supervisor'] = \"Plumbing Review\"\n",
    "X.GroupName[X.GroupName == 'Structural Review Supervisor'] = \"Structural Review\"\n",
    "X.GroupName[X.GroupName == 'WASA Review Supervisor'] = \"WASA Review\"\n",
    "X.GroupName[X.GroupName == 'Zoning Review Supervisor'] = \"Zoning Review\""
   ]
  },
  {
   "cell_type": "code",
   "execution_count": 60,
   "metadata": {},
   "outputs": [],
   "source": [
    "X.GroupName[X.GroupName == 'DDOE Review Supervisor'] = \"DDOE Review\"\n",
    "X.GroupName[X.GroupName == 'DDOE SE-SW Review'] = \"DDOE Review\"\n",
    "X.GroupName[X.GroupName == 'DDOE WSP Review'] = \"DDOE Review\"\n",
    "X.GroupName[X.GroupName == 'DOEE FP Review'] = \"DOEE Review\"\n",
    "X.GroupName[X.GroupName == 'DOEE GAR Review'] = \"DOEE Review\"\n",
    "X.GroupName[X.GroupName == 'DOEE Review Supervisor'] = \"DOEE Review\"\n",
    "X.GroupName[X.GroupName == 'DOEE SE-SW Review'] = \"DOEE Review\""
   ]
  },
  {
   "cell_type": "code",
   "execution_count": 61,
   "metadata": {},
   "outputs": [],
   "source": [
    "# Aggregate 'building_construction_type' variable \n",
    "X.building_construction_type[X.building_construction_type == 'Type I - Fire-Resistive Non-combustible'] = \"Type I - Fire-Resistive Non-Combustible\"\n",
    "X.building_construction_type[X.building_construction_type == 'Type I-A - Fire-Resistive Non-Combustible'] = \"Type I - Fire-Resistive Non-Combustible\"\n",
    "X.building_construction_type[X.building_construction_type == 'Type I-B - Fire-Resistive Non-Combustible'] = \"Type I - Fire-Resistive Non-Combustible\"\n",
    "X.building_construction_type[X.building_construction_type == 'TYPE II-A - Non-Combustible Construction'] = \"TYPE II - Non-Combustible Construction\"\n",
    "X.building_construction_type[X.building_construction_type == 'TYPE II-B - Non-Combustible Construction'] = \"TYPE II - Non-Combustible Construction\"\n",
    "X.building_construction_type[X.building_construction_type == 'TYPE III-A - Non-Combustible Exterior Walls'] = \"TYPE III - Non-Combustible Exterior Walls\"\n",
    "X.building_construction_type[X.building_construction_type == 'TYPE III-B - Non-Combustible Exterior Walls'] = \"TYPE III - Non-Combustible Exterior Walls\"\n",
    "X.building_construction_type[X.building_construction_type == 'TYPE V-A - Any Materials Permitted'] = \"TYPE V - Any Materials Permitted\"\n",
    "X.building_construction_type[X.building_construction_type == 'TYPE V-B - Any Materials Permitted'] = \"TYPE V - Any Materials Permitted\""
   ]
  },
  {
   "cell_type": "markdown",
   "metadata": {},
   "source": [
    "Evaluate the variables 'proposed_number_units' and 'existing_number_units' \n",
    "Convert to a dummy to indicate whether the num of units changing in the permit application or not: 1= change/ 0=no change"
   ]
  },
  {
   "cell_type": "code",
   "execution_count": 62,
   "metadata": {},
   "outputs": [
    {
     "data": {
      "text/plain": [
       "num_units_change\n",
       "False    74863\n",
       "True     87355\n",
       "dtype: int64"
      ]
     },
     "execution_count": 62,
     "metadata": {},
     "output_type": "execute_result"
    }
   ],
   "source": [
    "num_units = X['proposed_number_units'] != X['existing_number_units']\n",
    "num_units = pd.DataFrame(num_units, columns=[\"num_units_change\"])\n",
    "num_units.groupby(by=\"num_units_change\").size()"
   ]
  },
  {
   "cell_type": "markdown",
   "metadata": {},
   "source": [
    "Evaluate the variables 'existing_use_of_building' and 'proposed_use_of_building' \n",
    "Convert to a dummy to indicate whether the existing use changing in the permit application or not: 1= change/ 0=no change"
   ]
  },
  {
   "cell_type": "code",
   "execution_count": 63,
   "metadata": {},
   "outputs": [
    {
     "data": {
      "text/plain": [
       "use_change\n",
       "False    76783\n",
       "True     85435\n",
       "dtype: int64"
      ]
     },
     "execution_count": 63,
     "metadata": {},
     "output_type": "execute_result"
    }
   ],
   "source": [
    "use = X['existing_use_of_building'] != X['proposed_use_of_building']\n",
    "use = pd.DataFrame(use, columns=[\"use_change\"])\n",
    "use.groupby(by=\"use_change\").size()"
   ]
  },
  {
   "cell_type": "markdown",
   "metadata": {},
   "source": [
    "Evaluate the variables'present_gfa', 'proposed_gross_floor_area' \n",
    "Convert to a dummy to indicate whether the gfa changing in the permit application or not: 1= change/ 0=no change"
   ]
  },
  {
   "cell_type": "code",
   "execution_count": 64,
   "metadata": {},
   "outputs": [
    {
     "data": {
      "text/plain": [
       "gfa_change\n",
       "False     61745\n",
       "True     100473\n",
       "dtype: int64"
      ]
     },
     "execution_count": 64,
     "metadata": {},
     "output_type": "execute_result"
    }
   ],
   "source": [
    "gfa = X['proposed_gross_floor_area'] != X['present_gfa']\n",
    "gfa = pd.DataFrame(gfa, columns=[\"gfa_change\"])\n",
    "gfa.groupby(by=\"gfa_change\").size()"
   ]
  },
  {
   "cell_type": "code",
   "execution_count": 65,
   "metadata": {},
   "outputs": [],
   "source": [
    "temp = pd.concat([use, num_units, gfa], axis=1)"
   ]
  },
  {
   "cell_type": "markdown",
   "metadata": {},
   "source": [
    "Create dummy variables for all \"GroupName\""
   ]
  },
  {
   "cell_type": "code",
   "execution_count": 66,
   "metadata": {},
   "outputs": [
    {
     "data": {
      "text/plain": [
       "Index(['CFA Review', 'Chinatown Review', 'DC Water Review', 'DDOE Review',\n",
       "       'DDOT Review', 'DOEE Review', 'DOH Review', 'EISF Review',\n",
       "       'Electrical Review', 'Elevator Review', 'Energy Review', 'File Room',\n",
       "       'Fire Review', 'Green Review', 'HPRB Review', 'Mechanical Review',\n",
       "       'NCPC Review', 'PRC', 'Plumbing Review', 'QA Review',\n",
       "       'Structural Review', 'WASA Review', 'WMATA Review',\n",
       "       'White House Review', 'Zoning Review'],\n",
       "      dtype='object')"
      ]
     },
     "execution_count": 66,
     "metadata": {},
     "output_type": "execute_result"
    }
   ],
   "source": [
    "agencies = pd.get_dummies(X.GroupName)\n",
    "agencies.columns"
   ]
  },
  {
   "cell_type": "code",
   "execution_count": 67,
   "metadata": {},
   "outputs": [],
   "source": [
    "temp = pd.concat([temp, agencies], axis=1)\n",
    "X = pd.concat([X, temp], axis=1)"
   ]
  },
  {
   "cell_type": "code",
   "execution_count": 68,
   "metadata": {},
   "outputs": [],
   "source": [
    "# Drop variables\n",
    "X = X.drop(['existing_use_of_building', 'proposed_use_of_building','proposed_number_stories',\n",
    "            'proposed_number_units','existing_number_units', \n",
    "            'proposed_gross_floor_area','present_gfa' ,'GroupName'], axis=1)"
   ]
  },
  {
   "cell_type": "code",
   "execution_count": 69,
   "metadata": {},
   "outputs": [
    {
     "data": {
      "text/plain": [
       "alias                             0\n",
       "pdox_b1_id                        0\n",
       "Project_Status                   66\n",
       "ReviewCycle                    1444\n",
       "TaskName                          0\n",
       "elapsed_workdays                  9\n",
       "RC_HowAssigned                68610\n",
       "job_class                       478\n",
       "AGENCY                            0\n",
       "Ward                            351\n",
       "green_floor_area              56304\n",
       "review_group                      0\n",
       "use_type                      29771\n",
       "permit_type                       0\n",
       "building_construction_type    68345\n",
       "perm_id                           0\n",
       "PRICE                         49177\n",
       "QUALIFIED                     34693\n",
       "EYB                           34761\n",
       "LIVING_GBA                    34693\n",
       "USECODE                       34693\n",
       "LANDAREA                      34693\n",
       "use_change                        0\n",
       "num_units_change                  0\n",
       "gfa_change                        0\n",
       "CFA Review                        0\n",
       "Chinatown Review                  0\n",
       "DC Water Review                   0\n",
       "DDOE Review                       0\n",
       "DDOT Review                       0\n",
       "DOEE Review                       0\n",
       "DOH Review                        0\n",
       "EISF Review                       0\n",
       "Electrical Review                 0\n",
       "Elevator Review                   0\n",
       "Energy Review                     0\n",
       "File Room                         0\n",
       "Fire Review                       0\n",
       "Green Review                      0\n",
       "HPRB Review                       0\n",
       "Mechanical Review                 0\n",
       "NCPC Review                       0\n",
       "PRC                               0\n",
       "Plumbing Review                   0\n",
       "QA Review                         0\n",
       "Structural Review                 0\n",
       "WASA Review                       0\n",
       "WMATA Review                      0\n",
       "White House Review                0\n",
       "Zoning Review                     0\n",
       "dtype: int64"
      ]
     },
     "execution_count": 69,
     "metadata": {},
     "output_type": "execute_result"
    }
   ],
   "source": [
    "# Drop N.A.\n",
    "X.isnull().sum()"
   ]
  },
  {
   "cell_type": "code",
   "execution_count": 70,
   "metadata": {},
   "outputs": [
    {
     "data": {
      "text/plain": [
       "37726"
      ]
     },
     "execution_count": 70,
     "metadata": {},
     "output_type": "execute_result"
    }
   ],
   "source": [
    "X = X.dropna()\n",
    "X.iloc[:,0].size"
   ]
  },
  {
   "cell_type": "code",
   "execution_count": 71,
   "metadata": {},
   "outputs": [],
   "source": [
    "# Save\n",
    "X.to_csv(\"~/Google/19Spring/ANLY501ASL/GroupProject/data/cleaned_uncode.csv\", index=False)"
   ]
  },
  {
   "cell_type": "markdown",
   "metadata": {},
   "source": [
    "#### Log variables have big numbers: *green_floor_area*, *PRICE*, *LIVING_GBA*, *LANDAREA*"
   ]
  },
  {
   "cell_type": "code",
   "execution_count": 72,
   "metadata": {},
   "outputs": [
    {
     "data": {
      "text/plain": [
       "green_floor_area\n",
       "0.0000         24698\n",
       "0.5600            20\n",
       "1.0000            22\n",
       "2.0000            81\n",
       "3.0000            79\n",
       "5.0000            26\n",
       "6.0000            11\n",
       "13.5000           10\n",
       "21.6000           21\n",
       "24.0000           23\n",
       "29.7000           27\n",
       "30.0000           13\n",
       "30.2600           14\n",
       "52.0000           26\n",
       "52.8000           44\n",
       "54.0000           14\n",
       "60.0000           26\n",
       "65.0000           17\n",
       "70.0000           18\n",
       "72.0000           11\n",
       "97.5000           14\n",
       "98.0000           26\n",
       "105.0000          37\n",
       "108.0000          15\n",
       "112.0000          16\n",
       "115.3400          18\n",
       "118.9036          19\n",
       "119.0000          45\n",
       "120.0000          18\n",
       "126.0000          17\n",
       "               ...  \n",
       "16644.8000        21\n",
       "17220.0000        26\n",
       "18218.7500        27\n",
       "19635.0000        26\n",
       "23125.0000        39\n",
       "25600.0000        26\n",
       "26145.0000        21\n",
       "26400.0000        16\n",
       "26700.0000        31\n",
       "27456.0000        26\n",
       "33793.8000        23\n",
       "45900.0000        23\n",
       "46312.5000        27\n",
       "52704.0000        25\n",
       "57600.0000        35\n",
       "65415.0000        24\n",
       "69480.0000        27\n",
       "73576.4400        21\n",
       "75495.6000        42\n",
       "84000.0000        28\n",
       "121656.0000       26\n",
       "155762.0000       30\n",
       "189280.0000       22\n",
       "205773.7500       19\n",
       "243360.0000       26\n",
       "248850.0000       28\n",
       "253380.0000       46\n",
       "340080.0000       23\n",
       "412368.0000       34\n",
       "801000.0000       56\n",
       "Length: 440, dtype: int64"
      ]
     },
     "execution_count": 72,
     "metadata": {},
     "output_type": "execute_result"
    }
   ],
   "source": [
    "X.groupby(by=\"green_floor_area\").size()"
   ]
  },
  {
   "cell_type": "code",
   "execution_count": 73,
   "metadata": {},
   "outputs": [],
   "source": [
    "import math\n",
    "X['green_floor_area'] = X['green_floor_area'].apply(lambda x: math.log(x,10) if x > 0 else x)"
   ]
  },
  {
   "cell_type": "code",
   "execution_count": null,
   "metadata": {},
   "outputs": [],
   "source": [
    "X.groupby(by=\"green_floor_area\").size()"
   ]
  },
  {
   "cell_type": "code",
   "execution_count": 74,
   "metadata": {},
   "outputs": [],
   "source": [
    "X['PRICE'] = X['PRICE'].apply(lambda x: math.log(x,10) if x > 0 else x)"
   ]
  },
  {
   "cell_type": "code",
   "execution_count": null,
   "metadata": {},
   "outputs": [],
   "source": [
    "X.groupby(by=\"PRICE\").size()"
   ]
  },
  {
   "cell_type": "code",
   "execution_count": 75,
   "metadata": {},
   "outputs": [],
   "source": [
    "X['LIVING_GBA'] = X['LIVING_GBA'].apply(lambda x: math.log(x,10) if x > 0 else x)"
   ]
  },
  {
   "cell_type": "code",
   "execution_count": null,
   "metadata": {},
   "outputs": [],
   "source": [
    "X.groupby(by=\"LIVING_GBA\").size()"
   ]
  },
  {
   "cell_type": "code",
   "execution_count": 76,
   "metadata": {},
   "outputs": [],
   "source": [
    "X['LANDAREA'] = X['LANDAREA'].apply(lambda x: math.log(x,10) if x > 0 else x)"
   ]
  },
  {
   "cell_type": "code",
   "execution_count": null,
   "metadata": {},
   "outputs": [],
   "source": [
    "X.groupby(by=\"LANDAREA\").size()"
   ]
  },
  {
   "cell_type": "markdown",
   "metadata": {},
   "source": [
    "##### Change EYB to elapsed years from construction"
   ]
  },
  {
   "cell_type": "code",
   "execution_count": 77,
   "metadata": {},
   "outputs": [],
   "source": [
    "X['EYB'] = X['EYB'].apply(lambda x: None if x == 0 else x)"
   ]
  },
  {
   "cell_type": "code",
   "execution_count": 78,
   "metadata": {},
   "outputs": [
    {
     "data": {
      "text/plain": [
       "EYFC\n",
       "0.0       379\n",
       "1.0       343\n",
       "2.0       241\n",
       "3.0       144\n",
       "4.0       432\n",
       "5.0       208\n",
       "6.0       246\n",
       "7.0       225\n",
       "8.0       347\n",
       "9.0       347\n",
       "10.0      382\n",
       "11.0      390\n",
       "12.0      233\n",
       "13.0      359\n",
       "14.0      275\n",
       "15.0      195\n",
       "16.0      419\n",
       "17.0      276\n",
       "18.0      325\n",
       "19.0      365\n",
       "20.0      182\n",
       "21.0      539\n",
       "22.0      141\n",
       "23.0     1012\n",
       "24.0      479\n",
       "25.0      432\n",
       "26.0      795\n",
       "27.0      399\n",
       "28.0     1069\n",
       "29.0      435\n",
       "         ... \n",
       "63.0     2630\n",
       "64.0       64\n",
       "65.0       14\n",
       "66.0       43\n",
       "67.0      422\n",
       "68.0      121\n",
       "69.0       66\n",
       "70.0      312\n",
       "71.0       25\n",
       "72.0       46\n",
       "73.0       22\n",
       "74.0      951\n",
       "76.0       23\n",
       "78.0       27\n",
       "79.0       17\n",
       "81.0       46\n",
       "82.0       63\n",
       "83.0       74\n",
       "84.0       27\n",
       "86.0       22\n",
       "88.0      143\n",
       "90.0       10\n",
       "91.0       64\n",
       "96.0       26\n",
       "97.0       31\n",
       "98.0      215\n",
       "101.0       7\n",
       "110.0      40\n",
       "118.0     209\n",
       "128.0      23\n",
       "Length: 93, dtype: int64"
      ]
     },
     "execution_count": 78,
     "metadata": {},
     "output_type": "execute_result"
    }
   ],
   "source": [
    "X['EYFC'] = 2018 - X['EYB']\n",
    "X.groupby(by=\"EYFC\").size()"
   ]
  },
  {
   "cell_type": "code",
   "execution_count": 79,
   "metadata": {},
   "outputs": [],
   "source": [
    "X.isnull().sum()\n",
    "X = X.dropna()\n",
    "X.isnull().sum()\n",
    "X = X.drop(['EYB'], axis = 1)"
   ]
  },
  {
   "cell_type": "markdown",
   "metadata": {},
   "source": [
    "#### Encode categorical variables"
   ]
  },
  {
   "cell_type": "code",
   "execution_count": 80,
   "metadata": {},
   "outputs": [],
   "source": [
    "from sklearn.preprocessing import LabelEncoder\n",
    "lb = LabelEncoder()\n",
    "CV = ['alias', 'Project_Status', 'TaskName', 'RC_HowAssigned', 'job_class', 'AGENCY',\n",
    "      'review_group', 'use_type', 'permit_type', 'building_construction_type', 'QUALIFIED',\n",
    "      'use_change', 'num_units_change', 'gfa_change']\n",
    "for v in CV:\n",
    "    X[v] = lb.fit_transform(X[v])"
   ]
  },
  {
   "cell_type": "markdown",
   "metadata": {},
   "source": [
    "#### As discussed today, I'm going to create dummy target for 7,14,21,28 days."
   ]
  },
  {
   "cell_type": "code",
   "execution_count": 81,
   "metadata": {},
   "outputs": [
    {
     "data": {
      "text/plain": [
       "elapsed_workdays_7\n",
       "0    20166\n",
       "1    17299\n",
       "dtype: int64"
      ]
     },
     "execution_count": 81,
     "metadata": {},
     "output_type": "execute_result"
    }
   ],
   "source": [
    "X['elapsed_workdays_7'] = X['elapsed_workdays'].apply(lambda x: 1 if x > 7 else 0)\n",
    "X.groupby(by='elapsed_workdays_7').size()"
   ]
  },
  {
   "cell_type": "code",
   "execution_count": 82,
   "metadata": {},
   "outputs": [
    {
     "data": {
      "text/plain": [
       "elapsed_workdays_14\n",
       "0    27177\n",
       "1    10288\n",
       "dtype: int64"
      ]
     },
     "execution_count": 82,
     "metadata": {},
     "output_type": "execute_result"
    }
   ],
   "source": [
    "X['elapsed_workdays_14'] = X['elapsed_workdays'].apply(lambda x: 1 if x > 14 else 0)\n",
    "X.groupby(by='elapsed_workdays_14').size()"
   ]
  },
  {
   "cell_type": "code",
   "execution_count": 83,
   "metadata": {},
   "outputs": [
    {
     "data": {
      "text/plain": [
       "elapsed_workdays_21\n",
       "0    30786\n",
       "1     6679\n",
       "dtype: int64"
      ]
     },
     "execution_count": 83,
     "metadata": {},
     "output_type": "execute_result"
    }
   ],
   "source": [
    "X['elapsed_workdays_21'] = X['elapsed_workdays'].apply(lambda x: 1 if x > 20 else 0)\n",
    "X.groupby(by='elapsed_workdays_21').size()"
   ]
  },
  {
   "cell_type": "code",
   "execution_count": 84,
   "metadata": {},
   "outputs": [
    {
     "data": {
      "text/plain": [
       "elapsed_workdays_28\n",
       "0    34060\n",
       "1     3405\n",
       "dtype: int64"
      ]
     },
     "execution_count": 84,
     "metadata": {},
     "output_type": "execute_result"
    }
   ],
   "source": [
    "X['elapsed_workdays_28'] = X['elapsed_workdays'].apply(lambda x: 1 if x > 28 else 0)\n",
    "X.groupby(by='elapsed_workdays_28').size()"
   ]
  },
  {
   "cell_type": "code",
   "execution_count": 85,
   "metadata": {},
   "outputs": [],
   "source": [
    "# Save\n",
    "X.to_csv(\"~/Google/19Spring/ANLY501ASL/GroupProject/data/cleaned_encode2.csv\", index=False)"
   ]
  },
  {
   "cell_type": "code",
   "execution_count": null,
   "metadata": {},
   "outputs": [],
   "source": []
  }
 ],
 "metadata": {
  "kernelspec": {
   "display_name": "Python 3",
   "language": "python",
   "name": "python3"
  },
  "language_info": {
   "codemirror_mode": {
    "name": "ipython",
    "version": 3
   },
   "file_extension": ".py",
   "mimetype": "text/x-python",
   "name": "python",
   "nbconvert_exporter": "python",
   "pygments_lexer": "ipython3",
   "version": "3.6.8"
  }
 },
 "nbformat": 4,
 "nbformat_minor": 2
}
