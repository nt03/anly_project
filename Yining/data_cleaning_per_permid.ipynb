{
 "cells": [
  {
   "cell_type": "code",
   "execution_count": null,
   "metadata": {},
   "outputs": [],
   "source": [
    "import pandas as pd\n",
    "import numpy as np\n",
    "from sklearn.preprocessing import LabelEncoder"
   ]
  },
  {
   "cell_type": "code",
   "execution_count": null,
   "metadata": {},
   "outputs": [],
   "source": [
    "# Run Ziqi's code on \"merged_dcra_cama.csv\" first then import it\n",
    "df = pd.read_csv(\"data/merged.csv\", encoding='iso-8859-1', low_memory=False)"
   ]
  },
  {
   "cell_type": "code",
   "execution_count": null,
   "metadata": {},
   "outputs": [],
   "source": [
    "df.columns"
   ]
  },
  {
   "cell_type": "code",
   "execution_count": null,
   "metadata": {},
   "outputs": [],
   "source": [
    "# Drop variables\n",
    "X = df.drop(['X1', 'As_Of_Date', 'permit_cap_status','Project_Description','Project_CreateDate', 'TaskStatus',\n",
    "             'FlowTask_CreatedDate','FlowTask_DateUpdated', 'FlowTask_DateAccepted', 'RC_ReviewStatus', \n",
    "             'RC_ReviewComments_confidential', 'Fee_Assessed','over_30','pdox','est_worktime', 'QA_Date',\n",
    "             'QA_Date_rc1', 'DESC_OF_WORK', 'issued', 'Begin_review_dd', 'Resubmit_rec_dd', 'rc_1_time', 'rc_time',\n",
    "             'FlowInstanceID', 'create_review', 'ssl', 'RC_assignedBy_anon', 'UpdatedByEmail_anon', 'applicant_anon',\n",
    "             'owner_name_anon', 'NAME_anon', 'OBJECTID', 'SALEDATE', 'AYB', 'SALE_NUM', 'GIS_LAST_MOD_DTTM'], axis=1)"
   ]
  },
  {
   "cell_type": "code",
   "execution_count": null,
   "metadata": {},
   "outputs": [],
   "source": [
    "X.columns"
   ]
  },
  {
   "cell_type": "code",
   "execution_count": null,
   "metadata": {},
   "outputs": [],
   "source": [
    "# Clean GroupName variable\n",
    "# Suppress chaining warning\n",
    "pd.options.mode.chained_assignment = None  # default='warn'"
   ]
  },
  {
   "cell_type": "code",
   "execution_count": null,
   "metadata": {},
   "outputs": [],
   "source": [
    "X.GroupName[X.GroupName == 'DC Water Review Supervisor'] = \"DC Water Review\"\n",
    "X.GroupName[X.GroupName == 'DDOT Review Supervisor'] = \"DDOT Review\"\n",
    "X.GroupName[X.GroupName == 'DOH Review Supervisor'] = \"DOH Review\"\n",
    "X.GroupName[X.GroupName == 'Electrical Review Supervisor'] = \"Electrical Review\"\n",
    "X.GroupName[X.GroupName == 'Elevator Review Supervisor'] = \"Elevator Review\"\n",
    "X.GroupName[X.GroupName == 'Energy Review Supervisor'] = \"Energy Review\"\n",
    "X.GroupName[X.GroupName == 'Fire Review Supervisor'] = \"Fire Review\"\n",
    "X.GroupName[X.GroupName == 'Green Review Supervisor'] = \"Green Review\"\n",
    "X.GroupName[X.GroupName == 'Mechanical Review Supervisor'] = \"Mechanical Review\"\n",
    "X.GroupName[X.GroupName == 'Plumbing Review Supervisor'] = \"Plumbing Review\"\n",
    "X.GroupName[X.GroupName == 'Structural Review Supervisor'] = \"Structural Review\"\n",
    "X.GroupName[X.GroupName == 'WASA Review Supervisor'] = \"WASA Review\"\n",
    "X.GroupName[X.GroupName == 'Zoning Review Supervisor'] = \"Zoning Review\""
   ]
  },
  {
   "cell_type": "code",
   "execution_count": null,
   "metadata": {},
   "outputs": [],
   "source": [
    "X.GroupName[X.GroupName == 'DDOE Review Supervisor'] = \"DDOE Review\"\n",
    "X.GroupName[X.GroupName == 'DDOE SE-SW Review'] = \"DDOE Review\"\n",
    "X.GroupName[X.GroupName == 'DDOE WSP Review'] = \"DDOE Review\"\n",
    "X.GroupName[X.GroupName == 'DOEE FP Review'] = \"DOEE Review\"\n",
    "X.GroupName[X.GroupName == 'DOEE GAR Review'] = \"DOEE Review\"\n",
    "X.GroupName[X.GroupName == 'DOEE Review Supervisor'] = \"DOEE Review\"\n",
    "X.GroupName[X.GroupName == 'DOEE SE-SW Review'] = \"DOEE Review\""
   ]
  },
  {
   "cell_type": "code",
   "execution_count": null,
   "metadata": {},
   "outputs": [],
   "source": [
    "# Aggregate 'building_construction_type' variable \n",
    "X.building_construction_type[X.building_construction_type == 'Type I - Fire-Resistive Non-combustible'] = \"Type I - Fire-Resistive Non-Combustible\"\n",
    "X.building_construction_type[X.building_construction_type == 'Type I-A - Fire-Resistive Non-Combustible'] = \"Type I - Fire-Resistive Non-Combustible\"\n",
    "X.building_construction_type[X.building_construction_type == 'Type I-B - Fire-Resistive Non-Combustible'] = \"Type I - Fire-Resistive Non-Combustible\"\n",
    "X.building_construction_type[X.building_construction_type == 'TYPE II-A - Non-Combustible Construction'] = \"TYPE II - Non-Combustible Construction\"\n",
    "X.building_construction_type[X.building_construction_type == 'TYPE II-B - Non-Combustible Construction'] = \"TYPE II - Non-Combustible Construction\"\n",
    "X.building_construction_type[X.building_construction_type == 'TYPE III-A - Non-Combustible Exterior Walls'] = \"TYPE III - Non-Combustible Exterior Walls\"\n",
    "X.building_construction_type[X.building_construction_type == 'TYPE III-B - Non-Combustible Exterior Walls'] = \"TYPE III - Non-Combustible Exterior Walls\"\n",
    "X.building_construction_type[X.building_construction_type == 'TYPE V-A - Any Materials Permitted'] = \"TYPE V - Any Materials Permitted\"\n",
    "X.building_construction_type[X.building_construction_type == 'TYPE V-B - Any Materials Permitted'] = \"TYPE V - Any Materials Permitted\""
   ]
  },
  {
   "cell_type": "markdown",
   "metadata": {},
   "source": [
    "Evaluate the variables 'proposed_number_units' and 'existing_number_units' \n",
    "Convert to a dummy to indicate whether the num of units changing in the permit application or not: 1= change/ 0=no change"
   ]
  },
  {
   "cell_type": "code",
   "execution_count": null,
   "metadata": {},
   "outputs": [],
   "source": [
    "num_units = X['proposed_number_units'] != X['existing_number_units']\n",
    "num_units = pd.DataFrame(num_units, columns=[\"num_units_change\"])\n",
    "num_units.groupby(by=\"num_units_change\").size()"
   ]
  },
  {
   "cell_type": "markdown",
   "metadata": {},
   "source": [
    "Evaluate the variables 'existing_use_of_building' and 'proposed_use_of_building' \n",
    "Convert to a dummy to indicate whether the existing use changing in the permit application or not: 1= change/ 0=no change"
   ]
  },
  {
   "cell_type": "code",
   "execution_count": null,
   "metadata": {},
   "outputs": [],
   "source": [
    "use = X['existing_use_of_building'] != X['proposed_use_of_building']\n",
    "use = pd.DataFrame(use, columns=[\"use_change\"])\n",
    "use.groupby(by=\"use_change\").size()"
   ]
  },
  {
   "cell_type": "markdown",
   "metadata": {},
   "source": [
    "Evaluate the variables'present_gfa', 'proposed_gross_floor_area' \n",
    "Convert to a dummy to indicate whether the gfa changing in the permit application or not: 1= change/ 0=no change"
   ]
  },
  {
   "cell_type": "code",
   "execution_count": null,
   "metadata": {},
   "outputs": [],
   "source": [
    "gfa = X['proposed_gross_floor_area'] != X['present_gfa']\n",
    "gfa = pd.DataFrame(gfa, columns=[\"gfa_change\"])\n",
    "gfa.groupby(by=\"gfa_change\").size()"
   ]
  },
  {
   "cell_type": "code",
   "execution_count": null,
   "metadata": {},
   "outputs": [],
   "source": [
    "temp = pd.concat([use, num_units, gfa], axis=1)"
   ]
  },
  {
   "cell_type": "markdown",
   "metadata": {},
   "source": [
    "Create dummy variables for all \"GroupName\""
   ]
  },
  {
   "cell_type": "code",
   "execution_count": null,
   "metadata": {},
   "outputs": [],
   "source": [
    "agencies = pd.get_dummies(X.GroupName)\n",
    "agencies.columns"
   ]
  },
  {
   "cell_type": "code",
   "execution_count": null,
   "metadata": {},
   "outputs": [],
   "source": [
    "temp = pd.concat([temp, agencies], axis=1)\n",
    "X = pd.concat([X, temp], axis=1)"
   ]
  },
  {
   "cell_type": "code",
   "execution_count": null,
   "metadata": {},
   "outputs": [],
   "source": [
    "# Drop variables\n",
    "X = X.drop(['existing_use_of_building', 'proposed_use_of_building','proposed_number_stories',\n",
    "            'proposed_number_units','existing_number_units', \n",
    "            'proposed_gross_floor_area','present_gfa' ,'GroupName'], axis=1)"
   ]
  },
  {
   "cell_type": "code",
   "execution_count": null,
   "metadata": {},
   "outputs": [],
   "source": [
    "# Drop N.A.\n",
    "X.isnull().sum()"
   ]
  },
  {
   "cell_type": "code",
   "execution_count": null,
   "metadata": {},
   "outputs": [],
   "source": [
    "X = X.dropna()\n",
    "X.iloc[:,0].size"
   ]
  },
  {
   "cell_type": "code",
   "execution_count": null,
   "metadata": {},
   "outputs": [],
   "source": [
    "# Save\n",
    "X.to_csv(\"~/Google/19Spring/ANLY501ASL/GroupProject/data/cleaned_uncode.csv\", index=False)"
   ]
  },
  {
   "cell_type": "markdown",
   "metadata": {},
   "source": [
    "#### Log variables have big numbers: *green_floor_area*, *PRICE*, *LIVING_GBA*, *LANDAREA*"
   ]
  },
  {
   "cell_type": "code",
   "execution_count": null,
   "metadata": {},
   "outputs": [],
   "source": [
    "X.groupby(by=\"green_floor_area\").size()"
   ]
  },
  {
   "cell_type": "code",
   "execution_count": null,
   "metadata": {},
   "outputs": [],
   "source": [
    "import math\n",
    "X['green_floor_area'] = X['green_floor_area'].apply(lambda x: math.log(x,10) if x > 0 else x)"
   ]
  },
  {
   "cell_type": "code",
   "execution_count": null,
   "metadata": {},
   "outputs": [],
   "source": [
    "X.groupby(by=\"green_floor_area\").size()"
   ]
  },
  {
   "cell_type": "code",
   "execution_count": null,
   "metadata": {},
   "outputs": [],
   "source": [
    "X['PRICE'] = X['PRICE'].apply(lambda x: math.log(x,10) if x > 0 else x)\n",
    "X.groupby(by=\"PRICE\").size()"
   ]
  },
  {
   "cell_type": "code",
   "execution_count": null,
   "metadata": {},
   "outputs": [],
   "source": [
    "X['LIVING_GBA'] = X['LIVING_GBA'].apply(lambda x: math.log(x,10) if x > 0 else x)\n",
    "X.groupby(by=\"LIVING_GBA\").size()"
   ]
  },
  {
   "cell_type": "code",
   "execution_count": null,
   "metadata": {},
   "outputs": [],
   "source": [
    "X['LANDAREA'] = X['LANDAREA'].apply(lambda x: math.log(x,10) if x > 0 else x)\n",
    "X.groupby(by=\"LANDAREA\").size()"
   ]
  },
  {
   "cell_type": "markdown",
   "metadata": {},
   "source": [
    "##### Standardize EYB"
   ]
  },
  {
   "cell_type": "code",
   "execution_count": null,
   "metadata": {},
   "outputs": [],
   "source": [
    "from sklearn import preprocessing\n",
    "X['EYB'] = preprocessing.scale(X['EYB'])\n",
    "X.groupby(by=\"EYB\").size()"
   ]
  },
  {
   "cell_type": "markdown",
   "metadata": {},
   "source": [
    "#### Encode categorical variables"
   ]
  },
  {
   "cell_type": "code",
   "execution_count": null,
   "metadata": {},
   "outputs": [],
   "source": [
    "from sklearn.preprocessing import LabelEncoder\n",
    "lb = LabelEncoder()\n",
    "CV = ['alias', 'Project_Status', 'TaskName', 'RC_HowAssigned', 'job_class', 'AGENCY',\n",
    "      'review_group', 'use_type', 'permit_type', 'building_construction_type', 'QUALIFIED',\n",
    "      'use_change', 'num_units_change', 'gfa_change']\n",
    "for v in CV:\n",
    "    X[v] = lb.fit_transform(X[v])"
   ]
  },
  {
   "cell_type": "markdown",
   "metadata": {},
   "source": [
    "#### I'm thinking over30 may not be a good threshold, according to the distribution of *elapsed_workdays*, I choose over20 (around 80 percentile). The threshold can be changed later."
   ]
  },
  {
   "cell_type": "code",
   "execution_count": null,
   "metadata": {},
   "outputs": [],
   "source": [
    "X.groupby(by=\"elapsed_workdays\").size()"
   ]
  },
  {
   "cell_type": "code",
   "execution_count": null,
   "metadata": {},
   "outputs": [],
   "source": [
    "np.percentile(X.elapsed_workdays, [25, 50, 81])"
   ]
  },
  {
   "cell_type": "code",
   "execution_count": null,
   "metadata": {},
   "outputs": [],
   "source": [
    "X['elapsed_workdays_20'] = X['elapsed_workdays'].apply(lambda x: 1 if x > 20 else 0)\n",
    "X.groupby(by='elapsed_workdays_20').size()"
   ]
  },
  {
   "cell_type": "code",
   "execution_count": null,
   "metadata": {},
   "outputs": [],
   "source": [
    "# Save\n",
    "X.to_csv(\"~/Google/19Spring/ANLY501ASL/GroupProject/data/cleaned_encode.csv\", index=False)"
   ]
  },
  {
   "cell_type": "code",
   "execution_count": null,
   "metadata": {},
   "outputs": [],
   "source": []
  }
 ],
 "metadata": {
  "kernelspec": {
   "display_name": "Python 3",
   "language": "python",
   "name": "python3"
  },
  "language_info": {
   "codemirror_mode": {
    "name": "ipython",
    "version": 3
   },
   "file_extension": ".py",
   "mimetype": "text/x-python",
   "name": "python",
   "nbconvert_exporter": "python",
   "pygments_lexer": "ipython3",
   "version": "3.6.8"
  }
 },
 "nbformat": 4,
 "nbformat_minor": 2
}
