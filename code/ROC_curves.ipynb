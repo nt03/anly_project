{
 "cells": [
  {
   "cell_type": "markdown",
   "metadata": {},
   "source": [
    "# ROC (Pdox_ID)"
   ]
  },
  {
   "cell_type": "code",
   "execution_count": null,
   "metadata": {},
   "outputs": [],
   "source": [
    "# load packages\n",
    "import numpy as np\n",
    "import pandas as pd\n",
    "import matplotlib.pyplot as plt\n",
    "%matplotlib inline \n",
    "from sklearn.model_selection import cross_val_score, validation_curve, learning_curve, train_test_split\n",
    "from sklearn.metrics import roc_curve, auc\n",
    "from sklearn.neighbors import KNeighborsClassifier\n",
    "from sklearn.naive_bayes import GaussianNB\n",
    "from sklearn.tree import DecisionTreeClassifier\n",
    "from sklearn import tree\n",
    "from sklearn.linear_model import LogisticRegression"
   ]
  },
  {
   "cell_type": "code",
   "execution_count": null,
   "metadata": {
    "scrolled": true
   },
   "outputs": [],
   "source": [
    "# import data\n",
    "dat = pd.read_csv('../data/final_permit_encode.csv')\n",
    "dat.head()"
   ]
  },
  {
   "cell_type": "code",
   "execution_count": null,
   "metadata": {},
   "outputs": [],
   "source": [
    "# create X and y\n",
    "X = dat.drop([\"elapsed_workdays\",\"pdox_b1_id\",\"over_90\",\"over_150\"], axis = 1)\n",
    "y = dat[\"over_150\"] # over150\n",
    "X.columns"
   ]
  },
  {
   "cell_type": "markdown",
   "metadata": {},
   "source": [
    "## Naive Bayes"
   ]
  },
  {
   "cell_type": "code",
   "execution_count": null,
   "metadata": {},
   "outputs": [],
   "source": [
    "# Fitting a Naive Bayes model\n",
    "bayes= GaussianNB()\n",
    "bayes.fit(X,y)"
   ]
  },
  {
   "cell_type": "code",
   "execution_count": null,
   "metadata": {},
   "outputs": [],
   "source": [
    "# Performing  10-fold cross-validation\n",
    "round(np.mean(cross_val_score(bayes, X, y, cv=10)),3)"
   ]
  },
  {
   "cell_type": "code",
   "execution_count": null,
   "metadata": {},
   "outputs": [],
   "source": [
    "# Determining the size of the trainning set\n",
    "sizes = np.arange(100, 1800,100)\n",
    "print('Sizes: ', sizes)\n",
    "\n",
    "# comparing accuracy scores\n",
    "train_sizes, train_scores, test_scores = learning_curve(bayes, X, y, cv=10, train_sizes=sizes)\n",
    "train_mean = np.mean(train_scores, axis=1)\n",
    "test_mean = np.mean(test_scores, axis=1)"
   ]
  },
  {
   "cell_type": "code",
   "execution_count": null,
   "metadata": {},
   "outputs": [],
   "source": [
    "test_mean"
   ]
  },
  {
   "cell_type": "code",
   "execution_count": null,
   "metadata": {},
   "outputs": [],
   "source": [
    "# split training and test \n",
    "training_size = 1700 # highest score above\n",
    "Xtrain, Xtest, ytrain, ytest = train_test_split(X, y, train_size=training_size, test_size=X.shape[0]-training_size)\n",
    "\n",
    "# fitting the model on training set\n",
    "bayes.fit(Xtrain, ytrain)\n",
    "y_pred1 = bayes.predict(Xtest)"
   ]
  },
  {
   "cell_type": "code",
   "execution_count": null,
   "metadata": {},
   "outputs": [],
   "source": [
    "# true positives and false positives\n",
    "false_positive_rate1, true_positive_rate1, thresholds1 = roc_curve(ytest, y_pred1, pos_label=1)\n",
    "rates1 = pd.DataFrame(dict(fpr1=false_positive_rate1, tpr1=true_positive_rate1))\n",
    "roc_auc1 = auc(rates1['fpr1'], rates1['tpr1'])\n",
    "print('AUC SVC: ', round(roc_auc1,3))"
   ]
  },
  {
   "cell_type": "markdown",
   "metadata": {},
   "source": [
    "## Decision Tree"
   ]
  },
  {
   "cell_type": "code",
   "execution_count": null,
   "metadata": {},
   "outputs": [],
   "source": [
    "# Fit decision tree model\n",
    "dt = tree.DecisionTreeClassifier()"
   ]
  },
  {
   "cell_type": "code",
   "execution_count": null,
   "metadata": {},
   "outputs": [],
   "source": [
    "dt.fit(X,y)"
   ]
  },
  {
   "cell_type": "code",
   "execution_count": null,
   "metadata": {},
   "outputs": [],
   "source": [
    "# 10-fold cross validation\n",
    "round(np.mean(cross_val_score(dt, X, y, cv=10)),3)"
   ]
  },
  {
   "cell_type": "code",
   "execution_count": null,
   "metadata": {},
   "outputs": [],
   "source": [
    "# fit the model on the training set\n",
    "dt.fit(Xtrain, ytrain)\n",
    "y_pred2 = dt.predict(Xtest)"
   ]
  },
  {
   "cell_type": "code",
   "execution_count": null,
   "metadata": {},
   "outputs": [],
   "source": [
    "# true positives and false positives\n",
    "false_positive_rate2, true_positive_rate2, thresholds2 = roc_curve(ytest, y_pred2, pos_label=1)\n",
    "rates2 = pd.DataFrame(dict(fpr2=false_positive_rate2, tpr2=true_positive_rate2))\n",
    "roc_auc2 = auc(rates2['fpr2'], rates2['tpr2'])\n",
    "print('AUC SVC: ', round(roc_auc2,3))"
   ]
  },
  {
   "cell_type": "markdown",
   "metadata": {},
   "source": [
    "## logit"
   ]
  },
  {
   "cell_type": "code",
   "execution_count": null,
   "metadata": {},
   "outputs": [],
   "source": [
    "#fit logit model\n",
    "logreg = LogisticRegression(solver='liblinear')\n",
    "logreg.fit(X,y)"
   ]
  },
  {
   "cell_type": "code",
   "execution_count": null,
   "metadata": {},
   "outputs": [],
   "source": [
    "# Performing 10-fold cross-validation\n",
    "round(np.mean(cross_val_score(logreg, X, y, cv=10)),3)"
   ]
  },
  {
   "cell_type": "code",
   "execution_count": null,
   "metadata": {},
   "outputs": [],
   "source": [
    "logreg.fit(Xtrain, ytrain)\n",
    "y_pred3 = logreg.predict(Xtest)"
   ]
  },
  {
   "cell_type": "code",
   "execution_count": null,
   "metadata": {},
   "outputs": [],
   "source": [
    "# true positives and false positives\n",
    "false_positive_rate3, true_positive_rate3, thresholds3 = roc_curve(ytest, y_pred3, pos_label=1)\n",
    "rates3 = pd.DataFrame(dict(fpr3=false_positive_rate3, tpr3=true_positive_rate3))\n",
    "roc_auc3 = auc(rates3['fpr3'], rates3['tpr3'])\n",
    "print('AUC SVC: ', round(roc_auc3,3))"
   ]
  },
  {
   "cell_type": "markdown",
   "metadata": {},
   "source": [
    "## KNN"
   ]
  },
  {
   "cell_type": "code",
   "execution_count": null,
   "metadata": {},
   "outputs": [],
   "source": [
    "# KNN\n",
    "# Test which k performs the best\n",
    "k_range = range(1,20)\n",
    "k_scores = []\n",
    "for k in k_range:\n",
    "    knn = KNeighborsClassifier(n_neighbors = k)\n",
    "    scores = cross_val_score(knn, X, y, cv=10, scoring = 'accuracy')\n",
    "    k_scores.append(scores.mean())"
   ]
  },
  {
   "cell_type": "code",
   "execution_count": null,
   "metadata": {},
   "outputs": [],
   "source": [
    "k_scores"
   ]
  },
  {
   "cell_type": "code",
   "execution_count": null,
   "metadata": {},
   "outputs": [],
   "source": [
    "# choose neighbors = 9 according to scores above\n",
    "knn = KNeighborsClassifier(n_neighbors = 9)\n",
    "knn.fit(Xtrain, ytrain)\n",
    "y_pred4 = knn.predict(Xtest)"
   ]
  },
  {
   "cell_type": "code",
   "execution_count": null,
   "metadata": {},
   "outputs": [],
   "source": [
    "# true positives and false positives\n",
    "false_positive_rate4, true_positive_rate4, thresholds4 = roc_curve(ytest, y_pred4, pos_label=1)\n",
    "rates4 = pd.DataFrame(dict(fpr4=false_positive_rate4, tpr4=true_positive_rate4))\n",
    "roc_auc4 = auc(rates4['fpr4'], rates4['tpr4'])\n",
    "print('AUC SVC: ', round(roc_auc4,3))"
   ]
  },
  {
   "cell_type": "code",
   "execution_count": null,
   "metadata": {
    "scrolled": true
   },
   "outputs": [],
   "source": [
    "#ROC curve over150\n",
    "plt.plot(rates1.fpr1, rates1.tpr1, 'b',color='red', label = 'Naive Bayes = %0.2f' % roc_auc1)\n",
    "plt.plot(rates4.fpr4, rates4.tpr4, 'b',color='grey', label = 'KNN = %0.2f' % roc_auc4)\n",
    "plt.plot(rates2.fpr2, rates2.tpr2, 'b',color='cyan', label = 'Decision Tree = %0.2f' % roc_auc2)\n",
    "plt.plot(rates3.fpr3, rates3.tpr3, 'b',color='blue',label = 'Logit = %0.2f' % roc_auc3)\n",
    "plt.plot([0, 1], [0, 1],'r--')\n",
    "plt.xlim([0, 1])\n",
    "plt.ylim([0, 1])\n",
    "plt.ylabel('True Positive Rate')\n",
    "plt.xlabel('False Positive Rate')\n",
    "plt.title('Pdox Model: Receiver Operating Characteristic')\n",
    "plt.legend(loc = 'lower right')\n",
    "plt.savefig('ROC.png')\n",
    "plt.show()"
   ]
  },
  {
   "cell_type": "code",
   "execution_count": null,
   "metadata": {},
   "outputs": [],
   "source": []
  }
 ],
 "metadata": {
  "kernelspec": {
   "display_name": "Python 3",
   "language": "python",
   "name": "python3"
  },
  "language_info": {
   "codemirror_mode": {
    "name": "ipython",
    "version": 3
   },
   "file_extension": ".py",
   "mimetype": "text/x-python",
   "name": "python",
   "nbconvert_exporter": "python",
   "pygments_lexer": "ipython3",
   "version": "3.7.2"
  }
 },
 "nbformat": 4,
 "nbformat_minor": 2
}
