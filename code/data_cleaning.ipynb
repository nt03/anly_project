{
 "cells": [
  {
   "cell_type": "code",
   "execution_count": null,
   "metadata": {},
   "outputs": [],
   "source": [
    "import pandas as pd\n"
   ]
  },
  {
   "cell_type": "code",
   "execution_count": null,
   "metadata": {},
   "outputs": [],
   "source": [
    "df = pd.read_csv(\"merge_dcra_cama2.csv\", encoding='iso-8859-1', low_memory=False)"
   ]
  },
  {
   "cell_type": "code",
   "execution_count": null,
   "metadata": {},
   "outputs": [],
   "source": [
    "df.shape"
   ]
  },
  {
   "cell_type": "code",
   "execution_count": null,
   "metadata": {},
   "outputs": [],
   "source": [
    "df.columns"
   ]
  },
  {
   "cell_type": "code",
   "execution_count": null,
   "metadata": {},
   "outputs": [],
   "source": [
    "#dropping the time variables and other redundant variables \n",
    "X = df.drop(['X1', 'As_Of_Date', 'Project_CreateDate','elapsed_workdays', 'FlowTask_CreatedDate','FlowTask_DateUpdated', 'FlowTask_DateAccepted', \n",
    "            'RC_ReviewComments_confidential','QA_Date', 'QA_Date_rc1', 'DESC_OF_WORK', 'issued','over_30', 'est_worktime', \n",
    "            'Begin_review_dd', 'Resubmit_rec_dd', 'rc_1_time', 'rc_time', 'create_review','RC_assignedBy_anon',\n",
    "       'UpdatedByEmail_anon', 'applicant_anon', 'owner_name_anon', 'NAME_anon', 'GIS_LAST_MOD_DTTM'], axis=1)"
   ]
  },
  {
   "cell_type": "code",
   "execution_count": null,
   "metadata": {},
   "outputs": [],
   "source": [
    "X.shape"
   ]
  },
  {
   "cell_type": "code",
   "execution_count": null,
   "metadata": {
    "scrolled": true
   },
   "outputs": [],
   "source": [
    "X.isnull().sum()"
   ]
  },
  {
   "cell_type": "markdown",
   "metadata": {},
   "source": [
    "DUMMIES: \n",
    "- QUALIFIED: q/U\n",
    "- permit_type: C/sd\n",
    "- use_type: c/r\n",
    "- review_group: dept rev/PRC/QA/supervisor\n",
    "- ward\n",
    "- pdox 1 - dropped\n",
    "- agency: dcra/sis\n",
    "- job_class: a/aa/b/c/d/dgs/e/m/r/sd/tl/tpr/v\n",
    "- RC_HowAssigned: fig/indiv\n",
    "- RC_ReviewStatus: app/app-wc/app-feedue/assignonly/assigned/hfc/underreview\n",
    "- GroupName: cleaned\n",
    "- TaskName: batchstamps/beginreview/deptreview/prescreenreview/resubmitreview/revicomplete/reviewQA\n",
    "- TaskStatus: dropped\n",
    "- ReviewCycle : 0-9\n",
    "- Project_Description - dropped\n",
    "- Project_Status: applied/approved/canceled/final-processing/hfc/pending-payment/pre-screen acceptance/pre-screen resubmit req/pre screen review/ under review\n",
    "- permit_cap_status: Application Accepted, Application Canceled, Completed, Fire Review Approved, PDOX Update, Permit Canceled, Permit Issued,\n",
    "    Permit Not Issued, Permit Revoked, ProjectDox Under Review, Projectdox Accepted, Projectdox Under Review, Ready For Issuance,\n",
    "    Review In Process, Review in Process\n",
    "- alias -15/20\n",
    "- building_construction_type: cleaning done"
   ]
  },
  {
   "cell_type": "markdown",
   "metadata": {},
   "source": [
    "IDs:\n",
    "    - flowinstanceid\n",
    "    - object id\n",
    "    - ssl\n",
    "    - perm_id\n",
    "    - pdox_b1_id\n",
    "    - "
   ]
  },
  {
   "cell_type": "code",
   "execution_count": null,
   "metadata": {},
   "outputs": [],
   "source": [
    "X.columns"
   ]
  },
  {
   "cell_type": "code",
   "execution_count": null,
   "metadata": {},
   "outputs": [],
   "source": [
    "# dropping pdox, TaskStatus, project_description, pdox_b1_id, some IDs\n",
    "\n",
    "X = X.drop(['pdox', 'TaskStatus', 'Project_Description', 'pdox_b1_id', 'Fee_Assessed', 'FlowInstanceID','OBJECTID', 'SALEDATE' ], axis=1)"
   ]
  },
  {
   "cell_type": "code",
   "execution_count": null,
   "metadata": {},
   "outputs": [],
   "source": [
    "X.shape"
   ]
  },
  {
   "cell_type": "code",
   "execution_count": null,
   "metadata": {},
   "outputs": [],
   "source": [
    "#clean GroupName variable\n",
    "\n",
    "X.groupby(\"GroupName\").size()"
   ]
  },
  {
   "cell_type": "code",
   "execution_count": null,
   "metadata": {},
   "outputs": [],
   "source": [
    "#to suppress chaining warning\n",
    "pd.options.mode.chained_assignment = None  # default='warn'"
   ]
  },
  {
   "cell_type": "code",
   "execution_count": null,
   "metadata": {},
   "outputs": [],
   "source": [
    "#renaming some column values to aggregate across agency departments for 'GroupName' variable\n",
    "X.GroupName[X.GroupName == 'DC Water Review Supervisor'] = \"DC Water Review\"\n",
    "X.GroupName[X.GroupName == 'DDOT Review Supervisor'] = \"DDOT Review\"\n",
    "X.GroupName[X.GroupName == 'DOH Review Supervisor'] = \"DOH Review\"\n",
    "X.GroupName[X.GroupName == 'Electrical Review Supervisor'] = \"Electrical Review\"\n",
    "X.GroupName[X.GroupName == 'Elevator Review Supervisor'] = \"Elevator Review\"\n",
    "X.GroupName[X.GroupName == 'Energy Review Supervisor'] = \"Energy Review\"\n",
    "X.GroupName[X.GroupName == 'Fire Review Supervisor'] = \"Fire Review\"\n",
    "X.GroupName[X.GroupName == 'Green Review Supervisor'] = \"Green Review\"\n",
    "X.GroupName[X.GroupName == 'Mechanical Review Supervisor'] = \"Mechanical Review\"\n",
    "X.GroupName[X.GroupName == 'Plumbing Review Supervisor'] = \"Plumbing Review\"\n",
    "X.GroupName[X.GroupName == 'Structural Review Supervisor'] = \"Structural Review\"\n",
    "X.GroupName[X.GroupName == 'WASA Review Supervisor'] = \"WASA Review\"\n",
    "X.GroupName[X.GroupName == 'Zoning Review Supervisor'] = \"Zoning Review\""
   ]
  },
  {
   "cell_type": "code",
   "execution_count": null,
   "metadata": {},
   "outputs": [],
   "source": [
    "X.GroupName[X.GroupName == 'DDOE Review Supervisor'] = \"DDOE\"\n",
    "X.GroupName[X.GroupName == 'DDOE SE-SW Review'] = \"DDOE\"\n",
    "X.GroupName[X.GroupName == 'DDOE WSP Review'] = \"DDOE\""
   ]
  },
  {
   "cell_type": "code",
   "execution_count": null,
   "metadata": {},
   "outputs": [],
   "source": [
    "X.GroupName[X.GroupName == 'DOEE FP Review'] = \"DOEE\"\n",
    "X.GroupName[X.GroupName == 'DOEE GAR Review'] = \"DOEE\"\n",
    "X.GroupName[X.GroupName == 'DOEE Review Supervisor'] = \"DOEE\"\n",
    "X.GroupName[X.GroupName == 'DOEE SE-SW Review'] = \"DOEE\"\n"
   ]
  },
  {
   "cell_type": "code",
   "execution_count": null,
   "metadata": {},
   "outputs": [],
   "source": [
    "#aggregate 'building_construction_type' variable \n",
    "X.groupby(\"building_construction_type\").size()"
   ]
  },
  {
   "cell_type": "code",
   "execution_count": null,
   "metadata": {},
   "outputs": [],
   "source": [
    "X.building_construction_type[X.building_construction_type == 'Type I - Fire-Resistive Non-combustible'] = \"Type I - Fire-Resistive Non-Combustible\"\n",
    "X.building_construction_type[X.building_construction_type == 'Type I-A - Fire-Resistive Non-Combustible'] = \"Type I - Fire-Resistive Non-Combustible\"\n",
    "X.building_construction_type[X.building_construction_type == 'Type I-B - Fire-Resistive Non-Combustible'] = \"Type I - Fire-Resistive Non-Combustible\"\n"
   ]
  },
  {
   "cell_type": "code",
   "execution_count": null,
   "metadata": {},
   "outputs": [],
   "source": [
    "X.building_construction_type[X.building_construction_type == 'TYPE II-A - Non-Combustible Construction'] = \"TYPE II - Non-Combustible Construction\"\n",
    "X.building_construction_type[X.building_construction_type == 'TYPE II-B - Non-Combustible Construction'] = \"TYPE II - Non-Combustible Construction\"\n",
    "X.building_construction_type[X.building_construction_type == 'TYPE III-A - Non-Combustible Exterior Walls'] = \"TYPE III - Non-Combustible Exterior Walls\"\n",
    "X.building_construction_type[X.building_construction_type == 'TYPE III-B - Non-Combustible Exterior Walls'] = \"TYPE III - Non-Combustible Exterior Walls\"\n",
    "X.building_construction_type[X.building_construction_type == 'TYPE V-A - Any Materials Permitted'] = \"TYPE V - Any Materials Permitted\"\n",
    "X.building_construction_type[X.building_construction_type == 'TYPE V-B - Any Materials Permitted'] = \"TYPE V - Any Materials Permitted\"\n",
    "\n"
   ]
  },
  {
   "cell_type": "code",
   "execution_count": null,
   "metadata": {},
   "outputs": [],
   "source": [
    "#drop NAs\n",
    "X= X.dropna()"
   ]
  },
  {
   "cell_type": "code",
   "execution_count": null,
   "metadata": {},
   "outputs": [],
   "source": [
    "X.shape"
   ]
  },
  {
   "cell_type": "code",
   "execution_count": null,
   "metadata": {},
   "outputs": [],
   "source": [
    "X.to_csv(r\"C:\\Users\\tneha\\Desktop\\coursework\\anly\\project\\data\\cleaned_data.csv\")"
   ]
  },
  {
   "cell_type": "code",
   "execution_count": null,
   "metadata": {},
   "outputs": [],
   "source": []
  }
 ],
 "metadata": {
  "kernelspec": {
   "display_name": "Python 3",
   "language": "python",
   "name": "python3"
  },
  "language_info": {
   "codemirror_mode": {
    "name": "ipython",
    "version": 3
   },
   "file_extension": ".py",
   "mimetype": "text/x-python",
   "name": "python",
   "nbconvert_exporter": "python",
   "pygments_lexer": "ipython3",
   "version": "3.6.5"
  },
  "toc": {
   "base_numbering": 1,
   "nav_menu": {},
   "number_sections": true,
   "sideBar": true,
   "skip_h1_title": false,
   "title_cell": "Table of Contents",
   "title_sidebar": "Contents",
   "toc_cell": false,
   "toc_position": {},
   "toc_section_display": true,
   "toc_window_display": false
  },
  "varInspector": {
   "cols": {
    "lenName": 16,
    "lenType": 16,
    "lenVar": 40
   },
   "kernels_config": {
    "python": {
     "delete_cmd_postfix": "",
     "delete_cmd_prefix": "del ",
     "library": "var_list.py",
     "varRefreshCmd": "print(var_dic_list())"
    },
    "r": {
     "delete_cmd_postfix": ") ",
     "delete_cmd_prefix": "rm(",
     "library": "var_list.r",
     "varRefreshCmd": "cat(var_dic_list()) "
    }
   },
   "types_to_exclude": [
    "module",
    "function",
    "builtin_function_or_method",
    "instance",
    "_Feature"
   ],
   "window_display": false
  }
 },
 "nbformat": 4,
 "nbformat_minor": 2
}
