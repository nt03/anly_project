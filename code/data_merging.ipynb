{
 "cells": [
  {
   "cell_type": "code",
   "execution_count": 2,
   "metadata": {},
   "outputs": [],
   "source": [
    "import pandas as pd\n",
    "import csv"
   ]
  },
  {
   "cell_type": "markdown",
   "metadata": {},
   "source": [
    "### Merge three CAMA datasets together"
   ]
  },
  {
   "cell_type": "code",
   "execution_count": 5,
   "metadata": {},
   "outputs": [],
   "source": [
    "df1 = pd.read_csv(\"../../data/Computer_Assisted_Mass_Appraisal__Commercial.csv\")\n",
    "df2 = pd.read_csv(\"../../data/Computer_Assisted_Mass_Appraisal__Condominium.csv\")\n",
    "df3 = pd.read_csv(\"../../data/Computer_Assisted_Mass_Appraisal__Residential.csv\")"
   ]
  },
  {
   "cell_type": "code",
   "execution_count": 6,
   "metadata": {},
   "outputs": [
    {
     "data": {
      "text/plain": [
       "(21797, 23)"
      ]
     },
     "execution_count": 6,
     "metadata": {},
     "output_type": "execute_result"
    }
   ],
   "source": [
    "# Check the shape of each dataset (rows*columns)\n",
    "df1.shape"
   ]
  },
  {
   "cell_type": "code",
   "execution_count": 7,
   "metadata": {},
   "outputs": [
    {
     "data": {
      "text/plain": [
       "(54270, 23)"
      ]
     },
     "execution_count": 7,
     "metadata": {},
     "output_type": "execute_result"
    }
   ],
   "source": [
    "df2.shape"
   ]
  },
  {
   "cell_type": "code",
   "execution_count": 8,
   "metadata": {},
   "outputs": [
    {
     "data": {
      "text/plain": [
       "(107774, 39)"
      ]
     },
     "execution_count": 8,
     "metadata": {},
     "output_type": "execute_result"
    }
   ],
   "source": [
    "df3.shape"
   ]
  },
  {
   "cell_type": "code",
   "execution_count": 9,
   "metadata": {},
   "outputs": [
    {
     "data": {
      "text/plain": [
       "Index(['OBJECTID', 'SSL', 'BLDG_NUM', 'SECT_NUM', 'STRUCT_CL', 'STRUCT_CL_D',\n",
       "       'GRADE', 'GRADE_D', 'EXTWALL', 'EXTWALL_D', 'WALL_HGT', 'NUM_UNITS',\n",
       "       'SALEDATE', 'PRICE', 'QUALIFIED', 'AYB', 'YR_RMDL', 'EYB', 'SALE_NUM',\n",
       "       'LIVING_GBA', 'USECODE', 'LANDAREA', 'GIS_LAST_MOD_DTTM'],\n",
       "      dtype='object')"
      ]
     },
     "execution_count": 9,
     "metadata": {},
     "output_type": "execute_result"
    }
   ],
   "source": [
    "df1.columns"
   ]
  },
  {
   "cell_type": "code",
   "execution_count": 10,
   "metadata": {},
   "outputs": [
    {
     "data": {
      "text/plain": [
       "Index(['OBJECTID', 'SSL', 'BLDG_NUM', 'CMPLX_NUM', 'AYB', 'YR_RMDL', 'EYB',\n",
       "       'ROOMS', 'BEDRM', 'BATHRM', 'HF_BATHRM', 'HEAT', 'HEAT_D', 'AC',\n",
       "       'FIREPLACES', 'SALEDATE', 'PRICE', 'QUALIFIED', 'SALE_NUM',\n",
       "       'LIVING_GBA', 'USECODE', 'LANDAREA', 'GIS_LAST_MOD_DTTM'],\n",
       "      dtype='object')"
      ]
     },
     "execution_count": 10,
     "metadata": {},
     "output_type": "execute_result"
    }
   ],
   "source": [
    "df2.columns"
   ]
  },
  {
   "cell_type": "code",
   "execution_count": 11,
   "metadata": {},
   "outputs": [
    {
     "data": {
      "text/plain": [
       "Index(['OBJECTID', 'SSL', 'BATHRM', 'HF_BATHRM', 'HEAT', 'HEAT_D', 'AC',\n",
       "       'NUM_UNITS', 'ROOMS', 'BEDRM', 'AYB', 'YR_RMDL', 'EYB', 'STORIES',\n",
       "       'SALEDATE', 'PRICE', 'QUALIFIED', 'SALE_NUM', 'GBA', 'BLDG_NUM',\n",
       "       'STYLE', 'STYLE_D', 'STRUCT', 'STRUCT_D', 'GRADE', 'GRADE_D', 'CNDTN',\n",
       "       'CNDTN_D', 'EXTWALL', 'EXTWALL_D', 'ROOF', 'ROOF_D', 'INTWALL',\n",
       "       'INTWALL_D', 'KITCHENS', 'FIREPLACES', 'USECODE', 'LANDAREA',\n",
       "       'GIS_LAST_MOD_DTTM'],\n",
       "      dtype='object')"
      ]
     },
     "execution_count": 11,
     "metadata": {},
     "output_type": "execute_result"
    }
   ],
   "source": [
    "df3.columns"
   ]
  },
  {
   "cell_type": "code",
   "execution_count": 14,
   "metadata": {},
   "outputs": [],
   "source": [
    "# Rename 'GBA' to 'LIVING_GBA' to ensure clean merge\n",
    "df3 = df3.rename(columns={'GBA': 'LIVING_GBA'})"
   ]
  },
  {
   "cell_type": "code",
   "execution_count": 15,
   "metadata": {},
   "outputs": [
    {
     "data": {
      "text/plain": [
       "(21797, 14)"
      ]
     },
     "execution_count": 15,
     "metadata": {},
     "output_type": "execute_result"
    }
   ],
   "source": [
    "# Keep columns that are common among three CAMA datasets\n",
    "df11 = df1[['OBJECTID', 'SSL', 'BLDG_NUM', 'SALEDATE', 'PRICE', 'QUALIFIED', 'AYB', 'YR_RMDL', 'EYB', 'SALE_NUM',\n",
    "       'LIVING_GBA', 'USECODE', 'LANDAREA', 'GIS_LAST_MOD_DTTM']]\n",
    "df11.shape"
   ]
  },
  {
   "cell_type": "code",
   "execution_count": 16,
   "metadata": {},
   "outputs": [
    {
     "data": {
      "text/plain": [
       "(54270, 14)"
      ]
     },
     "execution_count": 16,
     "metadata": {},
     "output_type": "execute_result"
    }
   ],
   "source": [
    "df22 = df2[['OBJECTID', 'SSL', 'BLDG_NUM', 'SALEDATE', 'PRICE', 'QUALIFIED', 'AYB', 'YR_RMDL', 'EYB', 'SALE_NUM',\n",
    "       'LIVING_GBA', 'USECODE', 'LANDAREA', 'GIS_LAST_MOD_DTTM']]\n",
    "df22.shape"
   ]
  },
  {
   "cell_type": "code",
   "execution_count": 17,
   "metadata": {},
   "outputs": [
    {
     "data": {
      "text/plain": [
       "(107774, 14)"
      ]
     },
     "execution_count": 17,
     "metadata": {},
     "output_type": "execute_result"
    }
   ],
   "source": [
    "df33 = df3[['OBJECTID', 'SSL', 'BLDG_NUM', 'SALEDATE', 'PRICE', 'QUALIFIED', 'AYB', 'YR_RMDL', 'EYB', 'SALE_NUM',\n",
    "       'LIVING_GBA', 'USECODE', 'LANDAREA', 'GIS_LAST_MOD_DTTM']]\n",
    "df33.shape"
   ]
  },
  {
   "cell_type": "code",
   "execution_count": 18,
   "metadata": {},
   "outputs": [],
   "source": [
    "# Merge into a new dataframe with only the common columns\n",
    "df_common =  df11.append(df22, ignore_index=True, sort=False)\n",
    "df_common =  df_common.append(df33, ignore_index=True, sort=False)"
   ]
  },
  {
   "cell_type": "code",
   "execution_count": 19,
   "metadata": {},
   "outputs": [
    {
     "data": {
      "text/plain": [
       "(183841, 14)"
      ]
     },
     "execution_count": 19,
     "metadata": {},
     "output_type": "execute_result"
    }
   ],
   "source": [
    "df_common.shape"
   ]
  },
  {
   "cell_type": "code",
   "execution_count": 21,
   "metadata": {},
   "outputs": [],
   "source": [
    "# write to csv file\n",
    "df_common.to_csv(\"../../data/cama_common.csv\")"
   ]
  },
  {
   "cell_type": "markdown",
   "metadata": {},
   "source": [
    "### Merge the new dataset with the dataset from DCRA"
   ]
  },
  {
   "cell_type": "code",
   "execution_count": 22,
   "metadata": {},
   "outputs": [],
   "source": [
    "dcra = pd.read_csv(\"../../data/permit_reviews_an.csv\", low_memory=False)"
   ]
  },
  {
   "cell_type": "code",
   "execution_count": 23,
   "metadata": {},
   "outputs": [
    {
     "data": {
      "text/plain": [
       "(185372, 54)"
      ]
     },
     "execution_count": 23,
     "metadata": {},
     "output_type": "execute_result"
    }
   ],
   "source": [
    "dcra.shape"
   ]
  },
  {
   "cell_type": "code",
   "execution_count": 24,
   "metadata": {},
   "outputs": [
    {
     "data": {
      "text/plain": [
       "Index(['As_Of_Date', 'alias', 'permit_cap_status', 'pdox_b1_id',\n",
       "       'Project_Status', 'Project_Description', 'Project_CreateDate',\n",
       "       'ReviewCycle', 'TaskName', 'TaskStatus', 'GroupName',\n",
       "       'elapsed_workdays', 'RC_ReviewStatus', 'FlowTask_CreatedDate',\n",
       "       'FlowTask_DateUpdated', 'FlowTask_DateAccepted', 'RC_HowAssigned',\n",
       "       'RC_ReviewComments_confidential', 'Fee_Assessed', 'job_class',\n",
       "       'over_30', 'AGENCY', 'pdox', 'est_worktime', 'QA_Date', 'QA_Date_rc1',\n",
       "       'Ward', 'DESC_OF_WORK', 'proposed_gross_floor_area', 'green_floor_area',\n",
       "       'issued', 'Begin_review_dd', 'Resubmit_rec_dd', 'rc_1_time', 'rc_time',\n",
       "       'FlowInstanceID', 'review_group', 'use_type', 'permit_type',\n",
       "       'building_construction_type', 'existing_use_of_building',\n",
       "       'proposed_use_of_building', 'proposed_number_stories',\n",
       "       'proposed_number_units', 'existing_number_units', 'present_gfa',\n",
       "       'create_review', 'ssl', 'perm_id', 'RC_assignedBy_anon',\n",
       "       'UpdatedByEmail_anon', 'applicant_anon', 'owner_name_anon',\n",
       "       'NAME_anon'],\n",
       "      dtype='object')"
      ]
     },
     "execution_count": 24,
     "metadata": {},
     "output_type": "execute_result"
    }
   ],
   "source": [
    "dcra.columns"
   ]
  },
  {
   "cell_type": "code",
   "execution_count": 25,
   "metadata": {},
   "outputs": [],
   "source": [
    "# Rename 'SSL' to 'ssl' to ensure clean merge\n",
    "df_common = df_common.rename(columns={'SSL': 'ssl'})"
   ]
  },
  {
   "cell_type": "code",
   "execution_count": 28,
   "metadata": {},
   "outputs": [],
   "source": [
    "df = pd.merge(dcra, df_common, on='ssl', how='inner')"
   ]
  },
  {
   "cell_type": "code",
   "execution_count": 29,
   "metadata": {},
   "outputs": [
    {
     "data": {
      "text/plain": [
       "(174171, 67)"
      ]
     },
     "execution_count": 29,
     "metadata": {},
     "output_type": "execute_result"
    }
   ],
   "source": [
    "df.shape"
   ]
  },
  {
   "cell_type": "code",
   "execution_count": 30,
   "metadata": {},
   "outputs": [
    {
     "data": {
      "text/html": [
       "<div>\n",
       "<style scoped>\n",
       "    .dataframe tbody tr th:only-of-type {\n",
       "        vertical-align: middle;\n",
       "    }\n",
       "\n",
       "    .dataframe tbody tr th {\n",
       "        vertical-align: top;\n",
       "    }\n",
       "\n",
       "    .dataframe thead th {\n",
       "        text-align: right;\n",
       "    }\n",
       "</style>\n",
       "<table border=\"1\" class=\"dataframe\">\n",
       "  <thead>\n",
       "    <tr style=\"text-align: right;\">\n",
       "      <th></th>\n",
       "      <th>As_Of_Date</th>\n",
       "      <th>alias</th>\n",
       "      <th>permit_cap_status</th>\n",
       "      <th>pdox_b1_id</th>\n",
       "      <th>Project_Status</th>\n",
       "      <th>Project_Description</th>\n",
       "      <th>Project_CreateDate</th>\n",
       "      <th>ReviewCycle</th>\n",
       "      <th>TaskName</th>\n",
       "      <th>TaskStatus</th>\n",
       "      <th>...</th>\n",
       "      <th>PRICE</th>\n",
       "      <th>QUALIFIED</th>\n",
       "      <th>AYB</th>\n",
       "      <th>YR_RMDL</th>\n",
       "      <th>EYB</th>\n",
       "      <th>SALE_NUM</th>\n",
       "      <th>LIVING_GBA</th>\n",
       "      <th>USECODE</th>\n",
       "      <th>LANDAREA</th>\n",
       "      <th>GIS_LAST_MOD_DTTM</th>\n",
       "    </tr>\n",
       "  </thead>\n",
       "  <tbody>\n",
       "    <tr>\n",
       "      <th>0</th>\n",
       "      <td>35:12.1</td>\n",
       "      <td>Addition Alteration Repair Permit</td>\n",
       "      <td>Review In Process</td>\n",
       "      <td>B1502871</td>\n",
       "      <td>Approved</td>\n",
       "      <td>Addition Alteration Repair Permit - 1110 6TH S...</td>\n",
       "      <td>00:00.0</td>\n",
       "      <td>1.0</td>\n",
       "      <td>ReviewQA</td>\n",
       "      <td>Complete</td>\n",
       "      <td>...</td>\n",
       "      <td>1620000.0</td>\n",
       "      <td>U</td>\n",
       "      <td>1900.0</td>\n",
       "      <td>2000.0</td>\n",
       "      <td>1968.0</td>\n",
       "      <td>4</td>\n",
       "      <td>2508</td>\n",
       "      <td>24</td>\n",
       "      <td>2394</td>\n",
       "      <td>2019-03-29T18:01:40.000Z</td>\n",
       "    </tr>\n",
       "    <tr>\n",
       "      <th>1</th>\n",
       "      <td>35:12.1</td>\n",
       "      <td>Addition Alteration Repair Permit</td>\n",
       "      <td>Review In Process</td>\n",
       "      <td>B1502871</td>\n",
       "      <td>Approved</td>\n",
       "      <td>Addition Alteration Repair Permit - 1110 6TH S...</td>\n",
       "      <td>00:00.0</td>\n",
       "      <td>0.0</td>\n",
       "      <td>ApplicantUpload</td>\n",
       "      <td>Complete</td>\n",
       "      <td>...</td>\n",
       "      <td>1620000.0</td>\n",
       "      <td>U</td>\n",
       "      <td>1900.0</td>\n",
       "      <td>2000.0</td>\n",
       "      <td>1968.0</td>\n",
       "      <td>4</td>\n",
       "      <td>2508</td>\n",
       "      <td>24</td>\n",
       "      <td>2394</td>\n",
       "      <td>2019-03-29T18:01:40.000Z</td>\n",
       "    </tr>\n",
       "    <tr>\n",
       "      <th>2</th>\n",
       "      <td>35:12.1</td>\n",
       "      <td>Addition Alteration Repair Permit</td>\n",
       "      <td>Review In Process</td>\n",
       "      <td>B1502871</td>\n",
       "      <td>Approved</td>\n",
       "      <td>Addition Alteration Repair Permit - 1110 6TH S...</td>\n",
       "      <td>00:00.0</td>\n",
       "      <td>0.0</td>\n",
       "      <td>PreScreenReview</td>\n",
       "      <td>Complete</td>\n",
       "      <td>...</td>\n",
       "      <td>1620000.0</td>\n",
       "      <td>U</td>\n",
       "      <td>1900.0</td>\n",
       "      <td>2000.0</td>\n",
       "      <td>1968.0</td>\n",
       "      <td>4</td>\n",
       "      <td>2508</td>\n",
       "      <td>24</td>\n",
       "      <td>2394</td>\n",
       "      <td>2019-03-29T18:01:40.000Z</td>\n",
       "    </tr>\n",
       "    <tr>\n",
       "      <th>3</th>\n",
       "      <td>35:12.1</td>\n",
       "      <td>Addition Alteration Repair Permit</td>\n",
       "      <td>Review In Process</td>\n",
       "      <td>B1502871</td>\n",
       "      <td>Approved</td>\n",
       "      <td>Addition Alteration Repair Permit - 1110 6TH S...</td>\n",
       "      <td>00:00.0</td>\n",
       "      <td>0.0</td>\n",
       "      <td>BeginReview</td>\n",
       "      <td>Complete</td>\n",
       "      <td>...</td>\n",
       "      <td>1620000.0</td>\n",
       "      <td>U</td>\n",
       "      <td>1900.0</td>\n",
       "      <td>2000.0</td>\n",
       "      <td>1968.0</td>\n",
       "      <td>4</td>\n",
       "      <td>2508</td>\n",
       "      <td>24</td>\n",
       "      <td>2394</td>\n",
       "      <td>2019-03-29T18:01:40.000Z</td>\n",
       "    </tr>\n",
       "    <tr>\n",
       "      <th>4</th>\n",
       "      <td>35:12.1</td>\n",
       "      <td>Addition Alteration Repair Permit</td>\n",
       "      <td>Review In Process</td>\n",
       "      <td>B1502871</td>\n",
       "      <td>Approved</td>\n",
       "      <td>Addition Alteration Repair Permit - 1110 6TH S...</td>\n",
       "      <td>00:00.0</td>\n",
       "      <td>1.0</td>\n",
       "      <td>DepartmentReview</td>\n",
       "      <td>Complete</td>\n",
       "      <td>...</td>\n",
       "      <td>1620000.0</td>\n",
       "      <td>U</td>\n",
       "      <td>1900.0</td>\n",
       "      <td>2000.0</td>\n",
       "      <td>1968.0</td>\n",
       "      <td>4</td>\n",
       "      <td>2508</td>\n",
       "      <td>24</td>\n",
       "      <td>2394</td>\n",
       "      <td>2019-03-29T18:01:40.000Z</td>\n",
       "    </tr>\n",
       "  </tbody>\n",
       "</table>\n",
       "<p>5 rows × 67 columns</p>\n",
       "</div>"
      ],
      "text/plain": [
       "  As_Of_Date                              alias  permit_cap_status pdox_b1_id  \\\n",
       "0    35:12.1  Addition Alteration Repair Permit  Review In Process   B1502871   \n",
       "1    35:12.1  Addition Alteration Repair Permit  Review In Process   B1502871   \n",
       "2    35:12.1  Addition Alteration Repair Permit  Review In Process   B1502871   \n",
       "3    35:12.1  Addition Alteration Repair Permit  Review In Process   B1502871   \n",
       "4    35:12.1  Addition Alteration Repair Permit  Review In Process   B1502871   \n",
       "\n",
       "  Project_Status                                Project_Description  \\\n",
       "0       Approved  Addition Alteration Repair Permit - 1110 6TH S...   \n",
       "1       Approved  Addition Alteration Repair Permit - 1110 6TH S...   \n",
       "2       Approved  Addition Alteration Repair Permit - 1110 6TH S...   \n",
       "3       Approved  Addition Alteration Repair Permit - 1110 6TH S...   \n",
       "4       Approved  Addition Alteration Repair Permit - 1110 6TH S...   \n",
       "\n",
       "  Project_CreateDate  ReviewCycle          TaskName TaskStatus  ...  \\\n",
       "0            00:00.0          1.0          ReviewQA   Complete  ...   \n",
       "1            00:00.0          0.0   ApplicantUpload   Complete  ...   \n",
       "2            00:00.0          0.0   PreScreenReview   Complete  ...   \n",
       "3            00:00.0          0.0       BeginReview   Complete  ...   \n",
       "4            00:00.0          1.0  DepartmentReview   Complete  ...   \n",
       "\n",
       "       PRICE  QUALIFIED     AYB YR_RMDL     EYB SALE_NUM LIVING_GBA USECODE  \\\n",
       "0  1620000.0          U  1900.0  2000.0  1968.0        4       2508      24   \n",
       "1  1620000.0          U  1900.0  2000.0  1968.0        4       2508      24   \n",
       "2  1620000.0          U  1900.0  2000.0  1968.0        4       2508      24   \n",
       "3  1620000.0          U  1900.0  2000.0  1968.0        4       2508      24   \n",
       "4  1620000.0          U  1900.0  2000.0  1968.0        4       2508      24   \n",
       "\n",
       "   LANDAREA         GIS_LAST_MOD_DTTM  \n",
       "0      2394  2019-03-29T18:01:40.000Z  \n",
       "1      2394  2019-03-29T18:01:40.000Z  \n",
       "2      2394  2019-03-29T18:01:40.000Z  \n",
       "3      2394  2019-03-29T18:01:40.000Z  \n",
       "4      2394  2019-03-29T18:01:40.000Z  \n",
       "\n",
       "[5 rows x 67 columns]"
      ]
     },
     "execution_count": 30,
     "metadata": {},
     "output_type": "execute_result"
    }
   ],
   "source": [
    "df.head()"
   ]
  },
  {
   "cell_type": "code",
   "execution_count": 31,
   "metadata": {},
   "outputs": [],
   "source": [
    "# write to csv file\n",
    "df.to_csv(\"../../data/data_merged.csv\")"
   ]
  },
  {
   "cell_type": "code",
   "execution_count": null,
   "metadata": {},
   "outputs": [],
   "source": []
  }
 ],
 "metadata": {
  "kernelspec": {
   "display_name": "Python 3",
   "language": "python",
   "name": "python3"
  },
  "language_info": {
   "codemirror_mode": {
    "name": "ipython",
    "version": 3
   },
   "file_extension": ".py",
   "mimetype": "text/x-python",
   "name": "python",
   "nbconvert_exporter": "python",
   "pygments_lexer": "ipython3",
   "version": "3.6.8"
  },
  "toc": {
   "base_numbering": 1,
   "nav_menu": {},
   "number_sections": true,
   "sideBar": true,
   "skip_h1_title": false,
   "title_cell": "Table of Contents",
   "title_sidebar": "Contents",
   "toc_cell": false,
   "toc_position": {},
   "toc_section_display": true,
   "toc_window_display": false
  },
  "varInspector": {
   "cols": {
    "lenName": 16,
    "lenType": 16,
    "lenVar": 40
   },
   "kernels_config": {
    "python": {
     "delete_cmd_postfix": "",
     "delete_cmd_prefix": "del ",
     "library": "var_list.py",
     "varRefreshCmd": "print(var_dic_list())"
    },
    "r": {
     "delete_cmd_postfix": ") ",
     "delete_cmd_prefix": "rm(",
     "library": "var_list.r",
     "varRefreshCmd": "cat(var_dic_list()) "
    }
   },
   "types_to_exclude": [
    "module",
    "function",
    "builtin_function_or_method",
    "instance",
    "_Feature"
   ],
   "window_display": false
  }
 },
 "nbformat": 4,
 "nbformat_minor": 2
}
