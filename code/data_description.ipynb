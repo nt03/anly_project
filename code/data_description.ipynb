{
 "cells": [
  {
   "cell_type": "code",
   "execution_count": 1,
   "metadata": {},
   "outputs": [],
   "source": [
    "import pandas as pd\n",
    "import numpy as np\n",
    "import matplotlib.pyplot as plt"
   ]
  },
  {
   "cell_type": "code",
   "execution_count": 2,
   "metadata": {},
   "outputs": [
    {
     "data": {
      "text/html": [
       "<div>\n",
       "<style scoped>\n",
       "    .dataframe tbody tr th:only-of-type {\n",
       "        vertical-align: middle;\n",
       "    }\n",
       "\n",
       "    .dataframe tbody tr th {\n",
       "        vertical-align: top;\n",
       "    }\n",
       "\n",
       "    .dataframe thead th {\n",
       "        text-align: right;\n",
       "    }\n",
       "</style>\n",
       "<table border=\"1\" class=\"dataframe\">\n",
       "  <thead>\n",
       "    <tr style=\"text-align: right;\">\n",
       "      <th></th>\n",
       "      <th>pdox_b1_id</th>\n",
       "      <th>elapsed_workdays</th>\n",
       "      <th>alias</th>\n",
       "      <th>Project_Status</th>\n",
       "      <th>job_class</th>\n",
       "      <th>Ward</th>\n",
       "      <th>green_floor_area</th>\n",
       "      <th>use_type</th>\n",
       "      <th>permit_type</th>\n",
       "      <th>PRICE</th>\n",
       "      <th>...</th>\n",
       "      <th>PRC</th>\n",
       "      <th>Plumbing_Review</th>\n",
       "      <th>QA_Review</th>\n",
       "      <th>Structural_Review</th>\n",
       "      <th>WASA_Review</th>\n",
       "      <th>WMATA_Review</th>\n",
       "      <th>White_House_Review</th>\n",
       "      <th>Zoning_Review</th>\n",
       "      <th>over_90</th>\n",
       "      <th>over_150</th>\n",
       "    </tr>\n",
       "  </thead>\n",
       "  <tbody>\n",
       "    <tr>\n",
       "      <th>0</th>\n",
       "      <td>AN1700124</td>\n",
       "      <td>62.0</td>\n",
       "      <td>Addition Alteration Repair Permit</td>\n",
       "      <td>Approved</td>\n",
       "      <td>B</td>\n",
       "      <td>6.0</td>\n",
       "      <td>0.000000</td>\n",
       "      <td>R</td>\n",
       "      <td>Construction</td>\n",
       "      <td>6.209515</td>\n",
       "      <td>...</td>\n",
       "      <td>0.0</td>\n",
       "      <td>0.0</td>\n",
       "      <td>0.0</td>\n",
       "      <td>22.0</td>\n",
       "      <td>0.0</td>\n",
       "      <td>0.0</td>\n",
       "      <td>0.0</td>\n",
       "      <td>23.0</td>\n",
       "      <td>0</td>\n",
       "      <td>0</td>\n",
       "    </tr>\n",
       "    <tr>\n",
       "      <th>1</th>\n",
       "      <td>AN1700215</td>\n",
       "      <td>100.0</td>\n",
       "      <td>Addition Permit</td>\n",
       "      <td>Under Review</td>\n",
       "      <td>E</td>\n",
       "      <td>5.0</td>\n",
       "      <td>3.260071</td>\n",
       "      <td>R</td>\n",
       "      <td>Construction</td>\n",
       "      <td>5.525045</td>\n",
       "      <td>...</td>\n",
       "      <td>9.0</td>\n",
       "      <td>0.0</td>\n",
       "      <td>7.0</td>\n",
       "      <td>26.0</td>\n",
       "      <td>0.0</td>\n",
       "      <td>0.0</td>\n",
       "      <td>0.0</td>\n",
       "      <td>14.0</td>\n",
       "      <td>1</td>\n",
       "      <td>0</td>\n",
       "    </tr>\n",
       "    <tr>\n",
       "      <th>2</th>\n",
       "      <td>AN1700235</td>\n",
       "      <td>65.0</td>\n",
       "      <td>Addition Alteration Repair Permit</td>\n",
       "      <td>Approved</td>\n",
       "      <td>C</td>\n",
       "      <td>5.0</td>\n",
       "      <td>3.147367</td>\n",
       "      <td>C</td>\n",
       "      <td>Construction</td>\n",
       "      <td>5.755875</td>\n",
       "      <td>...</td>\n",
       "      <td>5.0</td>\n",
       "      <td>0.0</td>\n",
       "      <td>8.0</td>\n",
       "      <td>18.0</td>\n",
       "      <td>0.0</td>\n",
       "      <td>0.0</td>\n",
       "      <td>0.0</td>\n",
       "      <td>3.0</td>\n",
       "      <td>0</td>\n",
       "      <td>0</td>\n",
       "    </tr>\n",
       "    <tr>\n",
       "      <th>3</th>\n",
       "      <td>AN1700242</td>\n",
       "      <td>91.0</td>\n",
       "      <td>Addition Alteration Repair Permit</td>\n",
       "      <td>Approved</td>\n",
       "      <td>TPR</td>\n",
       "      <td>1.0</td>\n",
       "      <td>4.238508</td>\n",
       "      <td>C</td>\n",
       "      <td>Construction</td>\n",
       "      <td>5.705008</td>\n",
       "      <td>...</td>\n",
       "      <td>5.0</td>\n",
       "      <td>0.0</td>\n",
       "      <td>11.0</td>\n",
       "      <td>32.0</td>\n",
       "      <td>0.0</td>\n",
       "      <td>0.0</td>\n",
       "      <td>0.0</td>\n",
       "      <td>26.0</td>\n",
       "      <td>1</td>\n",
       "      <td>0</td>\n",
       "    </tr>\n",
       "    <tr>\n",
       "      <th>4</th>\n",
       "      <td>AN1700244</td>\n",
       "      <td>57.0</td>\n",
       "      <td>Addition Permit</td>\n",
       "      <td>Approved</td>\n",
       "      <td>E</td>\n",
       "      <td>2.0</td>\n",
       "      <td>2.389928</td>\n",
       "      <td>R</td>\n",
       "      <td>Construction</td>\n",
       "      <td>6.172507</td>\n",
       "      <td>...</td>\n",
       "      <td>1.0</td>\n",
       "      <td>0.0</td>\n",
       "      <td>6.0</td>\n",
       "      <td>18.0</td>\n",
       "      <td>0.0</td>\n",
       "      <td>0.0</td>\n",
       "      <td>0.0</td>\n",
       "      <td>21.0</td>\n",
       "      <td>0</td>\n",
       "      <td>0</td>\n",
       "    </tr>\n",
       "  </tbody>\n",
       "</table>\n",
       "<p>5 rows × 46 columns</p>\n",
       "</div>"
      ],
      "text/plain": [
       "  pdox_b1_id  elapsed_workdays                              alias  \\\n",
       "0  AN1700124              62.0  Addition Alteration Repair Permit   \n",
       "1  AN1700215             100.0                    Addition Permit   \n",
       "2  AN1700235              65.0  Addition Alteration Repair Permit   \n",
       "3  AN1700242              91.0  Addition Alteration Repair Permit   \n",
       "4  AN1700244              57.0                    Addition Permit   \n",
       "\n",
       "  Project_Status job_class  Ward  green_floor_area use_type   permit_type  \\\n",
       "0       Approved         B   6.0          0.000000        R  Construction   \n",
       "1   Under Review         E   5.0          3.260071        R  Construction   \n",
       "2       Approved         C   5.0          3.147367        C  Construction   \n",
       "3       Approved       TPR   1.0          4.238508        C  Construction   \n",
       "4       Approved         E   2.0          2.389928        R  Construction   \n",
       "\n",
       "      PRICE  ...  PRC  Plumbing_Review  QA_Review  Structural_Review  \\\n",
       "0  6.209515  ...  0.0              0.0        0.0               22.0   \n",
       "1  5.525045  ...  9.0              0.0        7.0               26.0   \n",
       "2  5.755875  ...  5.0              0.0        8.0               18.0   \n",
       "3  5.705008  ...  5.0              0.0       11.0               32.0   \n",
       "4  6.172507  ...  1.0              0.0        6.0               18.0   \n",
       "\n",
       "   WASA_Review  WMATA_Review  White_House_Review  Zoning_Review  over_90  \\\n",
       "0          0.0           0.0                 0.0           23.0        0   \n",
       "1          0.0           0.0                 0.0           14.0        1   \n",
       "2          0.0           0.0                 0.0            3.0        0   \n",
       "3          0.0           0.0                 0.0           26.0        1   \n",
       "4          0.0           0.0                 0.0           21.0        0   \n",
       "\n",
       "   over_150  \n",
       "0         0  \n",
       "1         0  \n",
       "2         0  \n",
       "3         0  \n",
       "4         0  \n",
       "\n",
       "[5 rows x 46 columns]"
      ]
     },
     "execution_count": 2,
     "metadata": {},
     "output_type": "execute_result"
    }
   ],
   "source": [
    "final = pd.read_csv('../../data/final_permit_uncode.csv')\n",
    "final.head()"
   ]
  },
  {
   "cell_type": "code",
   "execution_count": 5,
   "metadata": {},
   "outputs": [
    {
     "data": {
      "text/html": [
       "<div>\n",
       "<style scoped>\n",
       "    .dataframe tbody tr th:only-of-type {\n",
       "        vertical-align: middle;\n",
       "    }\n",
       "\n",
       "    .dataframe tbody tr th {\n",
       "        vertical-align: top;\n",
       "    }\n",
       "\n",
       "    .dataframe thead th {\n",
       "        text-align: right;\n",
       "    }\n",
       "</style>\n",
       "<table border=\"1\" class=\"dataframe\">\n",
       "  <thead>\n",
       "    <tr style=\"text-align: right;\">\n",
       "      <th></th>\n",
       "      <th>elapsed_workdays</th>\n",
       "      <th>over_150</th>\n",
       "      <th>Ward</th>\n",
       "      <th>EYFC</th>\n",
       "      <th>ReviewCycle</th>\n",
       "    </tr>\n",
       "  </thead>\n",
       "  <tbody>\n",
       "    <tr>\n",
       "      <th>mean</th>\n",
       "      <td>143.37</td>\n",
       "      <td>0.36</td>\n",
       "      <td>3.92</td>\n",
       "      <td>39.69</td>\n",
       "      <td>1.92</td>\n",
       "    </tr>\n",
       "    <tr>\n",
       "      <th>median</th>\n",
       "      <td>91.00</td>\n",
       "      <td>0.00</td>\n",
       "      <td>4.00</td>\n",
       "      <td>44.00</td>\n",
       "      <td>2.00</td>\n",
       "    </tr>\n",
       "    <tr>\n",
       "      <th>std</th>\n",
       "      <td>166.38</td>\n",
       "      <td>0.48</td>\n",
       "      <td>2.15</td>\n",
       "      <td>21.93</td>\n",
       "      <td>1.13</td>\n",
       "    </tr>\n",
       "    <tr>\n",
       "      <th>max</th>\n",
       "      <td>1262.00</td>\n",
       "      <td>1.00</td>\n",
       "      <td>8.00</td>\n",
       "      <td>133.00</td>\n",
       "      <td>8.00</td>\n",
       "    </tr>\n",
       "    <tr>\n",
       "      <th>min</th>\n",
       "      <td>0.00</td>\n",
       "      <td>0.00</td>\n",
       "      <td>1.00</td>\n",
       "      <td>-1.00</td>\n",
       "      <td>1.00</td>\n",
       "    </tr>\n",
       "  </tbody>\n",
       "</table>\n",
       "</div>"
      ],
      "text/plain": [
       "        elapsed_workdays  over_150  Ward    EYFC  ReviewCycle\n",
       "mean              143.37      0.36  3.92   39.69         1.92\n",
       "median             91.00      0.00  4.00   44.00         2.00\n",
       "std               166.38      0.48  2.15   21.93         1.13\n",
       "max              1262.00      1.00  8.00  133.00         8.00\n",
       "min                 0.00      0.00  1.00   -1.00         1.00"
      ]
     },
     "execution_count": 5,
     "metadata": {},
     "output_type": "execute_result"
    }
   ],
   "source": [
    "final[['elapsed_workdays','over_150','Ward', 'EYFC','ReviewCycle']].agg(['mean', 'median','std','max','min']).round(2)"
   ]
  },
  {
   "cell_type": "markdown",
   "metadata": {},
   "source": [
    "Describe the statistics for variables befor log"
   ]
  },
  {
   "cell_type": "code",
   "execution_count": 12,
   "metadata": {},
   "outputs": [
    {
     "data": {
      "text/html": [
       "<div>\n",
       "<style scoped>\n",
       "    .dataframe tbody tr th:only-of-type {\n",
       "        vertical-align: middle;\n",
       "    }\n",
       "\n",
       "    .dataframe tbody tr th {\n",
       "        vertical-align: top;\n",
       "    }\n",
       "\n",
       "    .dataframe thead th {\n",
       "        text-align: right;\n",
       "    }\n",
       "</style>\n",
       "<table border=\"1\" class=\"dataframe\">\n",
       "  <thead>\n",
       "    <tr style=\"text-align: right;\">\n",
       "      <th></th>\n",
       "      <th>green_floor_area</th>\n",
       "      <th>PRICE</th>\n",
       "      <th>LIVING_GBA</th>\n",
       "      <th>LANDAREA</th>\n",
       "    </tr>\n",
       "  </thead>\n",
       "  <tbody>\n",
       "    <tr>\n",
       "      <th>0</th>\n",
       "      <td>0.000000</td>\n",
       "      <td>6.209515</td>\n",
       "      <td>3.399328</td>\n",
       "      <td>3.379124</td>\n",
       "    </tr>\n",
       "    <tr>\n",
       "      <th>1</th>\n",
       "      <td>3.260071</td>\n",
       "      <td>5.525045</td>\n",
       "      <td>3.049218</td>\n",
       "      <td>3.557146</td>\n",
       "    </tr>\n",
       "    <tr>\n",
       "      <th>2</th>\n",
       "      <td>3.147367</td>\n",
       "      <td>5.755875</td>\n",
       "      <td>3.225309</td>\n",
       "      <td>3.473487</td>\n",
       "    </tr>\n",
       "    <tr>\n",
       "      <th>3</th>\n",
       "      <td>4.238508</td>\n",
       "      <td>5.705008</td>\n",
       "      <td>3.164353</td>\n",
       "      <td>3.217747</td>\n",
       "    </tr>\n",
       "    <tr>\n",
       "      <th>4</th>\n",
       "      <td>2.389928</td>\n",
       "      <td>6.172507</td>\n",
       "      <td>3.300161</td>\n",
       "      <td>3.452247</td>\n",
       "    </tr>\n",
       "  </tbody>\n",
       "</table>\n",
       "</div>"
      ],
      "text/plain": [
       "   green_floor_area     PRICE  LIVING_GBA  LANDAREA\n",
       "0          0.000000  6.209515    3.399328  3.379124\n",
       "1          3.260071  5.525045    3.049218  3.557146\n",
       "2          3.147367  5.755875    3.225309  3.473487\n",
       "3          4.238508  5.705008    3.164353  3.217747\n",
       "4          2.389928  6.172507    3.300161  3.452247"
      ]
     },
     "execution_count": 12,
     "metadata": {},
     "output_type": "execute_result"
    }
   ],
   "source": [
    "temp = final[['green_floor_area','PRICE','LIVING_GBA', 'LANDAREA']]\n",
    "temp.head()"
   ]
  },
  {
   "cell_type": "code",
   "execution_count": 44,
   "metadata": {},
   "outputs": [],
   "source": [
    "pd.options.mode.chained_assignment = None\n",
    "temp['green_floor_area'] = final['green_floor_area'].apply(lambda x: x**10)\n",
    "temp['PRICE'] = final['PRICE'].apply(lambda x: x**10)\n",
    "temp['LIVING_GBA'] = final['LIVING_GBA'].apply(lambda x: x**10)\n",
    "temp['LANDAREA'] = final['LANDAREA'].apply(lambda x: x**10)"
   ]
  },
  {
   "cell_type": "code",
   "execution_count": 47,
   "metadata": {},
   "outputs": [
    {
     "data": {
      "text/html": [
       "<div>\n",
       "<style scoped>\n",
       "    .dataframe tbody tr th:only-of-type {\n",
       "        vertical-align: middle;\n",
       "    }\n",
       "\n",
       "    .dataframe tbody tr th {\n",
       "        vertical-align: top;\n",
       "    }\n",
       "\n",
       "    .dataframe thead th {\n",
       "        text-align: right;\n",
       "    }\n",
       "</style>\n",
       "<table border=\"1\" class=\"dataframe\">\n",
       "  <thead>\n",
       "    <tr style=\"text-align: right;\">\n",
       "      <th></th>\n",
       "      <th>green_floor_area</th>\n",
       "      <th>PRICE</th>\n",
       "      <th>LIVING_GBA</th>\n",
       "      <th>LANDAREA</th>\n",
       "    </tr>\n",
       "  </thead>\n",
       "  <tbody>\n",
       "    <tr>\n",
       "      <th>mean</th>\n",
       "      <td>168128.88</td>\n",
       "      <td>347996724.44</td>\n",
       "      <td>6771209.58</td>\n",
       "      <td>1408529.04</td>\n",
       "    </tr>\n",
       "    <tr>\n",
       "      <th>median</th>\n",
       "      <td>0.00</td>\n",
       "      <td>62635826.33</td>\n",
       "      <td>207289.72</td>\n",
       "      <td>345815.91</td>\n",
       "    </tr>\n",
       "    <tr>\n",
       "      <th>std</th>\n",
       "      <td>1512620.92</td>\n",
       "      <td>542544077.74</td>\n",
       "      <td>12250665.33</td>\n",
       "      <td>2662588.93</td>\n",
       "    </tr>\n",
       "    <tr>\n",
       "      <th>max</th>\n",
       "      <td>51427233.33</td>\n",
       "      <td>2472606371.13</td>\n",
       "      <td>68324814.18</td>\n",
       "      <td>31780573.35</td>\n",
       "    </tr>\n",
       "    <tr>\n",
       "      <th>min</th>\n",
       "      <td>0.00</td>\n",
       "      <td>20510.70</td>\n",
       "      <td>0.00</td>\n",
       "      <td>0.00</td>\n",
       "    </tr>\n",
       "  </tbody>\n",
       "</table>\n",
       "</div>"
      ],
      "text/plain": [
       "        green_floor_area         PRICE  LIVING_GBA    LANDAREA\n",
       "mean           168128.88  347996724.44  6771209.58  1408529.04\n",
       "median              0.00   62635826.33   207289.72   345815.91\n",
       "std           1512620.92  542544077.74 12250665.33  2662588.93\n",
       "max          51427233.33 2472606371.13 68324814.18 31780573.35\n",
       "min                 0.00      20510.70        0.00        0.00"
      ]
     },
     "execution_count": 47,
     "metadata": {},
     "output_type": "execute_result"
    }
   ],
   "source": [
    "pd.set_option('display.float_format',lambda x : '%.2f' % x)\n",
    "temp[['green_floor_area','PRICE','LIVING_GBA', 'LANDAREA']].agg(['mean', 'median','std','max','min']).round(2)"
   ]
  },
  {
   "cell_type": "code",
   "execution_count": 70,
   "metadata": {},
   "outputs": [
    {
     "data": {
      "image/png": "[encoded data removed]",
      "text/plain": [
       "<Figure size 1080x576 with 1 Axes>"
      ]
     },
     "metadata": {
      "needs_background": "light"
     },
     "output_type": "display_data"
    }
   ],
   "source": [
    "# plot for full sample size\n",
    "plt.figure(figsize=(15, 8))\n",
    "y = final['elapsed_workdays']\n",
    "ax = plt.subplot()\n",
    "ax.hist(y, color = 'darkblue', bins = 30)\n",
    "for spine in ['right', 'top']:\n",
    "    ax.spines[spine].set_visible(False)\n",
    "plt.xlabel('Elapsed Workdays')\n",
    "plt.ylabel('Count')\n",
    "plt.savefig('Histogram of Elapsed Workdays.png')\n",
    "plt.title('Histogram of Elapsed Workdays')\n",
    "plt.show()"
   ]
  },
  {
   "cell_type": "code",
   "execution_count": 71,
   "metadata": {},
   "outputs": [
    {
     "data": {
      "image/png": "[encoded data removed]",
      "text/plain": [
       "<Figure size 1080x720 with 1 Axes>"
      ]
     },
     "metadata": {
      "needs_background": "light"
     },
     "output_type": "display_data"
    }
   ],
   "source": [
    "# plot for elaplsed workdays from 0 to 400\n",
    "plt.figure(figsize=(15, 10))\n",
    "y = final['elapsed_workdays']\n",
    "ax = plt.subplot()\n",
    "ax.hist(y, color = 'darkblue', bins = 50)\n",
    "for spine in ['right', 'top']:\n",
    "    ax.spines[spine].set_visible(False)\n",
    "plt.xlabel('Elapsed Workdays')\n",
    "plt.ylabel('Count')\n",
    "plt.xlim(0,400)\n",
    "plt.savefig('Histogram of Elapsed Workdays (0-400).png')\n",
    "plt.title('Histogram of Elapsed Workdays (0-400)')\n",
    "plt.show()"
   ]
  },
  {
   "cell_type": "code",
   "execution_count": 118,
   "metadata": {},
   "outputs": [
    {
     "data": {
      "image/png": "[encoded data removed]",
      "text/plain": [
       "<Figure size 1080x576 with 1 Axes>"
      ]
     },
     "metadata": {
      "needs_background": "light"
     },
     "output_type": "display_data"
    }
   ],
   "source": [
    "# plot\n",
    "plt.figure(figsize=(15, 8))\n",
    "ax = plt.subplot()\n",
    "ax.barh(range(len(x)), x, color = 'darkblue')\n",
    "for spine in ['right', 'top']:\n",
    "    ax.spines[spine].set_visible(False)\n",
    "plt.yticks(range(len(x)),['CFA Review','DOH Review','HPRB Review','Fire Review','Plumbing Review','Mechanical Review','Elevator Review','Electrical Review','Structural Review','DOEE Review','NCPC Review','Energy Review','WMATA Review','Zoning Review','Green Review','DC Water Review','DDOT Review','White House Review','EISF Review'])\n",
    "plt.ylabel('Group Name')\n",
    "plt.xlabel('Elapsed Workdays')\n",
    "for a, b in enumerate(x):\n",
    "    plt.text(b + 0.5, a - 0.1, '%.2f' % b, ha='left', va='center')\n",
    "plt.title('Mean Elapsed Workdays by Group')\n",
    "plt.savefig('Mean Elapsed Workdays by Group.png')\n",
    "plt.show()"
   ]
  },
  {
   "cell_type": "code",
   "execution_count": 73,
   "metadata": {},
   "outputs": [
    {
     "data": {
      "text/plain": [
       "Ward\n",
       "1.00   151.23\n",
       "2.00   140.10\n",
       "3.00   135.16\n",
       "4.00   147.43\n",
       "5.00   163.72\n",
       "6.00   140.11\n",
       "7.00   186.59\n",
       "8.00   103.35\n",
       "Name: elapsed_workdays, dtype: float64"
      ]
     },
     "execution_count": 73,
     "metadata": {},
     "output_type": "execute_result"
    }
   ],
   "source": [
    "y = final.groupby('Ward')['elapsed_workdays'].mean()\n",
    "y"
   ]
  },
  {
   "cell_type": "code",
   "execution_count": 75,
   "metadata": {},
   "outputs": [
    {
     "data": {
      "image/png": "[encoded data removed]",
      "text/plain": [
       "<Figure size 432x288 with 1 Axes>"
      ]
     },
     "metadata": {
      "needs_background": "light"
     },
     "output_type": "display_data"
    }
   ],
   "source": [
    "# plot\n",
    "ax = plt.subplot()\n",
    "ax.bar(range(len(y)), y, color = 'darkblue')\n",
    "for spine in ['right', 'top']:\n",
    "    ax.spines[spine].set_visible(False)\n",
    "plt.xticks(range(len(y)),[1,2,3,4,5,6,7,8])\n",
    "plt.xlabel('Ward')\n",
    "plt.ylabel('Elapsed Workdays')\n",
    "\n",
    "plt.title('Figure 3. Mean Elapsed Workdays by Ward')\n",
    "plt.savefig('Mean Elapsed Workdays by Ward.png')\n",
    "plt.show()"
   ]
  },
  {
   "cell_type": "code",
   "execution_count": null,
   "metadata": {},
   "outputs": [],
   "source": []
  }
 ],
 "metadata": {
  "kernelspec": {
   "display_name": "Python 3",
   "language": "python",
   "name": "python3"
  },
  "language_info": {
   "codemirror_mode": {
    "name": "ipython",
    "version": 3
   },
   "file_extension": ".py",
   "mimetype": "text/x-python",
   "name": "python",
   "nbconvert_exporter": "python",
   "pygments_lexer": "ipython3",
   "version": "3.6.8"
  }
 },
 "nbformat": 4,
 "nbformat_minor": 2
}
