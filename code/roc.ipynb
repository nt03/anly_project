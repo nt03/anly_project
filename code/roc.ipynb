{
 "cells": [
  {
   "cell_type": "markdown",
   "metadata": {},
   "source": [
    "  ## ROC CURVES  ###"
   ]
  },
  {
   "cell_type": "code",
   "execution_count": 55,
   "metadata": {},
   "outputs": [],
   "source": [
    "import os\n",
    "import numpy as np\n",
    "import pandas as pd\n",
    "import matplotlib.pyplot as plt\n",
    "%matplotlib inline \n",
    "import graphviz\n",
    "from sklearn.preprocessing import LabelEncoder\n",
    "from sklearn.model_selection import cross_val_score, validation_curve, learning_curve, train_test_split\n",
    "from sklearn.metrics import roc_curve, auc\n",
    "from sklearn.tree import DecisionTreeRegressor\n",
    "from sklearn.neighbors import KNeighborsClassifier\n",
    "from sklearn.neighbors import KNeighborsRegressor\n",
    "from sklearn.svm import SVC\n",
    "from sklearn.naive_bayes import GaussianNB\n",
    "from sklearn.tree import DecisionTreeClassifier, export_graphviz\n",
    "from sklearn import tree\n",
    "import statsmodels.api as sm\n",
    "from sklearn.linear_model import LogisticRegression\n",
    "from sklearn import metrics"
   ]
  },
  {
   "cell_type": "code",
   "execution_count": 41,
   "metadata": {},
   "outputs": [
    {
     "data": {
      "text/plain": [
       "'C:\\\\Users\\\\Landry B. Keyanfe\\\\Desktop\\\\introanalytic\\\\project'"
      ]
     },
     "execution_count": 41,
     "metadata": {},
     "output_type": "execute_result"
    }
   ],
   "source": [
    "os.getcwd()"
   ]
  },
  {
   "cell_type": "markdown",
   "metadata": {},
   "source": [
    "### DATA PREPROCESSING"
   ]
  },
  {
   "cell_type": "code",
   "execution_count": 2,
   "metadata": {},
   "outputs": [
    {
     "data": {
      "text/html": [
       "<div>\n",
       "<style scoped>\n",
       "    .dataframe tbody tr th:only-of-type {\n",
       "        vertical-align: middle;\n",
       "    }\n",
       "\n",
       "    .dataframe tbody tr th {\n",
       "        vertical-align: top;\n",
       "    }\n",
       "\n",
       "    .dataframe thead th {\n",
       "        text-align: right;\n",
       "    }\n",
       "</style>\n",
       "<table border=\"1\" class=\"dataframe\">\n",
       "  <thead>\n",
       "    <tr style=\"text-align: right;\">\n",
       "      <th></th>\n",
       "      <th>alias</th>\n",
       "      <th>pdox_b1_id</th>\n",
       "      <th>Project_Status</th>\n",
       "      <th>ReviewCycle</th>\n",
       "      <th>TaskName</th>\n",
       "      <th>elapsed_workdays</th>\n",
       "      <th>RC_HowAssigned</th>\n",
       "      <th>job_class</th>\n",
       "      <th>AGENCY</th>\n",
       "      <th>Ward</th>\n",
       "      <th>...</th>\n",
       "      <th>Structural Review</th>\n",
       "      <th>WASA Review</th>\n",
       "      <th>WMATA Review</th>\n",
       "      <th>White House Review</th>\n",
       "      <th>Zoning Review</th>\n",
       "      <th>EYFC</th>\n",
       "      <th>elapsed_workdays_7</th>\n",
       "      <th>elapsed_workdays_14</th>\n",
       "      <th>elapsed_workdays_21</th>\n",
       "      <th>elapsed_workdays_28</th>\n",
       "    </tr>\n",
       "  </thead>\n",
       "  <tbody>\n",
       "    <tr>\n",
       "      <th>0</th>\n",
       "      <td>1</td>\n",
       "      <td>B1802095</td>\n",
       "      <td>0</td>\n",
       "      <td>1.0</td>\n",
       "      <td>0</td>\n",
       "      <td>7.0</td>\n",
       "      <td>0</td>\n",
       "      <td>6</td>\n",
       "      <td>1</td>\n",
       "      <td>1.0</td>\n",
       "      <td>...</td>\n",
       "      <td>0</td>\n",
       "      <td>0</td>\n",
       "      <td>0</td>\n",
       "      <td>0</td>\n",
       "      <td>0</td>\n",
       "      <td>52.0</td>\n",
       "      <td>0</td>\n",
       "      <td>0</td>\n",
       "      <td>0</td>\n",
       "      <td>0</td>\n",
       "    </tr>\n",
       "    <tr>\n",
       "      <th>1</th>\n",
       "      <td>1</td>\n",
       "      <td>B1802095</td>\n",
       "      <td>0</td>\n",
       "      <td>1.0</td>\n",
       "      <td>0</td>\n",
       "      <td>3.0</td>\n",
       "      <td>0</td>\n",
       "      <td>6</td>\n",
       "      <td>0</td>\n",
       "      <td>1.0</td>\n",
       "      <td>...</td>\n",
       "      <td>0</td>\n",
       "      <td>0</td>\n",
       "      <td>0</td>\n",
       "      <td>0</td>\n",
       "      <td>0</td>\n",
       "      <td>52.0</td>\n",
       "      <td>0</td>\n",
       "      <td>0</td>\n",
       "      <td>0</td>\n",
       "      <td>0</td>\n",
       "    </tr>\n",
       "    <tr>\n",
       "      <th>2</th>\n",
       "      <td>1</td>\n",
       "      <td>B1802095</td>\n",
       "      <td>0</td>\n",
       "      <td>1.0</td>\n",
       "      <td>0</td>\n",
       "      <td>2.0</td>\n",
       "      <td>0</td>\n",
       "      <td>6</td>\n",
       "      <td>0</td>\n",
       "      <td>1.0</td>\n",
       "      <td>...</td>\n",
       "      <td>0</td>\n",
       "      <td>0</td>\n",
       "      <td>0</td>\n",
       "      <td>0</td>\n",
       "      <td>0</td>\n",
       "      <td>52.0</td>\n",
       "      <td>0</td>\n",
       "      <td>0</td>\n",
       "      <td>0</td>\n",
       "      <td>0</td>\n",
       "    </tr>\n",
       "    <tr>\n",
       "      <th>3</th>\n",
       "      <td>1</td>\n",
       "      <td>B1802095</td>\n",
       "      <td>0</td>\n",
       "      <td>3.0</td>\n",
       "      <td>0</td>\n",
       "      <td>19.0</td>\n",
       "      <td>1</td>\n",
       "      <td>6</td>\n",
       "      <td>0</td>\n",
       "      <td>1.0</td>\n",
       "      <td>...</td>\n",
       "      <td>0</td>\n",
       "      <td>0</td>\n",
       "      <td>0</td>\n",
       "      <td>0</td>\n",
       "      <td>0</td>\n",
       "      <td>52.0</td>\n",
       "      <td>1</td>\n",
       "      <td>1</td>\n",
       "      <td>0</td>\n",
       "      <td>0</td>\n",
       "    </tr>\n",
       "    <tr>\n",
       "      <th>4</th>\n",
       "      <td>1</td>\n",
       "      <td>B1802095</td>\n",
       "      <td>0</td>\n",
       "      <td>3.0</td>\n",
       "      <td>0</td>\n",
       "      <td>6.0</td>\n",
       "      <td>1</td>\n",
       "      <td>6</td>\n",
       "      <td>0</td>\n",
       "      <td>1.0</td>\n",
       "      <td>...</td>\n",
       "      <td>0</td>\n",
       "      <td>0</td>\n",
       "      <td>0</td>\n",
       "      <td>0</td>\n",
       "      <td>0</td>\n",
       "      <td>52.0</td>\n",
       "      <td>0</td>\n",
       "      <td>0</td>\n",
       "      <td>0</td>\n",
       "      <td>0</td>\n",
       "    </tr>\n",
       "  </tbody>\n",
       "</table>\n",
       "<p>5 rows × 54 columns</p>\n",
       "</div>"
      ],
      "text/plain": [
       "   alias pdox_b1_id  Project_Status  ReviewCycle  TaskName  elapsed_workdays  \\\n",
       "0      1   B1802095               0          1.0         0               7.0   \n",
       "1      1   B1802095               0          1.0         0               3.0   \n",
       "2      1   B1802095               0          1.0         0               2.0   \n",
       "3      1   B1802095               0          3.0         0              19.0   \n",
       "4      1   B1802095               0          3.0         0               6.0   \n",
       "\n",
       "   RC_HowAssigned  job_class  AGENCY  Ward         ...           \\\n",
       "0               0          6       1   1.0         ...            \n",
       "1               0          6       0   1.0         ...            \n",
       "2               0          6       0   1.0         ...            \n",
       "3               1          6       0   1.0         ...            \n",
       "4               1          6       0   1.0         ...            \n",
       "\n",
       "   Structural Review  WASA Review  WMATA Review  White House Review  \\\n",
       "0                  0            0             0                   0   \n",
       "1                  0            0             0                   0   \n",
       "2                  0            0             0                   0   \n",
       "3                  0            0             0                   0   \n",
       "4                  0            0             0                   0   \n",
       "\n",
       "   Zoning Review  EYFC  elapsed_workdays_7  elapsed_workdays_14  \\\n",
       "0              0  52.0                   0                    0   \n",
       "1              0  52.0                   0                    0   \n",
       "2              0  52.0                   0                    0   \n",
       "3              0  52.0                   1                    1   \n",
       "4              0  52.0                   0                    0   \n",
       "\n",
       "   elapsed_workdays_21  elapsed_workdays_28  \n",
       "0                    0                    0  \n",
       "1                    0                    0  \n",
       "2                    0                    0  \n",
       "3                    0                    0  \n",
       "4                    0                    0  \n",
       "\n",
       "[5 rows x 54 columns]"
      ]
     },
     "execution_count": 2,
     "metadata": {},
     "output_type": "execute_result"
    }
   ],
   "source": [
    "# cleaned_encode2.csv\n",
    "clean = pd.read_csv('cleaned_encode2.csv')\n",
    "clean.head()"
   ]
  },
  {
   "cell_type": "code",
   "execution_count": 7,
   "metadata": {},
   "outputs": [
    {
     "data": {
      "text/plain": [
       "0    0\n",
       "1    0\n",
       "2    0\n",
       "3    1\n",
       "4    0\n",
       "Name: elapsed_workdays_7, dtype: int64"
      ]
     },
     "execution_count": 7,
     "metadata": {},
     "output_type": "execute_result"
    }
   ],
   "source": [
    " #create feature matrix and target array\n",
    "\n",
    "X = clean.drop([\"elapsed_workdays\",\"pdox_b1_id\",\"elapsed_workdays_7\",\"elapsed_workdays_14\",\"elapsed_workdays_21\",\"elapsed_workdays_28\"], axis = 1)\n",
    "Y = clean[\"elapsed_workdays_7\"]\n",
    "Y.head()"
   ]
  },
  {
   "cell_type": "code",
   "execution_count": 13,
   "metadata": {},
   "outputs": [
    {
     "data": {
      "text/plain": [
       "(37465, 48)"
      ]
     },
     "execution_count": 13,
     "metadata": {},
     "output_type": "execute_result"
    }
   ],
   "source": [
    "X.shape"
   ]
  },
  {
   "cell_type": "markdown",
   "metadata": {},
   "source": [
    "### elapsed workdays = 7"
   ]
  },
  {
   "cell_type": "markdown",
   "metadata": {},
   "source": [
    "## naive bayes"
   ]
  },
  {
   "cell_type": "code",
   "execution_count": 118,
   "metadata": {},
   "outputs": [
    {
     "data": {
      "text/plain": [
       "GaussianNB(priors=None)"
      ]
     },
     "execution_count": 118,
     "metadata": {},
     "output_type": "execute_result"
    }
   ],
   "source": [
    "# 1- Fitting a Naive Bayes model\n",
    "bayes= GaussianNB()\n",
    "bayes.fit(X,Y)"
   ]
  },
  {
   "cell_type": "code",
   "execution_count": 119,
   "metadata": {},
   "outputs": [
    {
     "data": {
      "text/plain": [
       "array([0.61889512, 0.61836136, 0.65705898, 0.70616493, 0.68534828,\n",
       "       0.72671471, 0.62973839, 0.71115857, 0.62600107, 0.56128171])"
      ]
     },
     "execution_count": 119,
     "metadata": {},
     "output_type": "execute_result"
    }
   ],
   "source": [
    "# 2- Performing  10-fold cross-validation\n",
    "cross_val_score(bayes, X, Y, cv=10)"
   ]
  },
  {
   "cell_type": "code",
   "execution_count": 120,
   "metadata": {},
   "outputs": [
    {
     "name": "stdout",
     "output_type": "stream",
     "text": [
      "Sizes:  [ 1500  2500  3500  4500  5500  6500  7500  8500  9500 10500 11500 12500\n",
      " 13500 14500 15500 16500 17500 18500 19500 20500 21500 22500 23500 24500\n",
      " 25500 26500 27500 28500 29500]\n"
     ]
    },
    {
     "data": {
      "text/plain": [
       "array([0.57317137, 0.64545011, 0.63001894, 0.64871476, 0.56726611,\n",
       "       0.57161546, 0.65831894, 0.66790472, 0.68303806, 0.68225915,\n",
       "       0.67499714, 0.67604012, 0.6726485 , 0.68773306, 0.68423647,\n",
       "       0.68797521, 0.69139268, 0.69219518, 0.69224868, 0.68669885,\n",
       "       0.6954545 , 0.68501647, 0.69054183, 0.69118242, 0.69529324,\n",
       "       0.69387805, 0.68904595, 0.69072759, 0.68429388])"
      ]
     },
     "execution_count": 120,
     "metadata": {},
     "output_type": "execute_result"
    }
   ],
   "source": [
    "# Determining the size of the trainning set\n",
    "sizes = np.arange(1500, 30000,1000)\n",
    "print('Sizes: ', sizes)\n",
    "train_sizes, train_scores2, test_scores2 = learning_curve(bayes, X, Y, cv=10, train_sizes=sizes)\n",
    "train_mean2 = np.mean(train_scores2, axis=1)\n",
    "test_mean2 = np.mean(test_scores2, axis=1)\n",
    "test_mean2"
   ]
  },
  {
   "cell_type": "code",
   "execution_count": 121,
   "metadata": {},
   "outputs": [],
   "source": [
    "# split training and test \n",
    "training_size = 17500\n",
    "Xtrain, Xtest, ytrain, ytest = train_test_split(X, Y, train_size=training_size, \n",
    "                                                test_size=X.shape[0]-training_size)\n",
    "#Xtrain, Xtest, ytrain, ytest = train_test_split(X, Y, test_size=0.10,random_state=0) \n",
    "                                                \n",
    "bayes.fit(Xtrain, ytrain)\n",
    "y_pred = bayes.predict(Xtest)"
   ]
  },
  {
   "cell_type": "code",
   "execution_count": 122,
   "metadata": {},
   "outputs": [
    {
     "name": "stdout",
     "output_type": "stream",
     "text": [
      "AUC SVC:  0.6652697302697302\n"
     ]
    }
   ],
   "source": [
    "\n",
    "# true positives and false positives\n",
    "false_positive_rate, true_positive_rate, thresholds = roc_curve(ytest, y_pred, pos_label=1)\n",
    "rates = pd.DataFrame(dict(fpr=false_positive_rate, tpr=true_positive_rate))\n",
    "roc_auc = auc(rates['fpr'], rates['tpr'])\n",
    "print('AUC SVC: ', roc_auc)"
   ]
  },
  {
   "cell_type": "markdown",
   "metadata": {},
   "source": [
    "### Decision three"
   ]
  },
  {
   "cell_type": "code",
   "execution_count": 123,
   "metadata": {},
   "outputs": [],
   "source": [
    "#Decision three\n",
    "# Fit model\n",
    "dt = tree.DecisionTreeClassifier()\n",
    "dt.fit(X,Y)\n",
    "ydt_pred = dt.predict(X.values)"
   ]
  },
  {
   "cell_type": "code",
   "execution_count": 124,
   "metadata": {},
   "outputs": [
    {
     "data": {
      "text/plain": [
       "array([0.66479851, 0.55137443, 0.60741927, 0.43421404, 0.38297305,\n",
       "       0.28609554, 0.19861185, 0.27015483, 0.31740523, 0.56128171])"
      ]
     },
     "execution_count": 124,
     "metadata": {},
     "output_type": "execute_result"
    }
   ],
   "source": [
    "cross_val_score(dt, X, Y, cv=10)"
   ]
  },
  {
   "cell_type": "code",
   "execution_count": 125,
   "metadata": {},
   "outputs": [],
   "source": [
    "\n",
    "dt.fit(Xtrain, ytrain)\n",
    "y_pred2 = dt.predict(Xtest)"
   ]
  },
  {
   "cell_type": "code",
   "execution_count": 126,
   "metadata": {},
   "outputs": [
    {
     "name": "stdout",
     "output_type": "stream",
     "text": [
      "AUC Naive Bayes:  0.7570729270729271\n"
     ]
    }
   ],
   "source": [
    "# true positives and false positives\n",
    "false_positive_rate2, true_positive_rate2, thresholds2 = roc_curve(ytest, y_pred2, pos_label=1)\n",
    "rates2 = pd.DataFrame(dict(fpr2=false_positive_rate2, tpr2=true_positive_rate2))\n",
    "roc_auc2 = auc(rates2['fpr2'], rates2['tpr2'])\n",
    "print('AUC Naive Bayes: ', roc_auc2)"
   ]
  },
  {
   "cell_type": "markdown",
   "metadata": {},
   "source": [
    "## Logit "
   ]
  },
  {
   "cell_type": "code",
   "execution_count": 127,
   "metadata": {},
   "outputs": [
    {
     "data": {
      "text/plain": [
       "LogisticRegression(C=1.0, class_weight=None, dual=False, fit_intercept=True,\n",
       "          intercept_scaling=1, max_iter=100, multi_class='ovr', n_jobs=1,\n",
       "          penalty='l2', random_state=None, solver='liblinear', tol=0.0001,\n",
       "          verbose=0, warm_start=False)"
      ]
     },
     "execution_count": 127,
     "metadata": {},
     "output_type": "execute_result"
    }
   ],
   "source": [
    "#fit logit model\n",
    "logreg = LogisticRegression()\n",
    "logreg.fit(X,Y)\n"
   ]
  },
  {
   "cell_type": "code",
   "execution_count": 128,
   "metadata": {},
   "outputs": [
    {
     "data": {
      "text/plain": [
       "array([0.5382973 , 0.5382973 , 0.5382973 , 0.5382973 , 0.5382973 ,\n",
       "       0.5382973 , 0.53817405, 0.53817405, 0.53817405, 0.53831776])"
      ]
     },
     "execution_count": 128,
     "metadata": {},
     "output_type": "execute_result"
    }
   ],
   "source": [
    "cross_val_score(logreg, X, Y, cv=10)"
   ]
  },
  {
   "cell_type": "code",
   "execution_count": 129,
   "metadata": {},
   "outputs": [],
   "source": [
    "dt.fit(Xtrain, ytrain)\n",
    "y_pred3 = logreg.predict(Xtest)"
   ]
  },
  {
   "cell_type": "code",
   "execution_count": 130,
   "metadata": {},
   "outputs": [
    {
     "name": "stdout",
     "output_type": "stream",
     "text": [
      "AUC Naive Bayes:  0.5\n"
     ]
    }
   ],
   "source": [
    "# true positives and false positives\n",
    "false_positive_rate3, true_positive_rate3, thresholds3= roc_curve(ytest, y_pred3, pos_label=1)\n",
    "rates3 = pd.DataFrame(dict(fpr3=false_positive_rate3, tpr3=true_positive_rate3))\n",
    "roc_auc3 = auc(rates3['fpr3'], rates3['tpr3'])\n",
    "print('AUC Naive Bayes: ', roc_auc3)"
   ]
  },
  {
   "cell_type": "code",
   "execution_count": 131,
   "metadata": {},
   "outputs": [
    {
     "data": {
      "image/png": "[encoded data removed]",
      "text/plain": [
       "<Figure size 432x288 with 1 Axes>"
      ]
     },
     "metadata": {},
     "output_type": "display_data"
    }
   ],
   "source": [
    "#ROC curve elapsed workdays=7\n",
    "plt.plot(rates.fpr, rates.tpr, 'b',color='red', label = 'Naive Bayes = %0.2f' % roc_auc)\n",
    "plt.plot(rates2.fpr2, rates2.tpr2, 'b',color=\"cyan\" ,label = 'Decision Three = %0.2f' % roc_auc2)\n",
    "plt.plot(rates3.fpr3, rates3.tpr3, 'b',color='blue',label = 'Logit = %0.2f' % roc_auc3)\n",
    "plt.plot([0, 1], [0, 1],'r--')\n",
    "plt.xlim([0, 1])\n",
    "plt.ylim([0, 1])\n",
    "plt.ylabel('True Positive Rate')\n",
    "plt.xlabel('False Positive Rate')\n",
    "plt.title('ROC for t=7 days')\n",
    "plt.legend(loc = 'lower right')\n",
    "plt.show()"
   ]
  },
  {
   "cell_type": "markdown",
   "metadata": {},
   "source": [
    "## elapsed workdays 14"
   ]
  },
  {
   "cell_type": "code",
   "execution_count": 132,
   "metadata": {},
   "outputs": [
    {
     "data": {
      "text/plain": [
       "0    0\n",
       "1    0\n",
       "2    0\n",
       "3    1\n",
       "4    0\n",
       "Name: elapsed_workdays_14, dtype: int64"
      ]
     },
     "execution_count": 132,
     "metadata": {},
     "output_type": "execute_result"
    }
   ],
   "source": [
    "# data preprocessing\n",
    "X2 = clean.drop([\"elapsed_workdays\",\"pdox_b1_id\",\"elapsed_workdays_7\",\"elapsed_workdays_14\",\"elapsed_workdays_21\",\"elapsed_workdays_28\"], axis = 1)\n",
    "Y2 = clean[\"elapsed_workdays_14\"]\n",
    "Y2.head()"
   ]
  },
  {
   "cell_type": "markdown",
   "metadata": {},
   "source": [
    "## naive bayes"
   ]
  },
  {
   "cell_type": "code",
   "execution_count": 133,
   "metadata": {},
   "outputs": [
    {
     "data": {
      "text/plain": [
       "GaussianNB(priors=None)"
      ]
     },
     "execution_count": 133,
     "metadata": {},
     "output_type": "execute_result"
    }
   ],
   "source": [
    "#Fitting a Naive Bayes model\n",
    "bayes.fit(X2,Y2)"
   ]
  },
  {
   "cell_type": "code",
   "execution_count": 134,
   "metadata": {},
   "outputs": [
    {
     "data": {
      "text/plain": [
       "array([0.75900721, 0.72884975, 0.74539632, 0.72564718, 0.7173739 ,\n",
       "       0.73658927, 0.72297838, 0.72343833, 0.72870494, 0.72363151])"
      ]
     },
     "execution_count": 134,
     "metadata": {},
     "output_type": "execute_result"
    }
   ],
   "source": [
    "# Performing  10-fold cross-validation\n",
    "cross_val_score(bayes, X2, Y2, cv=10)"
   ]
  },
  {
   "cell_type": "code",
   "execution_count": 135,
   "metadata": {},
   "outputs": [],
   "source": [
    "# split training and test \n",
    "training_size = 17500\n",
    "Xtrain2, Xtest2, ytrain2, ytest2 = train_test_split(X2, Y2, train_size=training_size, \n",
    "                                                test_size=X.shape[0]-training_size)\n",
    "#Xtrain, Xtest, ytrain, ytest = train_test_split(X, Y, test_size=0.10,random_state=0) \n",
    "                                                \n",
    "bayes.fit(Xtrain2, ytrain2)\n",
    "y_pred4 = bayes.predict(Xtest2)"
   ]
  },
  {
   "cell_type": "code",
   "execution_count": 136,
   "metadata": {},
   "outputs": [
    {
     "name": "stdout",
     "output_type": "stream",
     "text": [
      "AUC SVC:  0.5274532146904776\n"
     ]
    }
   ],
   "source": [
    "# true positives and false positives\n",
    "false_positive_rate4, true_positive_rate4, thresholds4 = roc_curve(ytest2, y_pred4, pos_label=1)\n",
    "rates4 = pd.DataFrame(dict(fpr4=false_positive_rate4, tpr4=true_positive_rate4))\n",
    "roc_auc4 = auc(rates4['fpr4'], rates4['tpr4'])\n",
    "print('AUC SVC: ', roc_auc4)"
   ]
  },
  {
   "cell_type": "markdown",
   "metadata": {},
   "source": [
    "## Decision three"
   ]
  },
  {
   "cell_type": "code",
   "execution_count": 137,
   "metadata": {},
   "outputs": [],
   "source": [
    "#Decision three\n",
    "# Fit model\n",
    "dt.fit(X2,Y2)\n",
    "ydt_pred2 = dt.predict(X.values)"
   ]
  },
  {
   "cell_type": "code",
   "execution_count": 138,
   "metadata": {},
   "outputs": [
    {
     "data": {
      "text/plain": [
       "array([0.67520683, 0.62103016, 0.69015212, 0.49959968, 0.6271684 ,\n",
       "       0.55431011, 0.56445156, 0.58595836, 0.61388518, 0.72416555])"
      ]
     },
     "execution_count": 138,
     "metadata": {},
     "output_type": "execute_result"
    }
   ],
   "source": [
    "cross_val_score(dt, X2, Y2, cv=10)"
   ]
  },
  {
   "cell_type": "code",
   "execution_count": 139,
   "metadata": {},
   "outputs": [],
   "source": [
    "dt.fit(Xtrain2, ytrain2)\n",
    "y_pred5 = dt.predict(Xtest2)"
   ]
  },
  {
   "cell_type": "code",
   "execution_count": 140,
   "metadata": {},
   "outputs": [
    {
     "name": "stdout",
     "output_type": "stream",
     "text": [
      "AUC SVC:  0.7465020031629477\n"
     ]
    }
   ],
   "source": [
    "# true positives and false positives\n",
    "false_positive_rate5, true_positive_rate5, thresholds5 = roc_curve(ytest2, y_pred5, pos_label=1)\n",
    "rates5 = pd.DataFrame(dict(fpr5=false_positive_rate5, tpr5=true_positive_rate5))\n",
    "roc_auc5 = auc(rates5['fpr5'], rates5['tpr5'])\n",
    "print('AUC SVC: ', roc_auc5)"
   ]
  },
  {
   "cell_type": "markdown",
   "metadata": {},
   "source": [
    "## logit model"
   ]
  },
  {
   "cell_type": "code",
   "execution_count": 141,
   "metadata": {},
   "outputs": [
    {
     "data": {
      "text/plain": [
       "LogisticRegression(C=1.0, class_weight=None, dual=False, fit_intercept=True,\n",
       "          intercept_scaling=1, max_iter=100, multi_class='ovr', n_jobs=1,\n",
       "          penalty='l2', random_state=None, solver='liblinear', tol=0.0001,\n",
       "          verbose=0, warm_start=False)"
      ]
     },
     "execution_count": 141,
     "metadata": {},
     "output_type": "execute_result"
    }
   ],
   "source": [
    "#fitting the logit model\n",
    "logreg.fit(X2,Y2)\n"
   ]
  },
  {
   "cell_type": "code",
   "execution_count": 142,
   "metadata": {},
   "outputs": [
    {
     "data": {
      "text/plain": [
       "array([0.7253803 , 0.7253803 , 0.7253803 , 0.7253803 , 0.7253803 ,\n",
       "       0.7253803 , 0.7253803 , 0.72530699, 0.72550067, 0.72550067])"
      ]
     },
     "execution_count": 142,
     "metadata": {},
     "output_type": "execute_result"
    }
   ],
   "source": [
    "# Performing  10-fold cross-validation\n",
    "cross_val_score(logreg, X2, Y2, cv=10)"
   ]
  },
  {
   "cell_type": "code",
   "execution_count": 143,
   "metadata": {},
   "outputs": [],
   "source": [
    "logreg.fit(Xtrain2, ytrain2)\n",
    "y_pred6 = logreg.predict(Xtest2)"
   ]
  },
  {
   "cell_type": "code",
   "execution_count": 144,
   "metadata": {},
   "outputs": [
    {
     "name": "stdout",
     "output_type": "stream",
     "text": [
      "AUC SVC:  0.5\n"
     ]
    }
   ],
   "source": [
    "# true positives and false positives\n",
    "false_positive_rate6, true_positive_rate6, thresholds6 = roc_curve(ytest2, y_pred6, pos_label=1)\n",
    "rates6 = pd.DataFrame(dict(fpr6=false_positive_rate6, tpr6=true_positive_rate6))\n",
    "roc_auc6 = auc(rates6['fpr6'], rates6['tpr6'])\n",
    "print('AUC SVC: ', roc_auc6)"
   ]
  },
  {
   "cell_type": "code",
   "execution_count": 145,
   "metadata": {},
   "outputs": [
    {
     "data": {
      "image/png": "[encoded data removed]",
      "text/plain": [
       "<Figure size 432x288 with 1 Axes>"
      ]
     },
     "metadata": {},
     "output_type": "display_data"
    }
   ],
   "source": [
    "#ROC curve elapse workdays =14\n",
    "plt.plot(rates4.fpr4, rates4.tpr4, 'b',color='red', label = 'Naive Bayes = %0.2f' % roc_auc4)\n",
    "plt.plot(rates5.fpr5, rates5.tpr5, 'b',color='cyan', label = 'Decision Three = %0.2f' % roc_auc5)\n",
    "plt.plot(rates6.fpr6, rates6.tpr6, 'b',color='blue',label = 'Logit = %0.2f' % roc_auc6)\n",
    "plt.plot([0, 1], [0, 1],'r--')\n",
    "plt.xlim([0, 1])\n",
    "plt.ylim([0, 1])\n",
    "plt.ylabel('True Positive Rate')\n",
    "plt.xlabel('False Positive Rate')\n",
    "plt.title('ROC for days=14 days ')\n",
    "plt.legend(loc = 'lower right')\n",
    "plt.show()"
   ]
  }
 ],
 "metadata": {
  "kernelspec": {
   "display_name": "Python 3",
   "language": "python",
   "name": "python3"
  },
  "language_info": {
   "codemirror_mode": {
    "name": "ipython",
    "version": 3
   },
   "file_extension": ".py",
   "mimetype": "text/x-python",
   "name": "python",
   "nbconvert_exporter": "python",
   "pygments_lexer": "ipython3",
   "version": "3.6.5"
  }
 },
 "nbformat": 4,
 "nbformat_minor": 2
}
