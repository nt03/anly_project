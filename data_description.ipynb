{
 "cells": [
  {
   "cell_type": "code",
   "execution_count": null,
   "metadata": {},
   "outputs": [],
   "source": [
    "import pandas as pd\n",
    "import numpy as np\n",
    "import matplotlib.pyplot as plt"
   ]
  },
  {
   "cell_type": "code",
   "execution_count": null,
   "metadata": {},
   "outputs": [],
   "source": [
    "final = pd.read_csv('../../data/final_permit_uncode.csv')\n",
    "final.head()"
   ]
  },
  {
   "cell_type": "code",
   "execution_count": null,
   "metadata": {},
   "outputs": [],
   "source": [
    "final[['elapsed_workdays','over_150','Ward', 'EYFC','ReviewCycle']].agg(['mean', 'median','std','max','min']).round(2)"
   ]
  },
  {
   "cell_type": "markdown",
   "metadata": {},
   "source": [
    "Describe the statistics for variables befor log"
   ]
  },
  {
   "cell_type": "code",
   "execution_count": null,
   "metadata": {},
   "outputs": [],
   "source": [
    "temp = final[['green_floor_area','PRICE','LIVING_GBA', 'LANDAREA']]\n",
    "temp.head()"
   ]
  },
  {
   "cell_type": "code",
   "execution_count": null,
   "metadata": {},
   "outputs": [],
   "source": [
    "pd.options.mode.chained_assignment = None\n",
    "temp['green_floor_area'] = final['green_floor_area'].apply(lambda x: x**10)\n",
    "temp['PRICE'] = final['PRICE'].apply(lambda x: x**10)\n",
    "temp['LIVING_GBA'] = final['LIVING_GBA'].apply(lambda x: x**10)\n",
    "temp['LANDAREA'] = final['LANDAREA'].apply(lambda x: x**10)"
   ]
  },
  {
   "cell_type": "code",
   "execution_count": null,
   "metadata": {},
   "outputs": [],
   "source": [
    "pd.set_option('display.float_format',lambda x : '%.2f' % x)\n",
    "temp[['green_floor_area','PRICE','LIVING_GBA', 'LANDAREA']].agg(['mean', 'median','std','max','min']).round(2)"
   ]
  },
  {
   "cell_type": "code",
   "execution_count": null,
   "metadata": {},
   "outputs": [],
   "source": [
    "# plot for full sample size\n",
    "plt.figure(figsize=(15, 8))\n",
    "y = final['elapsed_workdays']\n",
    "ax = plt.subplot()\n",
    "ax.hist(y, color = 'darkblue', bins = 30)\n",
    "for spine in ['right', 'top']:\n",
    "    ax.spines[spine].set_visible(False)\n",
    "plt.xlabel('Elapsed Workdays')\n",
    "plt.ylabel('Count')\n",
    "plt.savefig('Histogram of Elapsed Workdays.png')\n",
    "plt.title('Histogram of Elapsed Workdays')\n",
    "plt.show()"
   ]
  },
  {
   "cell_type": "code",
   "execution_count": null,
   "metadata": {},
   "outputs": [],
   "source": [
    "# plot for elaplsed workdays from 0 to 400\n",
    "plt.figure(figsize=(15, 10))\n",
    "y = final['elapsed_workdays']\n",
    "ax = plt.subplot()\n",
    "ax.hist(y, color = 'darkblue', bins = 50)\n",
    "for spine in ['right', 'top']:\n",
    "    ax.spines[spine].set_visible(False)\n",
    "plt.xlabel('Elapsed Workdays')\n",
    "plt.ylabel('Count')\n",
    "plt.xlim(0,400)\n",
    "plt.savefig('Histogram of Elapsed Workdays (0-400).png')\n",
    "plt.title('Histogram of Elapsed Workdays (0-400)')\n",
    "plt.show()"
   ]
  },
  {
   "cell_type": "code",
   "execution_count": null,
   "metadata": {},
   "outputs": [],
   "source": [
    "# plot\n",
    "plt.figure(figsize=(15, 8))\n",
    "ax = plt.subplot()\n",
    "ax.barh(range(len(x)), x, color = 'darkblue')\n",
    "for spine in ['right', 'top']:\n",
    "    ax.spines[spine].set_visible(False)\n",
    "plt.yticks(range(len(x)),['CFA Review','DOH Review','HPRB Review','Fire Review','Plumbing Review','Mechanical Review','Elevator Review','Electrical Review','Structural Review','DOEE Review','NCPC Review','Energy Review','WMATA Review','Zoning Review','Green Review','DC Water Review','DDOT Review','White House Review','EISF Review'])\n",
    "plt.ylabel('Group Name')\n",
    "plt.xlabel('Elapsed Workdays')\n",
    "for a, b in enumerate(x):\n",
    "    plt.text(b + 0.5, a - 0.1, '%.2f' % b, ha='left', va='center')\n",
    "plt.title('Mean Elapsed Workdays by Group')\n",
    "plt.savefig('Mean Elapsed Workdays by Group.png')\n",
    "plt.show()"
   ]
  },
  {
   "cell_type": "code",
   "execution_count": null,
   "metadata": {},
   "outputs": [],
   "source": [
    "y = final.groupby('Ward')['elapsed_workdays'].mean()\n",
    "y"
   ]
  },
  {
   "cell_type": "code",
   "execution_count": null,
   "metadata": {},
   "outputs": [],
   "source": [
    "# plot\n",
    "ax = plt.subplot()\n",
    "ax.bar(range(len(y)), y, color = 'darkblue')\n",
    "for spine in ['right', 'top']:\n",
    "    ax.spines[spine].set_visible(False)\n",
    "plt.xticks(range(len(y)),[1,2,3,4,5,6,7,8])\n",
    "plt.xlabel('Ward')\n",
    "plt.ylabel('Elapsed Workdays')\n",
    "\n",
    "plt.title('Figure 3. Mean Elapsed Workdays by Ward')\n",
    "plt.savefig('Mean Elapsed Workdays by Ward.png')\n",
    "plt.show()"
   ]
  },
  {
   "cell_type": "code",
   "execution_count": null,
   "metadata": {},
   "outputs": [],
   "source": []
  }
 ],
 "metadata": {
  "kernelspec": {
   "display_name": "Python 3",
   "language": "python",
   "name": "python3"
  },
  "language_info": {
   "codemirror_mode": {
    "name": "ipython",
    "version": 3
   },
   "file_extension": ".py",
   "mimetype": "text/x-python",
   "name": "python",
   "nbconvert_exporter": "python",
   "pygments_lexer": "ipython3",
   "version": "3.6.8"
  }
 },
 "nbformat": 4,
 "nbformat_minor": 2
}
