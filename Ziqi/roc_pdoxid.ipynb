{
 "cells": [
  {
   "cell_type": "markdown",
   "metadata": {},
   "source": [
    "# ROC (Pdox_ID)"
   ]
  },
  {
   "cell_type": "code",
   "execution_count": null,
   "metadata": {},
   "outputs": [],
   "source": [
    "# load packages\n",
    "import numpy as np\n",
    "import pandas as pd\n",
    "import matplotlib.pyplot as plt\n",
    "%matplotlib inline \n",
    "import graphviz\n",
    "from sklearn.preprocessing import LabelEncoder\n",
    "from sklearn.model_selection import cross_val_score, validation_curve, learning_curve, train_test_split\n",
    "from sklearn.metrics import roc_curve, auc\n",
    "from sklearn.tree import DecisionTreeRegressor\n",
    "from sklearn.neighbors import KNeighborsClassifier\n",
    "from sklearn.neighbors import KNeighborsRegressor\n",
    "from sklearn.svm import SVC\n",
    "from sklearn.naive_bayes import GaussianNB\n",
    "from sklearn.tree import DecisionTreeClassifier, export_graphviz\n",
    "from sklearn import tree\n",
    "import statsmodels.api as sm\n",
    "from sklearn.linear_model import LogisticRegression\n",
    "from sklearn import metrics"
   ]
  },
  {
   "cell_type": "code",
   "execution_count": null,
   "metadata": {
    "scrolled": true
   },
   "outputs": [],
   "source": [
    "# import data\n",
    "dat = pd.read_csv('final_permit_uncode.csv')\n",
    "dat.head()"
   ]
  },
  {
   "cell_type": "code",
   "execution_count": null,
   "metadata": {},
   "outputs": [],
   "source": [
    "# create X and Y\n",
    "X = dat.drop([\"elapsed_workdays\",\"pdox_b1_id\",\"over_90\",\"over_150\"], axis = 1)\n",
    "Y2 = dat[\"over_150\"] # over150\n",
    "X.columns"
   ]
  },
  {
   "cell_type": "code",
   "execution_count": null,
   "metadata": {},
   "outputs": [],
   "source": [
    "Y1 = dat[\"over_90\"] # over90\n",
    "Y = dat[\"elapsed_workdays\"] # Y as continuous variablr"
   ]
  },
  {
   "cell_type": "markdown",
   "metadata": {},
   "source": [
    "# over150"
   ]
  },
  {
   "cell_type": "code",
   "execution_count": null,
   "metadata": {},
   "outputs": [],
   "source": [
    "#Fitting a Naive Bayes model\n",
    "bayes= GaussianNB()\n",
    "bayes.fit(X,Y2)"
   ]
  },
  {
   "cell_type": "code",
   "execution_count": null,
   "metadata": {},
   "outputs": [],
   "source": [
    "# Performing  10-fold cross-validation\n",
    "cross_val_score(bayes, X, Y2, cv=10)"
   ]
  },
  {
   "cell_type": "code",
   "execution_count": null,
   "metadata": {},
   "outputs": [],
   "source": [
    "# Determining the size of the trainning set\n",
    "sizes = np.arange(100, 1800,100)\n",
    "print('Sizes: ', sizes)\n",
    "train_sizes, train_scores2, test_scores2 = learning_curve(bayes, X, Y2, cv=10, train_sizes=sizes)\n",
    "train_mean2 = np.mean(train_scores2, axis=1)\n",
    "test_mean2 = np.mean(test_scores2, axis=1)\n",
    "test_mean2"
   ]
  },
  {
   "cell_type": "code",
   "execution_count": null,
   "metadata": {},
   "outputs": [],
   "source": [
    "# split training and test \n",
    "training_size = 1700\n",
    "Xtrain2, Xtest2, ytrain2, ytest2 = train_test_split(X, Y2, train_size=training_size, \n",
    "                                                test_size=X.shape[0]-training_size)                                                \n",
    "bayes.fit(Xtrain2, ytrain2)\n",
    "y_pred4 = bayes.predict(Xtest2)"
   ]
  },
  {
   "cell_type": "code",
   "execution_count": null,
   "metadata": {},
   "outputs": [],
   "source": [
    "# true positives and false positives\n",
    "false_positive_rate4, true_positive_rate4, thresholds4 = roc_curve(ytest2, y_pred4, pos_label=1)\n",
    "rates4 = pd.DataFrame(dict(fpr4=false_positive_rate4, tpr4=true_positive_rate4))\n",
    "roc_auc4 = auc(rates4['fpr4'], rates4['tpr4'])\n",
    "print('AUC SVC: ', roc_auc4)"
   ]
  },
  {
   "cell_type": "code",
   "execution_count": null,
   "metadata": {},
   "outputs": [],
   "source": [
    "dt = tree.DecisionTreeClassifier()"
   ]
  },
  {
   "cell_type": "code",
   "execution_count": null,
   "metadata": {},
   "outputs": [],
   "source": [
    "dt.fit(X,Y2)"
   ]
  },
  {
   "cell_type": "code",
   "execution_count": null,
   "metadata": {},
   "outputs": [],
   "source": [
    "cross_val_score(dt, X, Y2, cv=10)"
   ]
  },
  {
   "cell_type": "code",
   "execution_count": null,
   "metadata": {},
   "outputs": [],
   "source": [
    "dt.fit(Xtrain2, ytrain2)\n",
    "y_pred5 = dt.predict(Xtest2)"
   ]
  },
  {
   "cell_type": "code",
   "execution_count": null,
   "metadata": {},
   "outputs": [],
   "source": [
    "# true positives and false positives\n",
    "false_positive_rate5, true_positive_rate5, thresholds5 = roc_curve(ytest2, y_pred5, pos_label=1)\n",
    "rates5 = pd.DataFrame(dict(fpr5=false_positive_rate5, tpr5=true_positive_rate5))\n",
    "roc_auc5 = auc(rates5['fpr5'], rates5['tpr5'])\n",
    "print('AUC SVC: ', roc_auc5)"
   ]
  },
  {
   "cell_type": "code",
   "execution_count": null,
   "metadata": {},
   "outputs": [],
   "source": [
    "#fit logit model\n",
    "logreg = LogisticRegression(solver='liblinear')\n",
    "logreg.fit(X,Y2)"
   ]
  },
  {
   "cell_type": "code",
   "execution_count": null,
   "metadata": {},
   "outputs": [],
   "source": [
    "# Performing  10-fold cross-validation\n",
    "cross_val_score(logreg, X, Y2, cv=10)"
   ]
  },
  {
   "cell_type": "code",
   "execution_count": null,
   "metadata": {},
   "outputs": [],
   "source": [
    "logreg.fit(Xtrain2, ytrain2)\n",
    "y_pred6 = logreg.predict(Xtest2)"
   ]
  },
  {
   "cell_type": "code",
   "execution_count": null,
   "metadata": {},
   "outputs": [],
   "source": [
    "# true positives and false positives\n",
    "false_positive_rate6, true_positive_rate6, thresholds6 = roc_curve(ytest2, y_pred6, pos_label=1)\n",
    "rates6 = pd.DataFrame(dict(fpr6=false_positive_rate6, tpr6=true_positive_rate6))\n",
    "roc_auc6 = auc(rates6['fpr6'], rates6['tpr6'])\n",
    "print('AUC SVC: ', roc_auc6)"
   ]
  },
  {
   "cell_type": "code",
   "execution_count": null,
   "metadata": {},
   "outputs": [],
   "source": [
    "# KNN\n",
    "# Test which k performs the best\n",
    "k_range = range(1,20)\n",
    "k_scores = []\n",
    "for k in k_range:\n",
    "    knn = KNeighborsClassifier(n_neighbors = k)\n",
    "    scores = cross_val_score(knn, X, Y2, cv=10, scoring = 'accuracy')\n",
    "    k_scores.append(scores.mean())"
   ]
  },
  {
   "cell_type": "code",
   "execution_count": null,
   "metadata": {},
   "outputs": [],
   "source": [
    "knn = KNeighborsClassifier(n_neighbors = 7)\n",
    "knn.fit(Xtrain2, ytrain2)\n",
    "y_pred2 = knn.predict(Xtest2)"
   ]
  },
  {
   "cell_type": "code",
   "execution_count": null,
   "metadata": {},
   "outputs": [],
   "source": [
    "# true positives and false positives\n",
    "false_positive_rate2, true_positive_rate2, thresholds2 = roc_curve(ytest2, y_pred2, pos_label=1)\n",
    "rates2 = pd.DataFrame(dict(fpr2=false_positive_rate2, tpr2=true_positive_rate2))\n",
    "roc_auc2 = auc(rates2['fpr2'], rates2['tpr2'])\n",
    "print('AUC SVC: ', roc_auc2)"
   ]
  },
  {
   "cell_type": "code",
   "execution_count": null,
   "metadata": {
    "scrolled": true
   },
   "outputs": [],
   "source": [
    "#ROC curve over150\n",
    "plt.plot(rates4.fpr4, rates4.tpr4, 'b',color='red', label = 'Naive Bayes = %0.2f' % roc_auc4)\n",
    "plt.plot(rates2.fpr2, rates2.tpr2, 'b',color='grey', label = 'KNN = %0.2f' % roc_auc2)\n",
    "plt.plot(rates5.fpr5, rates5.tpr5, 'b',color='cyan', label = 'Decision Tree = %0.2f' % roc_auc5)\n",
    "plt.plot(rates6.fpr6, rates6.tpr6, 'b',color='blue',label = 'Logit = %0.2f' % roc_auc6)\n",
    "plt.plot([0, 1], [0, 1],'r--')\n",
    "plt.xlim([0, 1])\n",
    "plt.ylim([0, 1])\n",
    "plt.ylabel('True Positive Rate')\n",
    "plt.xlabel('False Positive Rate')\n",
    "plt.title('Pdox Model: Receiver Operating Characteristic')\n",
    "plt.legend(loc = 'lower right')\n",
    "plt.savefig('ROC.png')\n",
    "plt.show()"
   ]
  },
  {
   "cell_type": "markdown",
   "metadata": {},
   "source": [
    "# over90"
   ]
  },
  {
   "cell_type": "code",
   "execution_count": null,
   "metadata": {},
   "outputs": [],
   "source": [
    "#Fitting a Naive Bayes model\n",
    "bayes= GaussianNB()\n",
    "bayes.fit(X,Y1)"
   ]
  },
  {
   "cell_type": "code",
   "execution_count": null,
   "metadata": {},
   "outputs": [],
   "source": [
    "# split training and test \n",
    "training_size = 1700\n",
    "Xtrain1, Xtest1, ytrain1, ytest1 = train_test_split(X, Y1, train_size=training_size, \n",
    "                                                test_size=X.shape[0]-training_size)                                                \n",
    "bayes.fit(Xtrain1, ytrain1)\n",
    "y_pred4 = bayes.predict(Xtest1)"
   ]
  },
  {
   "cell_type": "code",
   "execution_count": null,
   "metadata": {},
   "outputs": [],
   "source": [
    "# true positives and false positives\n",
    "false_positive_rate4, true_positive_rate4, thresholds4 = roc_curve(ytest1, y_pred4, pos_label=1)\n",
    "rates4 = pd.DataFrame(dict(fpr4=false_positive_rate4, tpr4=true_positive_rate4))\n",
    "roc_auc4 = auc(rates4['fpr4'], rates4['tpr4'])\n",
    "print('AUC SVC: ', roc_auc4)"
   ]
  },
  {
   "cell_type": "code",
   "execution_count": null,
   "metadata": {},
   "outputs": [],
   "source": [
    "dt = tree.DecisionTreeClassifier()"
   ]
  },
  {
   "cell_type": "code",
   "execution_count": null,
   "metadata": {},
   "outputs": [],
   "source": [
    "dt.fit(X,Y1)"
   ]
  },
  {
   "cell_type": "code",
   "execution_count": null,
   "metadata": {},
   "outputs": [],
   "source": [
    "cross_val_score(dt, X, Y1, cv=10)"
   ]
  },
  {
   "cell_type": "code",
   "execution_count": null,
   "metadata": {},
   "outputs": [],
   "source": [
    "dt.fit(Xtrain1, ytrain1)\n",
    "y_pred5 = dt.predict(Xtest1)"
   ]
  },
  {
   "cell_type": "code",
   "execution_count": null,
   "metadata": {},
   "outputs": [],
   "source": [
    "# true positives and false positives\n",
    "false_positive_rate5, true_positive_rate5, thresholds5 = roc_curve(ytest1, y_pred5, pos_label=1)\n",
    "rates5 = pd.DataFrame(dict(fpr5=false_positive_rate5, tpr5=true_positive_rate5))\n",
    "roc_auc5 = auc(rates5['fpr5'], rates5['tpr5'])\n",
    "print('AUC SVC: ', roc_auc5)"
   ]
  },
  {
   "cell_type": "code",
   "execution_count": null,
   "metadata": {},
   "outputs": [],
   "source": [
    "#fit logit model\n",
    "logreg = LogisticRegression(solver='liblinear')\n",
    "logreg.fit(X,Y1)"
   ]
  },
  {
   "cell_type": "code",
   "execution_count": null,
   "metadata": {},
   "outputs": [],
   "source": [
    "# Performing  10-fold cross-validation\n",
    "cross_val_score(logreg, X, Y1, cv=10)"
   ]
  },
  {
   "cell_type": "code",
   "execution_count": null,
   "metadata": {},
   "outputs": [],
   "source": [
    "logreg.fit(Xtrain1, ytrain1)\n",
    "y_pred6 = logreg.predict(Xtest1)"
   ]
  },
  {
   "cell_type": "code",
   "execution_count": null,
   "metadata": {},
   "outputs": [],
   "source": [
    "# true positives and false positives\n",
    "false_positive_rate6, true_positive_rate6, thresholds6 = roc_curve(ytest1, y_pred6, pos_label=1)\n",
    "rates6 = pd.DataFrame(dict(fpr6=false_positive_rate6, tpr6=true_positive_rate6))\n",
    "roc_auc6 = auc(rates6['fpr6'], rates6['tpr6'])\n",
    "print('AUC SVC: ', roc_auc6)"
   ]
  },
  {
   "cell_type": "code",
   "execution_count": null,
   "metadata": {},
   "outputs": [],
   "source": [
    "# KNN\n",
    "# Test which k performs the best\n",
    "k_range = range(1,20)\n",
    "k_scores = []\n",
    "for k in k_range:\n",
    "    knn = KNeighborsClassifier(n_neighbors = k)\n",
    "    scores = cross_val_score(knn, X, Y1, cv=10, scoring = 'accuracy')\n",
    "    k_scores.append(scores.mean())"
   ]
  },
  {
   "cell_type": "code",
   "execution_count": null,
   "metadata": {},
   "outputs": [],
   "source": [
    "knn = KNeighborsClassifier(n_neighbors = 5)\n",
    "knn.fit(Xtrain1, ytrain1)\n",
    "y_pred2 = knn.predict(Xtest1)"
   ]
  },
  {
   "cell_type": "code",
   "execution_count": null,
   "metadata": {},
   "outputs": [],
   "source": [
    "# true positives and false positives\n",
    "false_positive_rate2, true_positive_rate2, thresholds2 = roc_curve(ytest1, y_pred2, pos_label=1)\n",
    "rates2 = pd.DataFrame(dict(fpr2=false_positive_rate2, tpr2=true_positive_rate2))\n",
    "roc_auc2 = auc(rates2['fpr2'], rates2['tpr2'])\n",
    "print('AUC SVC: ', roc_auc2)"
   ]
  },
  {
   "cell_type": "code",
   "execution_count": null,
   "metadata": {},
   "outputs": [],
   "source": [
    "#ROC curve over90\n",
    "plt.plot(rates4.fpr4, rates4.tpr4, 'b',color='red', label = 'Naive Bayes = %0.2f' % roc_auc4)\n",
    "plt.plot(rates2.fpr2, rates2.tpr2, 'b',color='grey', label = 'KNN = %0.2f' % roc_auc2)\n",
    "plt.plot(rates5.fpr5, rates5.tpr5, 'b',color='cyan', label = 'Decision Tree = %0.2f' % roc_auc5)\n",
    "plt.plot(rates6.fpr6, rates6.tpr6, 'b',color='blue',label = 'Logit = %0.2f' % roc_auc6)\n",
    "plt.plot([0, 1], [0, 1],'r--')\n",
    "plt.xlim([0, 1])\n",
    "plt.ylim([0, 1])\n",
    "plt.ylabel('True Positive Rate')\n",
    "plt.xlabel('False Positive Rate')\n",
    "plt.title('Pdox Model: Receiver Operating Characteristic')\n",
    "plt.legend(loc = 'lower right')\n",
    "plt.show()"
   ]
  },
  {
   "cell_type": "code",
   "execution_count": null,
   "metadata": {},
   "outputs": [],
   "source": []
  }
 ],
 "metadata": {
  "kernelspec": {
   "display_name": "Python 3",
   "language": "python",
   "name": "python3"
  },
  "language_info": {
   "codemirror_mode": {
    "name": "ipython",
    "version": 3
   },
   "file_extension": ".py",
   "mimetype": "text/x-python",
   "name": "python",
   "nbconvert_exporter": "python",
   "pygments_lexer": "ipython3",
   "version": "3.7.2"
  }
 },
 "nbformat": 4,
 "nbformat_minor": 2
}
