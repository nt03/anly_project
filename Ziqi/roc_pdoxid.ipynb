{
 "cells": [
  {
   "cell_type": "markdown",
   "metadata": {},
   "source": [
    "# ROC (Pdox_ID)"
   ]
  },
  {
   "cell_type": "code",
   "execution_count": 1,
   "metadata": {},
   "outputs": [],
   "source": [
    "# load packages\n",
    "import numpy as np\n",
    "import pandas as pd\n",
    "import matplotlib.pyplot as plt\n",
    "%matplotlib inline \n",
    "import graphviz\n",
    "from sklearn.preprocessing import LabelEncoder\n",
    "from sklearn.model_selection import cross_val_score, validation_curve, learning_curve, train_test_split\n",
    "from sklearn.metrics import roc_curve, auc\n",
    "from sklearn.tree import DecisionTreeRegressor\n",
    "from sklearn.neighbors import KNeighborsClassifier\n",
    "from sklearn.neighbors import KNeighborsRegressor\n",
    "from sklearn.svm import SVC\n",
    "from sklearn.naive_bayes import GaussianNB\n",
    "from sklearn.tree import DecisionTreeClassifier, export_graphviz\n",
    "from sklearn import tree\n",
    "import statsmodels.api as sm\n",
    "from sklearn.linear_model import LogisticRegression\n",
    "from sklearn import metrics"
   ]
  },
  {
   "cell_type": "code",
   "execution_count": 2,
   "metadata": {
    "scrolled": true
   },
   "outputs": [
    {
     "data": {
      "text/html": [
       "<div>\n",
       "<style scoped>\n",
       "    .dataframe tbody tr th:only-of-type {\n",
       "        vertical-align: middle;\n",
       "    }\n",
       "\n",
       "    .dataframe tbody tr th {\n",
       "        vertical-align: top;\n",
       "    }\n",
       "\n",
       "    .dataframe thead th {\n",
       "        text-align: right;\n",
       "    }\n",
       "</style>\n",
       "<table border=\"1\" class=\"dataframe\">\n",
       "  <thead>\n",
       "    <tr style=\"text-align: right;\">\n",
       "      <th></th>\n",
       "      <th>pdox_b1_id</th>\n",
       "      <th>elapsed_workdays</th>\n",
       "      <th>alias</th>\n",
       "      <th>Project_Status</th>\n",
       "      <th>job_class</th>\n",
       "      <th>Ward</th>\n",
       "      <th>green_floor_area</th>\n",
       "      <th>use_type</th>\n",
       "      <th>permit_type</th>\n",
       "      <th>PRICE</th>\n",
       "      <th>...</th>\n",
       "      <th>PRC</th>\n",
       "      <th>Plumbing_Review</th>\n",
       "      <th>QA_Review</th>\n",
       "      <th>Structural_Review</th>\n",
       "      <th>WASA_Review</th>\n",
       "      <th>WMATA_Review</th>\n",
       "      <th>White_House_Review</th>\n",
       "      <th>Zoning_Review</th>\n",
       "      <th>over_90</th>\n",
       "      <th>over_150</th>\n",
       "    </tr>\n",
       "  </thead>\n",
       "  <tbody>\n",
       "    <tr>\n",
       "      <th>0</th>\n",
       "      <td>AN1700124</td>\n",
       "      <td>62.0</td>\n",
       "      <td>0</td>\n",
       "      <td>0</td>\n",
       "      <td>2</td>\n",
       "      <td>6.0</td>\n",
       "      <td>0.000000</td>\n",
       "      <td>1</td>\n",
       "      <td>0</td>\n",
       "      <td>6.209515</td>\n",
       "      <td>...</td>\n",
       "      <td>0.0</td>\n",
       "      <td>0.0</td>\n",
       "      <td>0.0</td>\n",
       "      <td>22.0</td>\n",
       "      <td>0.0</td>\n",
       "      <td>0.0</td>\n",
       "      <td>0.0</td>\n",
       "      <td>23.0</td>\n",
       "      <td>0</td>\n",
       "      <td>0</td>\n",
       "    </tr>\n",
       "    <tr>\n",
       "      <th>1</th>\n",
       "      <td>AN1700215</td>\n",
       "      <td>100.0</td>\n",
       "      <td>1</td>\n",
       "      <td>6</td>\n",
       "      <td>6</td>\n",
       "      <td>5.0</td>\n",
       "      <td>3.260071</td>\n",
       "      <td>1</td>\n",
       "      <td>0</td>\n",
       "      <td>5.525045</td>\n",
       "      <td>...</td>\n",
       "      <td>9.0</td>\n",
       "      <td>0.0</td>\n",
       "      <td>7.0</td>\n",
       "      <td>26.0</td>\n",
       "      <td>0.0</td>\n",
       "      <td>0.0</td>\n",
       "      <td>0.0</td>\n",
       "      <td>14.0</td>\n",
       "      <td>1</td>\n",
       "      <td>0</td>\n",
       "    </tr>\n",
       "    <tr>\n",
       "      <th>2</th>\n",
       "      <td>AN1700235</td>\n",
       "      <td>65.0</td>\n",
       "      <td>0</td>\n",
       "      <td>0</td>\n",
       "      <td>3</td>\n",
       "      <td>5.0</td>\n",
       "      <td>3.147367</td>\n",
       "      <td>0</td>\n",
       "      <td>0</td>\n",
       "      <td>5.755875</td>\n",
       "      <td>...</td>\n",
       "      <td>5.0</td>\n",
       "      <td>0.0</td>\n",
       "      <td>8.0</td>\n",
       "      <td>18.0</td>\n",
       "      <td>0.0</td>\n",
       "      <td>0.0</td>\n",
       "      <td>0.0</td>\n",
       "      <td>3.0</td>\n",
       "      <td>0</td>\n",
       "      <td>0</td>\n",
       "    </tr>\n",
       "    <tr>\n",
       "      <th>3</th>\n",
       "      <td>AN1700242</td>\n",
       "      <td>91.0</td>\n",
       "      <td>0</td>\n",
       "      <td>0</td>\n",
       "      <td>7</td>\n",
       "      <td>1.0</td>\n",
       "      <td>4.238508</td>\n",
       "      <td>0</td>\n",
       "      <td>0</td>\n",
       "      <td>5.705008</td>\n",
       "      <td>...</td>\n",
       "      <td>5.0</td>\n",
       "      <td>0.0</td>\n",
       "      <td>11.0</td>\n",
       "      <td>32.0</td>\n",
       "      <td>0.0</td>\n",
       "      <td>0.0</td>\n",
       "      <td>0.0</td>\n",
       "      <td>26.0</td>\n",
       "      <td>1</td>\n",
       "      <td>0</td>\n",
       "    </tr>\n",
       "    <tr>\n",
       "      <th>4</th>\n",
       "      <td>AN1700244</td>\n",
       "      <td>57.0</td>\n",
       "      <td>1</td>\n",
       "      <td>0</td>\n",
       "      <td>6</td>\n",
       "      <td>2.0</td>\n",
       "      <td>2.389928</td>\n",
       "      <td>1</td>\n",
       "      <td>0</td>\n",
       "      <td>6.172507</td>\n",
       "      <td>...</td>\n",
       "      <td>1.0</td>\n",
       "      <td>0.0</td>\n",
       "      <td>6.0</td>\n",
       "      <td>18.0</td>\n",
       "      <td>0.0</td>\n",
       "      <td>0.0</td>\n",
       "      <td>0.0</td>\n",
       "      <td>21.0</td>\n",
       "      <td>0</td>\n",
       "      <td>0</td>\n",
       "    </tr>\n",
       "  </tbody>\n",
       "</table>\n",
       "<p>5 rows × 46 columns</p>\n",
       "</div>"
      ],
      "text/plain": [
       "  pdox_b1_id  elapsed_workdays  alias  Project_Status  job_class  Ward  \\\n",
       "0  AN1700124              62.0      0               0          2   6.0   \n",
       "1  AN1700215             100.0      1               6          6   5.0   \n",
       "2  AN1700235              65.0      0               0          3   5.0   \n",
       "3  AN1700242              91.0      0               0          7   1.0   \n",
       "4  AN1700244              57.0      1               0          6   2.0   \n",
       "\n",
       "   green_floor_area  use_type  permit_type     PRICE    ...     PRC  \\\n",
       "0          0.000000         1            0  6.209515    ...     0.0   \n",
       "1          3.260071         1            0  5.525045    ...     9.0   \n",
       "2          3.147367         0            0  5.755875    ...     5.0   \n",
       "3          4.238508         0            0  5.705008    ...     5.0   \n",
       "4          2.389928         1            0  6.172507    ...     1.0   \n",
       "\n",
       "   Plumbing_Review  QA_Review  Structural_Review  WASA_Review  WMATA_Review  \\\n",
       "0              0.0        0.0               22.0          0.0           0.0   \n",
       "1              0.0        7.0               26.0          0.0           0.0   \n",
       "2              0.0        8.0               18.0          0.0           0.0   \n",
       "3              0.0       11.0               32.0          0.0           0.0   \n",
       "4              0.0        6.0               18.0          0.0           0.0   \n",
       "\n",
       "   White_House_Review  Zoning_Review  over_90  over_150  \n",
       "0                 0.0           23.0        0         0  \n",
       "1                 0.0           14.0        1         0  \n",
       "2                 0.0            3.0        0         0  \n",
       "3                 0.0           26.0        1         0  \n",
       "4                 0.0           21.0        0         0  \n",
       "\n",
       "[5 rows x 46 columns]"
      ]
     },
     "execution_count": 2,
     "metadata": {},
     "output_type": "execute_result"
    }
   ],
   "source": [
    "# import data\n",
    "dat = pd.read_csv('final_permit_uncode.csv')\n",
    "dat.head()"
   ]
  },
  {
   "cell_type": "code",
   "execution_count": 4,
   "metadata": {},
   "outputs": [
    {
     "data": {
      "text/plain": [
       "Index(['alias', 'Project_Status', 'job_class', 'Ward', 'green_floor_area',\n",
       "       'use_type', 'permit_type', 'PRICE', 'QUALIFIED', 'LIVING_GBA',\n",
       "       'USECODE', 'LANDAREA', 'EYFC', 'use_change', 'num_units_change',\n",
       "       'gfa_change', 'ReviewCycle', 'CFA_Review', 'Chinatown_Review',\n",
       "       'DC_Water_Review', 'DDOE_Review', 'DDOT_Review', 'DOEE_Review',\n",
       "       'DOH_Review', 'EISF_Review', 'Electrical_Review', 'Elevator_Review',\n",
       "       'Energy_Review', 'File_Room', 'Fire_Review', 'Green_Review',\n",
       "       'HPRB_Review', 'Mechanical_Review', 'NCPC_Review', 'PRC',\n",
       "       'Plumbing_Review', 'QA_Review', 'Structural_Review', 'WASA_Review',\n",
       "       'WMATA_Review', 'White_House_Review', 'Zoning_Review'],\n",
       "      dtype='object')"
      ]
     },
     "execution_count": 4,
     "metadata": {},
     "output_type": "execute_result"
    }
   ],
   "source": [
    "# create X and Y\n",
    "X = dat.drop([\"elapsed_workdays\",\"pdox_b1_id\",\"over_90\",\"over_150\"], axis = 1)\n",
    "Y2 = dat[\"over_150\"] # over150\n",
    "X.columns"
   ]
  },
  {
   "cell_type": "code",
   "execution_count": 23,
   "metadata": {},
   "outputs": [],
   "source": [
    "Y1 = dat[\"over_90\"] # over90\n",
    "Y = dat[\"elapsed_workdays\"] # Y as continuous variablr"
   ]
  },
  {
   "cell_type": "markdown",
   "metadata": {},
   "source": [
    "# over150"
   ]
  },
  {
   "cell_type": "code",
   "execution_count": 7,
   "metadata": {},
   "outputs": [
    {
     "data": {
      "text/plain": [
       "GaussianNB(priors=None, var_smoothing=1e-09)"
      ]
     },
     "execution_count": 7,
     "metadata": {},
     "output_type": "execute_result"
    }
   ],
   "source": [
    "#Fitting a Naive Bayes model\n",
    "bayes= GaussianNB()\n",
    "bayes.fit(X,Y2)"
   ]
  },
  {
   "cell_type": "code",
   "execution_count": 8,
   "metadata": {},
   "outputs": [
    {
     "data": {
      "text/plain": [
       "array([0.85929648, 0.92462312, 0.89949749, 0.90954774, 0.91457286,\n",
       "       0.90452261, 0.89393939, 0.87878788, 0.88324873, 0.92385787])"
      ]
     },
     "execution_count": 8,
     "metadata": {},
     "output_type": "execute_result"
    }
   ],
   "source": [
    "# Performing  10-fold cross-validation\n",
    "cross_val_score(bayes, X, Y2, cv=10)"
   ]
  },
  {
   "cell_type": "code",
   "execution_count": 9,
   "metadata": {},
   "outputs": [
    {
     "name": "stdout",
     "output_type": "stream",
     "text": [
      "Sizes:  [ 100  200  300  400  500  600  700  800  900 1000 1100 1200 1300 1400\n",
      " 1500 1600 1700]\n"
     ]
    },
    {
     "data": {
      "text/plain": [
       "array([0.66273427, 0.7038913 , 0.89635764, 0.88765455, 0.88966711,\n",
       "       0.88107853, 0.8810811 , 0.88056587, 0.87500254, 0.87298739,\n",
       "       0.86141689, 0.85281819, 0.86287351, 0.8719493 , 0.88153013,\n",
       "       0.88859333, 0.89666158])"
      ]
     },
     "execution_count": 9,
     "metadata": {},
     "output_type": "execute_result"
    }
   ],
   "source": [
    "# Determining the size of the trainning set\n",
    "sizes = np.arange(100, 1800,100)\n",
    "print('Sizes: ', sizes)\n",
    "train_sizes, train_scores2, test_scores2 = learning_curve(bayes, X, Y2, cv=10, train_sizes=sizes)\n",
    "train_mean2 = np.mean(train_scores2, axis=1)\n",
    "test_mean2 = np.mean(test_scores2, axis=1)\n",
    "test_mean2"
   ]
  },
  {
   "cell_type": "code",
   "execution_count": 10,
   "metadata": {},
   "outputs": [],
   "source": [
    "# split training and test \n",
    "training_size = 1700\n",
    "Xtrain2, Xtest2, ytrain2, ytest2 = train_test_split(X, Y2, train_size=training_size, \n",
    "                                                test_size=X.shape[0]-training_size)                                                \n",
    "bayes.fit(Xtrain2, ytrain2)\n",
    "y_pred4 = bayes.predict(Xtest2)"
   ]
  },
  {
   "cell_type": "code",
   "execution_count": 12,
   "metadata": {},
   "outputs": [
    {
     "name": "stdout",
     "output_type": "stream",
     "text": [
      "AUC SVC:  0.8754528985507246\n"
     ]
    }
   ],
   "source": [
    "# true positives and false positives\n",
    "false_positive_rate4, true_positive_rate4, thresholds4 = roc_curve(ytest2, y_pred4, pos_label=1)\n",
    "rates4 = pd.DataFrame(dict(fpr4=false_positive_rate4, tpr4=true_positive_rate4))\n",
    "roc_auc4 = auc(rates4['fpr4'], rates4['tpr4'])\n",
    "print('AUC SVC: ', roc_auc4)"
   ]
  },
  {
   "cell_type": "code",
   "execution_count": 13,
   "metadata": {},
   "outputs": [],
   "source": [
    "dt = tree.DecisionTreeClassifier()"
   ]
  },
  {
   "cell_type": "code",
   "execution_count": 14,
   "metadata": {},
   "outputs": [
    {
     "data": {
      "text/plain": [
       "DecisionTreeClassifier(class_weight=None, criterion='gini', max_depth=None,\n",
       "            max_features=None, max_leaf_nodes=None,\n",
       "            min_impurity_decrease=0.0, min_impurity_split=None,\n",
       "            min_samples_leaf=1, min_samples_split=2,\n",
       "            min_weight_fraction_leaf=0.0, presort=False, random_state=None,\n",
       "            splitter='best')"
      ]
     },
     "execution_count": 14,
     "metadata": {},
     "output_type": "execute_result"
    }
   ],
   "source": [
    "dt.fit(X,Y2)"
   ]
  },
  {
   "cell_type": "code",
   "execution_count": 15,
   "metadata": {},
   "outputs": [
    {
     "data": {
      "text/plain": [
       "array([0.90954774, 0.83417085, 0.85929648, 0.82914573, 0.81407035,\n",
       "       0.93467337, 0.95454545, 0.94949495, 0.93908629, 0.87309645])"
      ]
     },
     "execution_count": 15,
     "metadata": {},
     "output_type": "execute_result"
    }
   ],
   "source": [
    "cross_val_score(dt, X, Y2, cv=10)"
   ]
  },
  {
   "cell_type": "code",
   "execution_count": 16,
   "metadata": {},
   "outputs": [],
   "source": [
    "dt.fit(Xtrain2, ytrain2)\n",
    "y_pred5 = dt.predict(Xtest2)"
   ]
  },
  {
   "cell_type": "code",
   "execution_count": 17,
   "metadata": {},
   "outputs": [
    {
     "name": "stdout",
     "output_type": "stream",
     "text": [
      "AUC SVC:  0.9330842391304348\n"
     ]
    }
   ],
   "source": [
    "# true positives and false positives\n",
    "false_positive_rate5, true_positive_rate5, thresholds5 = roc_curve(ytest2, y_pred5, pos_label=1)\n",
    "rates5 = pd.DataFrame(dict(fpr5=false_positive_rate5, tpr5=true_positive_rate5))\n",
    "roc_auc5 = auc(rates5['fpr5'], rates5['tpr5'])\n",
    "print('AUC SVC: ', roc_auc5)"
   ]
  },
  {
   "cell_type": "code",
   "execution_count": 18,
   "metadata": {},
   "outputs": [
    {
     "data": {
      "text/plain": [
       "LogisticRegression(C=1.0, class_weight=None, dual=False, fit_intercept=True,\n",
       "          intercept_scaling=1, max_iter=100, multi_class='warn',\n",
       "          n_jobs=None, penalty='l2', random_state=None, solver='liblinear',\n",
       "          tol=0.0001, verbose=0, warm_start=False)"
      ]
     },
     "execution_count": 18,
     "metadata": {},
     "output_type": "execute_result"
    }
   ],
   "source": [
    "#fit logit model\n",
    "logreg = LogisticRegression(solver='liblinear')\n",
    "logreg.fit(X,Y2)"
   ]
  },
  {
   "cell_type": "code",
   "execution_count": 19,
   "metadata": {},
   "outputs": [
    {
     "data": {
      "text/plain": [
       "array([0.96482412, 0.9798995 , 0.96482412, 0.94974874, 0.9798995 ,\n",
       "       0.99497487, 0.98484848, 0.99494949, 1.        , 0.97461929])"
      ]
     },
     "execution_count": 19,
     "metadata": {},
     "output_type": "execute_result"
    }
   ],
   "source": [
    "# Performing  10-fold cross-validation\n",
    "cross_val_score(logreg, X, Y2, cv=10)"
   ]
  },
  {
   "cell_type": "code",
   "execution_count": 20,
   "metadata": {},
   "outputs": [],
   "source": [
    "logreg.fit(Xtrain2, ytrain2)\n",
    "y_pred6 = logreg.predict(Xtest2)"
   ]
  },
  {
   "cell_type": "code",
   "execution_count": 21,
   "metadata": {},
   "outputs": [
    {
     "name": "stdout",
     "output_type": "stream",
     "text": [
      "AUC SVC:  0.9756567028985507\n"
     ]
    }
   ],
   "source": [
    "# true positives and false positives\n",
    "false_positive_rate6, true_positive_rate6, thresholds6 = roc_curve(ytest2, y_pred6, pos_label=1)\n",
    "rates6 = pd.DataFrame(dict(fpr6=false_positive_rate6, tpr6=true_positive_rate6))\n",
    "roc_auc6 = auc(rates6['fpr6'], rates6['tpr6'])\n",
    "print('AUC SVC: ', roc_auc6)"
   ]
  },
  {
   "cell_type": "code",
   "execution_count": 34,
   "metadata": {},
   "outputs": [
    {
     "data": {
      "text/plain": [
       "[0.921899079049042,\n",
       " 0.9042041335220429,\n",
       " 0.9264140525217484,\n",
       " 0.9223557798220451,\n",
       " 0.930936717118897,\n",
       " 0.9248759822287358,\n",
       " 0.9319315131778463,\n",
       " 0.9248504482109056,\n",
       " 0.9329263350027066,\n",
       " 0.925870778287685,\n",
       " 0.9268834430059334,\n",
       " 0.9248606515116732,\n",
       " 0.9304163358967837,\n",
       " 0.9243632663651539,\n",
       " 0.9288986206734847,\n",
       " 0.9268783671214607,\n",
       " 0.9309086709247409,\n",
       " 0.9223251699197419,\n",
       " 0.9298857771398137]"
      ]
     },
     "execution_count": 34,
     "metadata": {},
     "output_type": "execute_result"
    }
   ],
   "source": [
    "# KNN\n",
    "# Test which k performs the best\n",
    "k_range = range(1,20)\n",
    "k_scores = []\n",
    "for k in k_range:\n",
    "    knn = KNeighborsClassifier(n_neighbors = k)\n",
    "    scores = cross_val_score(knn, X, Y2, cv=10, scoring = 'accuracy')\n",
    "    k_scores.append(scores.mean())"
   ]
  },
  {
   "cell_type": "code",
   "execution_count": 36,
   "metadata": {},
   "outputs": [],
   "source": [
    "knn = KNeighborsClassifier(n_neighbors = 7)\n",
    "knn.fit(Xtrain2, ytrain2)\n",
    "y_pred2 = knn.predict(Xtest2)"
   ]
  },
  {
   "cell_type": "code",
   "execution_count": 38,
   "metadata": {},
   "outputs": [
    {
     "name": "stdout",
     "output_type": "stream",
     "text": [
      "AUC SVC:  0.9026268115942029\n"
     ]
    }
   ],
   "source": [
    "# true positives and false positives\n",
    "false_positive_rate2, true_positive_rate2, thresholds2 = roc_curve(ytest2, y_pred2, pos_label=1)\n",
    "rates2 = pd.DataFrame(dict(fpr2=false_positive_rate2, tpr2=true_positive_rate2))\n",
    "roc_auc2 = auc(rates2['fpr2'], rates2['tpr2'])\n",
    "print('AUC SVC: ', roc_auc2)"
   ]
  },
  {
   "cell_type": "code",
   "execution_count": 41,
   "metadata": {
    "scrolled": true
   },
   "outputs": [
    {
     "data": {
      "image/png": "[encoded data removed]",
      "text/plain": [
       "<Figure size 432x288 with 1 Axes>"
      ]
     },
     "metadata": {
      "needs_background": "light"
     },
     "output_type": "display_data"
    }
   ],
   "source": [
    "#ROC curve over150\n",
    "plt.plot(rates4.fpr4, rates4.tpr4, 'b',color='red', label = 'Naive Bayes = %0.2f' % roc_auc4)\n",
    "plt.plot(rates2.fpr2, rates2.tpr2, 'b',color='grey', label = 'KNN = %0.2f' % roc_auc2)\n",
    "plt.plot(rates5.fpr5, rates5.tpr5, 'b',color='cyan', label = 'Decision Tree = %0.2f' % roc_auc5)\n",
    "plt.plot(rates6.fpr6, rates6.tpr6, 'b',color='blue',label = 'Logit = %0.2f' % roc_auc6)\n",
    "plt.plot([0, 1], [0, 1],'r--')\n",
    "plt.xlim([0, 1])\n",
    "plt.ylim([0, 1])\n",
    "plt.ylabel('True Positive Rate')\n",
    "plt.xlabel('False Positive Rate')\n",
    "plt.title('Pdox Model: Receiver Operating Characteristic')\n",
    "plt.legend(loc = 'lower right')\n",
    "plt.show()"
   ]
  },
  {
   "cell_type": "markdown",
   "metadata": {},
   "source": [
    "# over90"
   ]
  },
  {
   "cell_type": "code",
   "execution_count": 43,
   "metadata": {},
   "outputs": [
    {
     "data": {
      "text/plain": [
       "GaussianNB(priors=None, var_smoothing=1e-09)"
      ]
     },
     "execution_count": 43,
     "metadata": {},
     "output_type": "execute_result"
    }
   ],
   "source": [
    "#Fitting a Naive Bayes model\n",
    "bayes= GaussianNB()\n",
    "bayes.fit(X,Y1)"
   ]
  },
  {
   "cell_type": "code",
   "execution_count": 46,
   "metadata": {},
   "outputs": [],
   "source": [
    "# split training and test \n",
    "training_size = 1700\n",
    "Xtrain1, Xtest1, ytrain1, ytest1 = train_test_split(X, Y1, train_size=training_size, \n",
    "                                                test_size=X.shape[0]-training_size)                                                \n",
    "bayes.fit(Xtrain1, ytrain1)\n",
    "y_pred4 = bayes.predict(Xtest1)"
   ]
  },
  {
   "cell_type": "code",
   "execution_count": 47,
   "metadata": {},
   "outputs": [
    {
     "name": "stdout",
     "output_type": "stream",
     "text": [
      "AUC SVC:  0.9237389612333483\n"
     ]
    }
   ],
   "source": [
    "# true positives and false positives\n",
    "false_positive_rate4, true_positive_rate4, thresholds4 = roc_curve(ytest1, y_pred4, pos_label=1)\n",
    "rates4 = pd.DataFrame(dict(fpr4=false_positive_rate4, tpr4=true_positive_rate4))\n",
    "roc_auc4 = auc(rates4['fpr4'], rates4['tpr4'])\n",
    "print('AUC SVC: ', roc_auc4)"
   ]
  },
  {
   "cell_type": "code",
   "execution_count": 48,
   "metadata": {},
   "outputs": [],
   "source": [
    "dt = tree.DecisionTreeClassifier()"
   ]
  },
  {
   "cell_type": "code",
   "execution_count": 49,
   "metadata": {},
   "outputs": [
    {
     "data": {
      "text/plain": [
       "DecisionTreeClassifier(class_weight=None, criterion='gini', max_depth=None,\n",
       "            max_features=None, max_leaf_nodes=None,\n",
       "            min_impurity_decrease=0.0, min_impurity_split=None,\n",
       "            min_samples_leaf=1, min_samples_split=2,\n",
       "            min_weight_fraction_leaf=0.0, presort=False, random_state=None,\n",
       "            splitter='best')"
      ]
     },
     "execution_count": 49,
     "metadata": {},
     "output_type": "execute_result"
    }
   ],
   "source": [
    "dt.fit(X,Y1)"
   ]
  },
  {
   "cell_type": "code",
   "execution_count": 50,
   "metadata": {},
   "outputs": [
    {
     "data": {
      "text/plain": [
       "array([0.74874372, 0.8040201 , 0.82914573, 0.87939698, 0.93969849,\n",
       "       0.9798995 , 0.96969697, 0.96969697, 0.94923858, 0.85279188])"
      ]
     },
     "execution_count": 50,
     "metadata": {},
     "output_type": "execute_result"
    }
   ],
   "source": [
    "cross_val_score(dt, X, Y1, cv=10)"
   ]
  },
  {
   "cell_type": "code",
   "execution_count": 51,
   "metadata": {},
   "outputs": [],
   "source": [
    "dt.fit(Xtrain1, ytrain1)\n",
    "y_pred5 = dt.predict(Xtest1)"
   ]
  },
  {
   "cell_type": "code",
   "execution_count": 52,
   "metadata": {},
   "outputs": [
    {
     "name": "stdout",
     "output_type": "stream",
     "text": [
      "AUC SVC:  0.9346155765105024\n"
     ]
    }
   ],
   "source": [
    "# true positives and false positives\n",
    "false_positive_rate5, true_positive_rate5, thresholds5 = roc_curve(ytest1, y_pred5, pos_label=1)\n",
    "rates5 = pd.DataFrame(dict(fpr5=false_positive_rate5, tpr5=true_positive_rate5))\n",
    "roc_auc5 = auc(rates5['fpr5'], rates5['tpr5'])\n",
    "print('AUC SVC: ', roc_auc5)"
   ]
  },
  {
   "cell_type": "code",
   "execution_count": 53,
   "metadata": {},
   "outputs": [
    {
     "data": {
      "text/plain": [
       "LogisticRegression(C=1.0, class_weight=None, dual=False, fit_intercept=True,\n",
       "          intercept_scaling=1, max_iter=100, multi_class='warn',\n",
       "          n_jobs=None, penalty='l2', random_state=None, solver='liblinear',\n",
       "          tol=0.0001, verbose=0, warm_start=False)"
      ]
     },
     "execution_count": 53,
     "metadata": {},
     "output_type": "execute_result"
    }
   ],
   "source": [
    "#fit logit model\n",
    "logreg = LogisticRegression(solver='liblinear')\n",
    "logreg.fit(X,Y1)"
   ]
  },
  {
   "cell_type": "code",
   "execution_count": 54,
   "metadata": {},
   "outputs": [
    {
     "data": {
      "text/plain": [
       "array([0.92964824, 0.96984925, 0.9798995 , 0.96482412, 0.9798995 ,\n",
       "       1.        , 0.99494949, 0.99494949, 1.        , 0.99492386])"
      ]
     },
     "execution_count": 54,
     "metadata": {},
     "output_type": "execute_result"
    }
   ],
   "source": [
    "# Performing  10-fold cross-validation\n",
    "cross_val_score(logreg, X, Y1, cv=10)"
   ]
  },
  {
   "cell_type": "code",
   "execution_count": 55,
   "metadata": {},
   "outputs": [],
   "source": [
    "logreg.fit(Xtrain1, ytrain1)\n",
    "y_pred6 = logreg.predict(Xtest1)"
   ]
  },
  {
   "cell_type": "code",
   "execution_count": 56,
   "metadata": {},
   "outputs": [
    {
     "name": "stdout",
     "output_type": "stream",
     "text": [
      "AUC SVC:  0.9645761612533055\n"
     ]
    }
   ],
   "source": [
    "# true positives and false positives\n",
    "false_positive_rate6, true_positive_rate6, thresholds6 = roc_curve(ytest1, y_pred6, pos_label=1)\n",
    "rates6 = pd.DataFrame(dict(fpr6=false_positive_rate6, tpr6=true_positive_rate6))\n",
    "roc_auc6 = auc(rates6['fpr6'], rates6['tpr6'])\n",
    "print('AUC SVC: ', roc_auc6)"
   ]
  },
  {
   "cell_type": "code",
   "execution_count": 58,
   "metadata": {},
   "outputs": [],
   "source": [
    "# KNN\n",
    "# Test which k performs the best\n",
    "k_range = range(1,20)\n",
    "k_scores = []\n",
    "for k in k_range:\n",
    "    knn = KNeighborsClassifier(n_neighbors = k)\n",
    "    scores = cross_val_score(knn, X, Y1, cv=10, scoring = 'accuracy')\n",
    "    k_scores.append(scores.mean())"
   ]
  },
  {
   "cell_type": "code",
   "execution_count": 60,
   "metadata": {},
   "outputs": [],
   "source": [
    "knn = KNeighborsClassifier(n_neighbors = 5)\n",
    "knn.fit(Xtrain1, ytrain1)\n",
    "y_pred2 = knn.predict(Xtest1)"
   ]
  },
  {
   "cell_type": "code",
   "execution_count": 61,
   "metadata": {},
   "outputs": [
    {
     "name": "stdout",
     "output_type": "stream",
     "text": [
      "AUC SVC:  0.9335428828019757\n"
     ]
    }
   ],
   "source": [
    "# true positives and false positives\n",
    "false_positive_rate2, true_positive_rate2, thresholds2 = roc_curve(ytest1, y_pred2, pos_label=1)\n",
    "rates2 = pd.DataFrame(dict(fpr2=false_positive_rate2, tpr2=true_positive_rate2))\n",
    "roc_auc2 = auc(rates2['fpr2'], rates2['tpr2'])\n",
    "print('AUC SVC: ', roc_auc2)"
   ]
  },
  {
   "cell_type": "code",
   "execution_count": 62,
   "metadata": {},
   "outputs": [
    {
     "data": {
      "image/png": "[encoded data removed]",
      "text/plain": [
       "<Figure size 432x288 with 1 Axes>"
      ]
     },
     "metadata": {
      "needs_background": "light"
     },
     "output_type": "display_data"
    }
   ],
   "source": [
    "#ROC curve over90\n",
    "plt.plot(rates4.fpr4, rates4.tpr4, 'b',color='red', label = 'Naive Bayes = %0.2f' % roc_auc4)\n",
    "plt.plot(rates2.fpr2, rates2.tpr2, 'b',color='grey', label = 'KNN = %0.2f' % roc_auc2)\n",
    "plt.plot(rates5.fpr5, rates5.tpr5, 'b',color='cyan', label = 'Decision Tree = %0.2f' % roc_auc5)\n",
    "plt.plot(rates6.fpr6, rates6.tpr6, 'b',color='blue',label = 'Logit = %0.2f' % roc_auc6)\n",
    "plt.plot([0, 1], [0, 1],'r--')\n",
    "plt.xlim([0, 1])\n",
    "plt.ylim([0, 1])\n",
    "plt.ylabel('True Positive Rate')\n",
    "plt.xlabel('False Positive Rate')\n",
    "plt.title('Pdox Model: Receiver Operating Characteristic')\n",
    "plt.legend(loc = 'lower right')\n",
    "plt.show()"
   ]
  },
  {
   "cell_type": "code",
   "execution_count": null,
   "metadata": {},
   "outputs": [],
   "source": []
  }
 ],
 "metadata": {
  "kernelspec": {
   "display_name": "Python 3",
   "language": "python",
   "name": "python3"
  },
  "language_info": {
   "codemirror_mode": {
    "name": "ipython",
    "version": 3
   },
   "file_extension": ".py",
   "mimetype": "text/x-python",
   "name": "python",
   "nbconvert_exporter": "python",
   "pygments_lexer": "ipython3",
   "version": "3.7.2"
  }
 },
 "nbformat": 4,
 "nbformat_minor": 2
}
